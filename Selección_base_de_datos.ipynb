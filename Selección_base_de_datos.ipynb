{
  "nbformat": 4,
  "nbformat_minor": 0,
  "metadata": {
    "colab": {
      "provenance": [],
      "authorship_tag": "ABX9TyNHrqoJ+wpbWrAKxni2pPaC",
      "include_colab_link": true
    },
    "kernelspec": {
      "name": "python3",
      "display_name": "Python 3"
    },
    "language_info": {
      "name": "python"
    }
  },
  "cells": [
    {
      "cell_type": "markdown",
      "metadata": {
        "id": "view-in-github",
        "colab_type": "text"
      },
      "source": [
        "<a href=\"https://colab.research.google.com/github/CristobalSVM/Aprendizaje-Automatico/blob/main/Selecci%C3%B3n_base_de_datos.ipynb\" target=\"_parent\"><img src=\"https://colab.research.google.com/assets/colab-badge.svg\" alt=\"Open In Colab\"/></a>"
      ]
    },
    {
      "cell_type": "code",
      "execution_count": null,
      "metadata": {
        "id": "xTq3RTFFT4Bx"
      },
      "outputs": [],
      "source": [
        "# DEFINIR CONJUNTO DE DATOS\n",
        "\n",
        "La información a usar es de la Institución de Banca Múltiple Banregio S.A. la cual proviene de la Comisión\n",
        "Nacional Bancario y de Valores (CNBV) en el periodo de diciembre 2016 a diciembre 2021. La información se\n",
        "pública de forma mensual y los datos son de dos apartados: “Información de la Situación Financiera”\n",
        "el cual contiene información del balance financiero de la institución, e “Información Operativa: comisionistas,\n",
        "sucursales, número de cuentas y otros”, este apartado contiene la información de número de sucursales,\n",
        "número de tarjetas de crédito y número de cajeros.\n",
        "\n",
        "Las variables a utilizar son las siguientes:\n",
        "\n",
        "Activos: Agrupa todos los apartados que tiene la institución como activo, le generan ingresos y es numérica en pesos mexicanos.\n",
        "Captación Vista: Recolección de dinero del público o las organizaciones. De acuerdo con el tipo de cuenta que tenga el usuario, se podrán generar intereses.\n",
        "                 La variable es numérica en pesos mexicanos.\n",
        "Captación Plazo: Productos de inversión ofrecidos a los usuarios y es numérica en pesos mexicanos.\n",
        "Préstamos Interbancarios: Transacciones monetarias realizadasentre bancos y casas de bolsa. Variable numérica en pesos mexicanos.\n",
        "Sucursales: Número de sucursales. Variable númerica.\n",
        "Tarjetas de crédito: Número de tarjetas de crédito de todos los clientes. Variable númerica.\n",
        "Cajeros: Número de cajeros automáticos. Variable númerica.\n",
        "\n",
        "#JUSTIFICACIÓN\n",
        "\n",
        "La justificación de esta base de datos es porque es información pública y cumple con las Disposiciones aplicables de acuerdo con la CNBV, las cuales entregan las entidades \n",
        "supervisadas a través de los reportes regulatorios. Esta información es completa, correcta, precisa, integra, confiable y oportuna, además, la información cumple con las \n",
        "validaciones establecidas en el Sistema Interinstitucional de Transferencia de Información y los estándares de calidad que que la Comisión indica a través de dicho sistema.\n",
        "Existe consistencia entre la información que las entidades incluyan en uno o más reportes regulatorios, aunque se encuentre con un nivel distinto de desagregación, \n",
        "por lo que puede ser modificada derivado de las revisiones internas.\n",
        "\n",
        "\n",
        "# OBJETIVOS A LOGRAR EN EL CURSO\n",
        "\n",
        "El objetivo a lograr es la optimización de los activos de la institución de acuerdo a las variaciones de\n",
        "las variables regresoras ya que pueden causar brechas de liquidez las cuales se generan con las variaciones\n",
        "mensuales de estas variables y podrían hacer que no se pueda cumplir con las obligaciones presentes y\n",
        "futuras afectando la operativa diaria o las condiciones financieras de la institución."
      ]
    }
  ]
}