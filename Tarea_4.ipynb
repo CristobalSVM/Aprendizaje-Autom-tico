{
  "nbformat": 4,
  "nbformat_minor": 0,
  "metadata": {
    "colab": {
      "provenance": [],
      "authorship_tag": "ABX9TyO1e9A1Mj7RfkoTf72oYQ20",
      "include_colab_link": true
    },
    "kernelspec": {
      "name": "python3",
      "display_name": "Python 3"
    },
    "language_info": {
      "name": "python"
    }
  },
  "cells": [
    {
      "cell_type": "markdown",
      "metadata": {
        "id": "view-in-github",
        "colab_type": "text"
      },
      "source": [
        "<a href=\"https://colab.research.google.com/github/CristobalSVM/Aprendizaje-Automatico/blob/main/Tarea_4.ipynb\" target=\"_parent\"><img src=\"https://colab.research.google.com/assets/colab-badge.svg\" alt=\"Open In Colab\"/></a>"
      ]
    },
    {
      "cell_type": "code",
      "execution_count": 9,
      "metadata": {
        "colab": {
          "base_uri": "https://localhost:8080/",
          "height": 441
        },
        "id": "0NdXyYDitVki",
        "outputId": "615dd3e1-2194-4c42-8176-081bb46aa526"
      },
      "outputs": [
        {
          "output_type": "stream",
          "name": "stdout",
          "text": [
            "Mounted at /content/drive\n"
          ]
        },
        {
          "output_type": "execute_result",
          "data": {
            "text/plain": [
              "      id     fecha        activo         vista         plazo  \\\n",
              "0    1.0  201612.0  9.748517e+10  2.922565e+10  3.542812e+10   \n",
              "1    2.0  201701.0  9.912669e+10  2.913157e+10  3.661224e+10   \n",
              "2    3.0  201702.0  9.860860e+10  2.834034e+10  3.770951e+10   \n",
              "3    4.0  201703.0  9.858651e+10  2.855841e+10  3.813770e+10   \n",
              "4    5.0  201704.0  9.731282e+10  2.946925e+10  3.867970e+10   \n",
              "..   ...       ...           ...           ...           ...   \n",
              "56  57.0  202108.0  1.601921e+11  6.032032e+10  4.633195e+10   \n",
              "57  58.0  202109.0  1.600526e+11  6.118401e+10  4.541217e+10   \n",
              "58  59.0  202110.0  1.616247e+11  6.153808e+10  4.461547e+10   \n",
              "59  60.0  202111.0  1.643413e+11  6.303590e+10  4.425472e+10   \n",
              "60  61.0  202112.0  1.627420e+11  6.189489e+10  4.497188e+10   \n",
              "\n",
              "    prestamos interbancarios  sucursales  cajeros  tarjetas  \n",
              "0               6.761324e+09       147.0    274.0   75627.0  \n",
              "1               6.610840e+09       149.0    283.0   76116.0  \n",
              "2               6.352306e+09       149.0    282.0   77057.0  \n",
              "3               6.238445e+09       149.0    284.0   78379.0  \n",
              "4               6.377189e+09       149.0    283.0   79406.0  \n",
              "..                       ...         ...      ...       ...  \n",
              "56              4.434798e+09       169.0    351.0  205704.0  \n",
              "57              4.333770e+09       170.0    364.0  212165.0  \n",
              "58              4.450421e+09       157.0    349.0  219334.0  \n",
              "59              4.662185e+09       158.0    360.0  227138.0  \n",
              "60              4.796986e+09       173.0    378.0  229946.0  \n",
              "\n",
              "[61 rows x 9 columns]"
            ],
            "text/html": [
              "\n",
              "  <div id=\"df-e730f463-dcb1-444b-97cb-5be574f266cf\">\n",
              "    <div class=\"colab-df-container\">\n",
              "      <div>\n",
              "<style scoped>\n",
              "    .dataframe tbody tr th:only-of-type {\n",
              "        vertical-align: middle;\n",
              "    }\n",
              "\n",
              "    .dataframe tbody tr th {\n",
              "        vertical-align: top;\n",
              "    }\n",
              "\n",
              "    .dataframe thead th {\n",
              "        text-align: right;\n",
              "    }\n",
              "</style>\n",
              "<table border=\"1\" class=\"dataframe\">\n",
              "  <thead>\n",
              "    <tr style=\"text-align: right;\">\n",
              "      <th></th>\n",
              "      <th>id</th>\n",
              "      <th>fecha</th>\n",
              "      <th>activo</th>\n",
              "      <th>vista</th>\n",
              "      <th>plazo</th>\n",
              "      <th>prestamos interbancarios</th>\n",
              "      <th>sucursales</th>\n",
              "      <th>cajeros</th>\n",
              "      <th>tarjetas</th>\n",
              "    </tr>\n",
              "  </thead>\n",
              "  <tbody>\n",
              "    <tr>\n",
              "      <th>0</th>\n",
              "      <td>1.0</td>\n",
              "      <td>201612.0</td>\n",
              "      <td>9.748517e+10</td>\n",
              "      <td>2.922565e+10</td>\n",
              "      <td>3.542812e+10</td>\n",
              "      <td>6.761324e+09</td>\n",
              "      <td>147.0</td>\n",
              "      <td>274.0</td>\n",
              "      <td>75627.0</td>\n",
              "    </tr>\n",
              "    <tr>\n",
              "      <th>1</th>\n",
              "      <td>2.0</td>\n",
              "      <td>201701.0</td>\n",
              "      <td>9.912669e+10</td>\n",
              "      <td>2.913157e+10</td>\n",
              "      <td>3.661224e+10</td>\n",
              "      <td>6.610840e+09</td>\n",
              "      <td>149.0</td>\n",
              "      <td>283.0</td>\n",
              "      <td>76116.0</td>\n",
              "    </tr>\n",
              "    <tr>\n",
              "      <th>2</th>\n",
              "      <td>3.0</td>\n",
              "      <td>201702.0</td>\n",
              "      <td>9.860860e+10</td>\n",
              "      <td>2.834034e+10</td>\n",
              "      <td>3.770951e+10</td>\n",
              "      <td>6.352306e+09</td>\n",
              "      <td>149.0</td>\n",
              "      <td>282.0</td>\n",
              "      <td>77057.0</td>\n",
              "    </tr>\n",
              "    <tr>\n",
              "      <th>3</th>\n",
              "      <td>4.0</td>\n",
              "      <td>201703.0</td>\n",
              "      <td>9.858651e+10</td>\n",
              "      <td>2.855841e+10</td>\n",
              "      <td>3.813770e+10</td>\n",
              "      <td>6.238445e+09</td>\n",
              "      <td>149.0</td>\n",
              "      <td>284.0</td>\n",
              "      <td>78379.0</td>\n",
              "    </tr>\n",
              "    <tr>\n",
              "      <th>4</th>\n",
              "      <td>5.0</td>\n",
              "      <td>201704.0</td>\n",
              "      <td>9.731282e+10</td>\n",
              "      <td>2.946925e+10</td>\n",
              "      <td>3.867970e+10</td>\n",
              "      <td>6.377189e+09</td>\n",
              "      <td>149.0</td>\n",
              "      <td>283.0</td>\n",
              "      <td>79406.0</td>\n",
              "    </tr>\n",
              "    <tr>\n",
              "      <th>...</th>\n",
              "      <td>...</td>\n",
              "      <td>...</td>\n",
              "      <td>...</td>\n",
              "      <td>...</td>\n",
              "      <td>...</td>\n",
              "      <td>...</td>\n",
              "      <td>...</td>\n",
              "      <td>...</td>\n",
              "      <td>...</td>\n",
              "    </tr>\n",
              "    <tr>\n",
              "      <th>56</th>\n",
              "      <td>57.0</td>\n",
              "      <td>202108.0</td>\n",
              "      <td>1.601921e+11</td>\n",
              "      <td>6.032032e+10</td>\n",
              "      <td>4.633195e+10</td>\n",
              "      <td>4.434798e+09</td>\n",
              "      <td>169.0</td>\n",
              "      <td>351.0</td>\n",
              "      <td>205704.0</td>\n",
              "    </tr>\n",
              "    <tr>\n",
              "      <th>57</th>\n",
              "      <td>58.0</td>\n",
              "      <td>202109.0</td>\n",
              "      <td>1.600526e+11</td>\n",
              "      <td>6.118401e+10</td>\n",
              "      <td>4.541217e+10</td>\n",
              "      <td>4.333770e+09</td>\n",
              "      <td>170.0</td>\n",
              "      <td>364.0</td>\n",
              "      <td>212165.0</td>\n",
              "    </tr>\n",
              "    <tr>\n",
              "      <th>58</th>\n",
              "      <td>59.0</td>\n",
              "      <td>202110.0</td>\n",
              "      <td>1.616247e+11</td>\n",
              "      <td>6.153808e+10</td>\n",
              "      <td>4.461547e+10</td>\n",
              "      <td>4.450421e+09</td>\n",
              "      <td>157.0</td>\n",
              "      <td>349.0</td>\n",
              "      <td>219334.0</td>\n",
              "    </tr>\n",
              "    <tr>\n",
              "      <th>59</th>\n",
              "      <td>60.0</td>\n",
              "      <td>202111.0</td>\n",
              "      <td>1.643413e+11</td>\n",
              "      <td>6.303590e+10</td>\n",
              "      <td>4.425472e+10</td>\n",
              "      <td>4.662185e+09</td>\n",
              "      <td>158.0</td>\n",
              "      <td>360.0</td>\n",
              "      <td>227138.0</td>\n",
              "    </tr>\n",
              "    <tr>\n",
              "      <th>60</th>\n",
              "      <td>61.0</td>\n",
              "      <td>202112.0</td>\n",
              "      <td>1.627420e+11</td>\n",
              "      <td>6.189489e+10</td>\n",
              "      <td>4.497188e+10</td>\n",
              "      <td>4.796986e+09</td>\n",
              "      <td>173.0</td>\n",
              "      <td>378.0</td>\n",
              "      <td>229946.0</td>\n",
              "    </tr>\n",
              "  </tbody>\n",
              "</table>\n",
              "<p>61 rows × 9 columns</p>\n",
              "</div>\n",
              "      <button class=\"colab-df-convert\" onclick=\"convertToInteractive('df-e730f463-dcb1-444b-97cb-5be574f266cf')\"\n",
              "              title=\"Convert this dataframe to an interactive table.\"\n",
              "              style=\"display:none;\">\n",
              "        \n",
              "  <svg xmlns=\"http://www.w3.org/2000/svg\" height=\"24px\"viewBox=\"0 0 24 24\"\n",
              "       width=\"24px\">\n",
              "    <path d=\"M0 0h24v24H0V0z\" fill=\"none\"/>\n",
              "    <path d=\"M18.56 5.44l.94 2.06.94-2.06 2.06-.94-2.06-.94-.94-2.06-.94 2.06-2.06.94zm-11 1L8.5 8.5l.94-2.06 2.06-.94-2.06-.94L8.5 2.5l-.94 2.06-2.06.94zm10 10l.94 2.06.94-2.06 2.06-.94-2.06-.94-.94-2.06-.94 2.06-2.06.94z\"/><path d=\"M17.41 7.96l-1.37-1.37c-.4-.4-.92-.59-1.43-.59-.52 0-1.04.2-1.43.59L10.3 9.45l-7.72 7.72c-.78.78-.78 2.05 0 2.83L4 21.41c.39.39.9.59 1.41.59.51 0 1.02-.2 1.41-.59l7.78-7.78 2.81-2.81c.8-.78.8-2.07 0-2.86zM5.41 20L4 18.59l7.72-7.72 1.47 1.35L5.41 20z\"/>\n",
              "  </svg>\n",
              "      </button>\n",
              "      \n",
              "  <style>\n",
              "    .colab-df-container {\n",
              "      display:flex;\n",
              "      flex-wrap:wrap;\n",
              "      gap: 12px;\n",
              "    }\n",
              "\n",
              "    .colab-df-convert {\n",
              "      background-color: #E8F0FE;\n",
              "      border: none;\n",
              "      border-radius: 50%;\n",
              "      cursor: pointer;\n",
              "      display: none;\n",
              "      fill: #1967D2;\n",
              "      height: 32px;\n",
              "      padding: 0 0 0 0;\n",
              "      width: 32px;\n",
              "    }\n",
              "\n",
              "    .colab-df-convert:hover {\n",
              "      background-color: #E2EBFA;\n",
              "      box-shadow: 0px 1px 2px rgba(60, 64, 67, 0.3), 0px 1px 3px 1px rgba(60, 64, 67, 0.15);\n",
              "      fill: #174EA6;\n",
              "    }\n",
              "\n",
              "    [theme=dark] .colab-df-convert {\n",
              "      background-color: #3B4455;\n",
              "      fill: #D2E3FC;\n",
              "    }\n",
              "\n",
              "    [theme=dark] .colab-df-convert:hover {\n",
              "      background-color: #434B5C;\n",
              "      box-shadow: 0px 1px 3px 1px rgba(0, 0, 0, 0.15);\n",
              "      filter: drop-shadow(0px 1px 2px rgba(0, 0, 0, 0.3));\n",
              "      fill: #FFFFFF;\n",
              "    }\n",
              "  </style>\n",
              "\n",
              "      <script>\n",
              "        const buttonEl =\n",
              "          document.querySelector('#df-e730f463-dcb1-444b-97cb-5be574f266cf button.colab-df-convert');\n",
              "        buttonEl.style.display =\n",
              "          google.colab.kernel.accessAllowed ? 'block' : 'none';\n",
              "\n",
              "        async function convertToInteractive(key) {\n",
              "          const element = document.querySelector('#df-e730f463-dcb1-444b-97cb-5be574f266cf');\n",
              "          const dataTable =\n",
              "            await google.colab.kernel.invokeFunction('convertToInteractive',\n",
              "                                                     [key], {});\n",
              "          if (!dataTable) return;\n",
              "\n",
              "          const docLinkHtml = 'Like what you see? Visit the ' +\n",
              "            '<a target=\"_blank\" href=https://colab.research.google.com/notebooks/data_table.ipynb>data table notebook</a>'\n",
              "            + ' to learn more about interactive tables.';\n",
              "          element.innerHTML = '';\n",
              "          dataTable['output_type'] = 'display_data';\n",
              "          await google.colab.output.renderOutput(dataTable, element);\n",
              "          const docLink = document.createElement('div');\n",
              "          docLink.innerHTML = docLinkHtml;\n",
              "          element.appendChild(docLink);\n",
              "        }\n",
              "      </script>\n",
              "    </div>\n",
              "  </div>\n",
              "  "
            ]
          },
          "metadata": {},
          "execution_count": 9
        }
      ],
      "source": [
        "#Importar libreria para abrir xlsx o csv.\n",
        "import pandas as pd\n",
        "\n",
        "#Acceso a google drive\n",
        "from google.colab import files\n",
        "from google.colab import drive\n",
        "drive.mount('/content/drive')\n",
        "\n",
        "#Carga de base\n",
        "bd_BR = \"/content/drive/MyDrive/Tarea 2 BD_BR.xlsx\"\n",
        "df = pd.read_excel(bd_BR)\n",
        "df"
      ]
    },
    {
      "cell_type": "code",
      "source": [
        " # Cambiar tipo de variable \n",
        " convertir = {'id': int,\n",
        "                'fecha': int,\n",
        "                'sucursales': int,\n",
        "                'cajeros': int,\n",
        "                'tarjetas': int}  \n",
        "  \n",
        "df = df.astype(convertir)  \n",
        "\n",
        "# modificar columnas fecha, activo, vista, plazo, prestamos interbancarios para tener unidades de millones de pesos\n",
        "df['activo'] = df['activo']/1000000 \n",
        "df['vista'] = df['vista']/1000000\n",
        "df['plazo'] = df['plazo']/1000000\n",
        "df['prestamos interbancarios'] = df['prestamos interbancarios']/1000000\n",
        "df"
      ],
      "metadata": {
        "colab": {
          "base_uri": "https://localhost:8080/",
          "height": 423
        },
        "id": "nOhL4HcXtgG2",
        "outputId": "b7c7c298-4cad-481a-e9d9-cba6d29ba71c"
      },
      "execution_count": 10,
      "outputs": [
        {
          "output_type": "execute_result",
          "data": {
            "text/plain": [
              "    id   fecha         activo         vista         plazo  \\\n",
              "0    1  201612   97485.166229  29225.647457  35428.115940   \n",
              "1    2  201701   99126.687818  29131.569781  36612.242954   \n",
              "2    3  201702   98608.600975  28340.337574  37709.507528   \n",
              "3    4  201703   98586.509106  28558.414751  38137.700755   \n",
              "4    5  201704   97312.822576  29469.246336  38679.704639   \n",
              "..  ..     ...            ...           ...           ...   \n",
              "56  57  202108  160192.052221  60320.321810  46331.947444   \n",
              "57  58  202109  160052.609554  61184.005188  45412.168111   \n",
              "58  59  202110  161624.690860  61538.079059  44615.468429   \n",
              "59  60  202111  164341.303018  63035.903530  44254.716609   \n",
              "60  61  202112  162741.963452  61894.888487  44971.875448   \n",
              "\n",
              "    prestamos interbancarios  sucursales  cajeros  tarjetas  \n",
              "0                6761.324060         147      274     75627  \n",
              "1                6610.839888         149      283     76116  \n",
              "2                6352.305520         149      282     77057  \n",
              "3                6238.444715         149      284     78379  \n",
              "4                6377.189215         149      283     79406  \n",
              "..                       ...         ...      ...       ...  \n",
              "56               4434.797863         169      351    205704  \n",
              "57               4333.770086         170      364    212165  \n",
              "58               4450.421055         157      349    219334  \n",
              "59               4662.184942         158      360    227138  \n",
              "60               4796.986439         173      378    229946  \n",
              "\n",
              "[61 rows x 9 columns]"
            ],
            "text/html": [
              "\n",
              "  <div id=\"df-001c965f-becf-4f10-b726-44297cd7b260\">\n",
              "    <div class=\"colab-df-container\">\n",
              "      <div>\n",
              "<style scoped>\n",
              "    .dataframe tbody tr th:only-of-type {\n",
              "        vertical-align: middle;\n",
              "    }\n",
              "\n",
              "    .dataframe tbody tr th {\n",
              "        vertical-align: top;\n",
              "    }\n",
              "\n",
              "    .dataframe thead th {\n",
              "        text-align: right;\n",
              "    }\n",
              "</style>\n",
              "<table border=\"1\" class=\"dataframe\">\n",
              "  <thead>\n",
              "    <tr style=\"text-align: right;\">\n",
              "      <th></th>\n",
              "      <th>id</th>\n",
              "      <th>fecha</th>\n",
              "      <th>activo</th>\n",
              "      <th>vista</th>\n",
              "      <th>plazo</th>\n",
              "      <th>prestamos interbancarios</th>\n",
              "      <th>sucursales</th>\n",
              "      <th>cajeros</th>\n",
              "      <th>tarjetas</th>\n",
              "    </tr>\n",
              "  </thead>\n",
              "  <tbody>\n",
              "    <tr>\n",
              "      <th>0</th>\n",
              "      <td>1</td>\n",
              "      <td>201612</td>\n",
              "      <td>97485.166229</td>\n",
              "      <td>29225.647457</td>\n",
              "      <td>35428.115940</td>\n",
              "      <td>6761.324060</td>\n",
              "      <td>147</td>\n",
              "      <td>274</td>\n",
              "      <td>75627</td>\n",
              "    </tr>\n",
              "    <tr>\n",
              "      <th>1</th>\n",
              "      <td>2</td>\n",
              "      <td>201701</td>\n",
              "      <td>99126.687818</td>\n",
              "      <td>29131.569781</td>\n",
              "      <td>36612.242954</td>\n",
              "      <td>6610.839888</td>\n",
              "      <td>149</td>\n",
              "      <td>283</td>\n",
              "      <td>76116</td>\n",
              "    </tr>\n",
              "    <tr>\n",
              "      <th>2</th>\n",
              "      <td>3</td>\n",
              "      <td>201702</td>\n",
              "      <td>98608.600975</td>\n",
              "      <td>28340.337574</td>\n",
              "      <td>37709.507528</td>\n",
              "      <td>6352.305520</td>\n",
              "      <td>149</td>\n",
              "      <td>282</td>\n",
              "      <td>77057</td>\n",
              "    </tr>\n",
              "    <tr>\n",
              "      <th>3</th>\n",
              "      <td>4</td>\n",
              "      <td>201703</td>\n",
              "      <td>98586.509106</td>\n",
              "      <td>28558.414751</td>\n",
              "      <td>38137.700755</td>\n",
              "      <td>6238.444715</td>\n",
              "      <td>149</td>\n",
              "      <td>284</td>\n",
              "      <td>78379</td>\n",
              "    </tr>\n",
              "    <tr>\n",
              "      <th>4</th>\n",
              "      <td>5</td>\n",
              "      <td>201704</td>\n",
              "      <td>97312.822576</td>\n",
              "      <td>29469.246336</td>\n",
              "      <td>38679.704639</td>\n",
              "      <td>6377.189215</td>\n",
              "      <td>149</td>\n",
              "      <td>283</td>\n",
              "      <td>79406</td>\n",
              "    </tr>\n",
              "    <tr>\n",
              "      <th>...</th>\n",
              "      <td>...</td>\n",
              "      <td>...</td>\n",
              "      <td>...</td>\n",
              "      <td>...</td>\n",
              "      <td>...</td>\n",
              "      <td>...</td>\n",
              "      <td>...</td>\n",
              "      <td>...</td>\n",
              "      <td>...</td>\n",
              "    </tr>\n",
              "    <tr>\n",
              "      <th>56</th>\n",
              "      <td>57</td>\n",
              "      <td>202108</td>\n",
              "      <td>160192.052221</td>\n",
              "      <td>60320.321810</td>\n",
              "      <td>46331.947444</td>\n",
              "      <td>4434.797863</td>\n",
              "      <td>169</td>\n",
              "      <td>351</td>\n",
              "      <td>205704</td>\n",
              "    </tr>\n",
              "    <tr>\n",
              "      <th>57</th>\n",
              "      <td>58</td>\n",
              "      <td>202109</td>\n",
              "      <td>160052.609554</td>\n",
              "      <td>61184.005188</td>\n",
              "      <td>45412.168111</td>\n",
              "      <td>4333.770086</td>\n",
              "      <td>170</td>\n",
              "      <td>364</td>\n",
              "      <td>212165</td>\n",
              "    </tr>\n",
              "    <tr>\n",
              "      <th>58</th>\n",
              "      <td>59</td>\n",
              "      <td>202110</td>\n",
              "      <td>161624.690860</td>\n",
              "      <td>61538.079059</td>\n",
              "      <td>44615.468429</td>\n",
              "      <td>4450.421055</td>\n",
              "      <td>157</td>\n",
              "      <td>349</td>\n",
              "      <td>219334</td>\n",
              "    </tr>\n",
              "    <tr>\n",
              "      <th>59</th>\n",
              "      <td>60</td>\n",
              "      <td>202111</td>\n",
              "      <td>164341.303018</td>\n",
              "      <td>63035.903530</td>\n",
              "      <td>44254.716609</td>\n",
              "      <td>4662.184942</td>\n",
              "      <td>158</td>\n",
              "      <td>360</td>\n",
              "      <td>227138</td>\n",
              "    </tr>\n",
              "    <tr>\n",
              "      <th>60</th>\n",
              "      <td>61</td>\n",
              "      <td>202112</td>\n",
              "      <td>162741.963452</td>\n",
              "      <td>61894.888487</td>\n",
              "      <td>44971.875448</td>\n",
              "      <td>4796.986439</td>\n",
              "      <td>173</td>\n",
              "      <td>378</td>\n",
              "      <td>229946</td>\n",
              "    </tr>\n",
              "  </tbody>\n",
              "</table>\n",
              "<p>61 rows × 9 columns</p>\n",
              "</div>\n",
              "      <button class=\"colab-df-convert\" onclick=\"convertToInteractive('df-001c965f-becf-4f10-b726-44297cd7b260')\"\n",
              "              title=\"Convert this dataframe to an interactive table.\"\n",
              "              style=\"display:none;\">\n",
              "        \n",
              "  <svg xmlns=\"http://www.w3.org/2000/svg\" height=\"24px\"viewBox=\"0 0 24 24\"\n",
              "       width=\"24px\">\n",
              "    <path d=\"M0 0h24v24H0V0z\" fill=\"none\"/>\n",
              "    <path d=\"M18.56 5.44l.94 2.06.94-2.06 2.06-.94-2.06-.94-.94-2.06-.94 2.06-2.06.94zm-11 1L8.5 8.5l.94-2.06 2.06-.94-2.06-.94L8.5 2.5l-.94 2.06-2.06.94zm10 10l.94 2.06.94-2.06 2.06-.94-2.06-.94-.94-2.06-.94 2.06-2.06.94z\"/><path d=\"M17.41 7.96l-1.37-1.37c-.4-.4-.92-.59-1.43-.59-.52 0-1.04.2-1.43.59L10.3 9.45l-7.72 7.72c-.78.78-.78 2.05 0 2.83L4 21.41c.39.39.9.59 1.41.59.51 0 1.02-.2 1.41-.59l7.78-7.78 2.81-2.81c.8-.78.8-2.07 0-2.86zM5.41 20L4 18.59l7.72-7.72 1.47 1.35L5.41 20z\"/>\n",
              "  </svg>\n",
              "      </button>\n",
              "      \n",
              "  <style>\n",
              "    .colab-df-container {\n",
              "      display:flex;\n",
              "      flex-wrap:wrap;\n",
              "      gap: 12px;\n",
              "    }\n",
              "\n",
              "    .colab-df-convert {\n",
              "      background-color: #E8F0FE;\n",
              "      border: none;\n",
              "      border-radius: 50%;\n",
              "      cursor: pointer;\n",
              "      display: none;\n",
              "      fill: #1967D2;\n",
              "      height: 32px;\n",
              "      padding: 0 0 0 0;\n",
              "      width: 32px;\n",
              "    }\n",
              "\n",
              "    .colab-df-convert:hover {\n",
              "      background-color: #E2EBFA;\n",
              "      box-shadow: 0px 1px 2px rgba(60, 64, 67, 0.3), 0px 1px 3px 1px rgba(60, 64, 67, 0.15);\n",
              "      fill: #174EA6;\n",
              "    }\n",
              "\n",
              "    [theme=dark] .colab-df-convert {\n",
              "      background-color: #3B4455;\n",
              "      fill: #D2E3FC;\n",
              "    }\n",
              "\n",
              "    [theme=dark] .colab-df-convert:hover {\n",
              "      background-color: #434B5C;\n",
              "      box-shadow: 0px 1px 3px 1px rgba(0, 0, 0, 0.15);\n",
              "      filter: drop-shadow(0px 1px 2px rgba(0, 0, 0, 0.3));\n",
              "      fill: #FFFFFF;\n",
              "    }\n",
              "  </style>\n",
              "\n",
              "      <script>\n",
              "        const buttonEl =\n",
              "          document.querySelector('#df-001c965f-becf-4f10-b726-44297cd7b260 button.colab-df-convert');\n",
              "        buttonEl.style.display =\n",
              "          google.colab.kernel.accessAllowed ? 'block' : 'none';\n",
              "\n",
              "        async function convertToInteractive(key) {\n",
              "          const element = document.querySelector('#df-001c965f-becf-4f10-b726-44297cd7b260');\n",
              "          const dataTable =\n",
              "            await google.colab.kernel.invokeFunction('convertToInteractive',\n",
              "                                                     [key], {});\n",
              "          if (!dataTable) return;\n",
              "\n",
              "          const docLinkHtml = 'Like what you see? Visit the ' +\n",
              "            '<a target=\"_blank\" href=https://colab.research.google.com/notebooks/data_table.ipynb>data table notebook</a>'\n",
              "            + ' to learn more about interactive tables.';\n",
              "          element.innerHTML = '';\n",
              "          dataTable['output_type'] = 'display_data';\n",
              "          await google.colab.output.renderOutput(dataTable, element);\n",
              "          const docLink = document.createElement('div');\n",
              "          docLink.innerHTML = docLinkHtml;\n",
              "          element.appendChild(docLink);\n",
              "        }\n",
              "      </script>\n",
              "    </div>\n",
              "  </div>\n",
              "  "
            ]
          },
          "metadata": {},
          "execution_count": 10
        }
      ]
    },
    {
      "cell_type": "markdown",
      "source": [
        "# Tarea en clase (2 puntos)\n",
        "# Aplica algún método de filtro a tus datos mediante el uso de SelectKBest"
      ],
      "metadata": {
        "id": "PVemkFXyD6Bn"
      }
    },
    {
      "cell_type": "code",
      "source": [
        "# Aplica algún método de filtro a tus datos mediante el uso de SelectKBest\n",
        "\n",
        "# ANOVA de valor F\n",
        "\n",
        "import pandas as pd\n",
        "\n",
        "import matplotlib.pyplot as plt\n",
        "\n",
        "# Ignorar advertencias\n",
        "import warnings\n",
        "warnings.filterwarnings('ignore')\n",
        "\n",
        "y = df[['activo']]\n",
        "x = df[['vista','plazo','prestamos interbancarios','sucursales','cajeros','tarjetas']]\n",
        "\n"
      ],
      "metadata": {
        "id": "PQlpEf9gt6mW"
      },
      "execution_count": 11,
      "outputs": []
    },
    {
      "cell_type": "code",
      "source": [
        "#Calcular valor F\n",
        "\n",
        "from sklearn.feature_selection import f_regression\n",
        "\n",
        "f = f_regression(x, y)\n",
        "# Regresa arreglo de estadístico F y valor p\n",
        "f"
      ],
      "metadata": {
        "colab": {
          "base_uri": "https://localhost:8080/"
        },
        "id": "Uv6-744Tv8nO",
        "outputId": "1b5baa25-126f-40c6-db93-11776db4c6bf"
      },
      "execution_count": 12,
      "outputs": [
        {
          "output_type": "execute_result",
          "data": {
            "text/plain": [
              "(array([410.94905999,  15.47273048,   7.37113188, 357.77774154,\n",
              "        349.4926592 , 282.24365219]),\n",
              " array([2.86698257e-28, 2.22938370e-04, 8.67895560e-03, 9.99088770e-27,\n",
              "        1.80947167e-26, 3.70806303e-24]))"
            ]
          },
          "metadata": {},
          "execution_count": 12
        }
      ]
    },
    {
      "cell_type": "code",
      "source": [
        "# Tabla de resultados F\n",
        "df_f = pd.DataFrame(f[0], index=x.columns)\n",
        "df_f.columns = ['f']\n",
        "df_f.sort_values('f', inplace = True, ascending = False)\n",
        "df_f"
      ],
      "metadata": {
        "colab": {
          "base_uri": "https://localhost:8080/",
          "height": 237
        },
        "id": "VGojFXThw4c6",
        "outputId": "806df527-c4c0-47ed-eeaf-fc64f25d6649"
      },
      "execution_count": 16,
      "outputs": [
        {
          "output_type": "execute_result",
          "data": {
            "text/plain": [
              "                                   f\n",
              "vista                     410.949060\n",
              "sucursales                357.777742\n",
              "cajeros                   349.492659\n",
              "tarjetas                  282.243652\n",
              "plazo                      15.472730\n",
              "prestamos interbancarios    7.371132"
            ],
            "text/html": [
              "\n",
              "  <div id=\"df-98ea410a-d43f-416f-8b88-54d2bf4f1edb\">\n",
              "    <div class=\"colab-df-container\">\n",
              "      <div>\n",
              "<style scoped>\n",
              "    .dataframe tbody tr th:only-of-type {\n",
              "        vertical-align: middle;\n",
              "    }\n",
              "\n",
              "    .dataframe tbody tr th {\n",
              "        vertical-align: top;\n",
              "    }\n",
              "\n",
              "    .dataframe thead th {\n",
              "        text-align: right;\n",
              "    }\n",
              "</style>\n",
              "<table border=\"1\" class=\"dataframe\">\n",
              "  <thead>\n",
              "    <tr style=\"text-align: right;\">\n",
              "      <th></th>\n",
              "      <th>f</th>\n",
              "    </tr>\n",
              "  </thead>\n",
              "  <tbody>\n",
              "    <tr>\n",
              "      <th>vista</th>\n",
              "      <td>410.949060</td>\n",
              "    </tr>\n",
              "    <tr>\n",
              "      <th>sucursales</th>\n",
              "      <td>357.777742</td>\n",
              "    </tr>\n",
              "    <tr>\n",
              "      <th>cajeros</th>\n",
              "      <td>349.492659</td>\n",
              "    </tr>\n",
              "    <tr>\n",
              "      <th>tarjetas</th>\n",
              "      <td>282.243652</td>\n",
              "    </tr>\n",
              "    <tr>\n",
              "      <th>plazo</th>\n",
              "      <td>15.472730</td>\n",
              "    </tr>\n",
              "    <tr>\n",
              "      <th>prestamos interbancarios</th>\n",
              "      <td>7.371132</td>\n",
              "    </tr>\n",
              "  </tbody>\n",
              "</table>\n",
              "</div>\n",
              "      <button class=\"colab-df-convert\" onclick=\"convertToInteractive('df-98ea410a-d43f-416f-8b88-54d2bf4f1edb')\"\n",
              "              title=\"Convert this dataframe to an interactive table.\"\n",
              "              style=\"display:none;\">\n",
              "        \n",
              "  <svg xmlns=\"http://www.w3.org/2000/svg\" height=\"24px\"viewBox=\"0 0 24 24\"\n",
              "       width=\"24px\">\n",
              "    <path d=\"M0 0h24v24H0V0z\" fill=\"none\"/>\n",
              "    <path d=\"M18.56 5.44l.94 2.06.94-2.06 2.06-.94-2.06-.94-.94-2.06-.94 2.06-2.06.94zm-11 1L8.5 8.5l.94-2.06 2.06-.94-2.06-.94L8.5 2.5l-.94 2.06-2.06.94zm10 10l.94 2.06.94-2.06 2.06-.94-2.06-.94-.94-2.06-.94 2.06-2.06.94z\"/><path d=\"M17.41 7.96l-1.37-1.37c-.4-.4-.92-.59-1.43-.59-.52 0-1.04.2-1.43.59L10.3 9.45l-7.72 7.72c-.78.78-.78 2.05 0 2.83L4 21.41c.39.39.9.59 1.41.59.51 0 1.02-.2 1.41-.59l7.78-7.78 2.81-2.81c.8-.78.8-2.07 0-2.86zM5.41 20L4 18.59l7.72-7.72 1.47 1.35L5.41 20z\"/>\n",
              "  </svg>\n",
              "      </button>\n",
              "      \n",
              "  <style>\n",
              "    .colab-df-container {\n",
              "      display:flex;\n",
              "      flex-wrap:wrap;\n",
              "      gap: 12px;\n",
              "    }\n",
              "\n",
              "    .colab-df-convert {\n",
              "      background-color: #E8F0FE;\n",
              "      border: none;\n",
              "      border-radius: 50%;\n",
              "      cursor: pointer;\n",
              "      display: none;\n",
              "      fill: #1967D2;\n",
              "      height: 32px;\n",
              "      padding: 0 0 0 0;\n",
              "      width: 32px;\n",
              "    }\n",
              "\n",
              "    .colab-df-convert:hover {\n",
              "      background-color: #E2EBFA;\n",
              "      box-shadow: 0px 1px 2px rgba(60, 64, 67, 0.3), 0px 1px 3px 1px rgba(60, 64, 67, 0.15);\n",
              "      fill: #174EA6;\n",
              "    }\n",
              "\n",
              "    [theme=dark] .colab-df-convert {\n",
              "      background-color: #3B4455;\n",
              "      fill: #D2E3FC;\n",
              "    }\n",
              "\n",
              "    [theme=dark] .colab-df-convert:hover {\n",
              "      background-color: #434B5C;\n",
              "      box-shadow: 0px 1px 3px 1px rgba(0, 0, 0, 0.15);\n",
              "      filter: drop-shadow(0px 1px 2px rgba(0, 0, 0, 0.3));\n",
              "      fill: #FFFFFF;\n",
              "    }\n",
              "  </style>\n",
              "\n",
              "      <script>\n",
              "        const buttonEl =\n",
              "          document.querySelector('#df-98ea410a-d43f-416f-8b88-54d2bf4f1edb button.colab-df-convert');\n",
              "        buttonEl.style.display =\n",
              "          google.colab.kernel.accessAllowed ? 'block' : 'none';\n",
              "\n",
              "        async function convertToInteractive(key) {\n",
              "          const element = document.querySelector('#df-98ea410a-d43f-416f-8b88-54d2bf4f1edb');\n",
              "          const dataTable =\n",
              "            await google.colab.kernel.invokeFunction('convertToInteractive',\n",
              "                                                     [key], {});\n",
              "          if (!dataTable) return;\n",
              "\n",
              "          const docLinkHtml = 'Like what you see? Visit the ' +\n",
              "            '<a target=\"_blank\" href=https://colab.research.google.com/notebooks/data_table.ipynb>data table notebook</a>'\n",
              "            + ' to learn more about interactive tables.';\n",
              "          element.innerHTML = '';\n",
              "          dataTable['output_type'] = 'display_data';\n",
              "          await google.colab.output.renderOutput(dataTable, element);\n",
              "          const docLink = document.createElement('div');\n",
              "          docLink.innerHTML = docLinkHtml;\n",
              "          element.appendChild(docLink);\n",
              "        }\n",
              "      </script>\n",
              "    </div>\n",
              "  </div>\n",
              "  "
            ]
          },
          "metadata": {},
          "execution_count": 16
        }
      ]
    },
    {
      "cell_type": "code",
      "source": [
        "# Gráfica de barras del valor F\n",
        "plt.figure()\n",
        "plt.bar(df_f.index, df_f.f)\n",
        "plt.show()"
      ],
      "metadata": {
        "colab": {
          "base_uri": "https://localhost:8080/",
          "height": 265
        },
        "id": "1HDnMtPvxLCg",
        "outputId": "4b9e608a-6c50-470b-ea6c-fbb76a2074cc"
      },
      "execution_count": 17,
      "outputs": [
        {
          "output_type": "display_data",
          "data": {
            "text/plain": [
              "<Figure size 432x288 with 1 Axes>"
            ],
            "image/png": "[encoded data removed]"
          },
          "metadata": {
            "needs_background": "light"
          }
        }
      ]
    },
    {
      "cell_type": "markdown",
      "source": [
        "Las variables vista, sucursales, cajeros y tarjetas estan más relacionadas linealmente con la variable respuesta activo, por lo tanto, estas 4 variables son las seleccionadas.\n",
        "\n",
        "Las variables plazo y prestamos interbancarios quedan fuera del nuevo conjunto de datos."
      ],
      "metadata": {
        "id": "INf9XBg6xdXO"
      }
    },
    {
      "cell_type": "code",
      "source": [
        "df_nuevo = df[['activo','vista','sucursales','cajeros','tarjetas']]\n",
        "df_nuevo"
      ],
      "metadata": {
        "colab": {
          "base_uri": "https://localhost:8080/",
          "height": 423
        },
        "id": "mBWYirtc2oBw",
        "outputId": "7905c630-092d-40fc-845e-e5b3b1d14d18"
      },
      "execution_count": 18,
      "outputs": [
        {
          "output_type": "execute_result",
          "data": {
            "text/plain": [
              "           activo         vista  sucursales  cajeros  tarjetas\n",
              "0    97485.166229  29225.647457         147      274     75627\n",
              "1    99126.687818  29131.569781         149      283     76116\n",
              "2    98608.600975  28340.337574         149      282     77057\n",
              "3    98586.509106  28558.414751         149      284     78379\n",
              "4    97312.822576  29469.246336         149      283     79406\n",
              "..            ...           ...         ...      ...       ...\n",
              "56  160192.052221  60320.321810         169      351    205704\n",
              "57  160052.609554  61184.005188         170      364    212165\n",
              "58  161624.690860  61538.079059         157      349    219334\n",
              "59  164341.303018  63035.903530         158      360    227138\n",
              "60  162741.963452  61894.888487         173      378    229946\n",
              "\n",
              "[61 rows x 5 columns]"
            ],
            "text/html": [
              "\n",
              "  <div id=\"df-659603a0-bd0b-4c85-ba0a-d8a2ae78a4fa\">\n",
              "    <div class=\"colab-df-container\">\n",
              "      <div>\n",
              "<style scoped>\n",
              "    .dataframe tbody tr th:only-of-type {\n",
              "        vertical-align: middle;\n",
              "    }\n",
              "\n",
              "    .dataframe tbody tr th {\n",
              "        vertical-align: top;\n",
              "    }\n",
              "\n",
              "    .dataframe thead th {\n",
              "        text-align: right;\n",
              "    }\n",
              "</style>\n",
              "<table border=\"1\" class=\"dataframe\">\n",
              "  <thead>\n",
              "    <tr style=\"text-align: right;\">\n",
              "      <th></th>\n",
              "      <th>activo</th>\n",
              "      <th>vista</th>\n",
              "      <th>sucursales</th>\n",
              "      <th>cajeros</th>\n",
              "      <th>tarjetas</th>\n",
              "    </tr>\n",
              "  </thead>\n",
              "  <tbody>\n",
              "    <tr>\n",
              "      <th>0</th>\n",
              "      <td>97485.166229</td>\n",
              "      <td>29225.647457</td>\n",
              "      <td>147</td>\n",
              "      <td>274</td>\n",
              "      <td>75627</td>\n",
              "    </tr>\n",
              "    <tr>\n",
              "      <th>1</th>\n",
              "      <td>99126.687818</td>\n",
              "      <td>29131.569781</td>\n",
              "      <td>149</td>\n",
              "      <td>283</td>\n",
              "      <td>76116</td>\n",
              "    </tr>\n",
              "    <tr>\n",
              "      <th>2</th>\n",
              "      <td>98608.600975</td>\n",
              "      <td>28340.337574</td>\n",
              "      <td>149</td>\n",
              "      <td>282</td>\n",
              "      <td>77057</td>\n",
              "    </tr>\n",
              "    <tr>\n",
              "      <th>3</th>\n",
              "      <td>98586.509106</td>\n",
              "      <td>28558.414751</td>\n",
              "      <td>149</td>\n",
              "      <td>284</td>\n",
              "      <td>78379</td>\n",
              "    </tr>\n",
              "    <tr>\n",
              "      <th>4</th>\n",
              "      <td>97312.822576</td>\n",
              "      <td>29469.246336</td>\n",
              "      <td>149</td>\n",
              "      <td>283</td>\n",
              "      <td>79406</td>\n",
              "    </tr>\n",
              "    <tr>\n",
              "      <th>...</th>\n",
              "      <td>...</td>\n",
              "      <td>...</td>\n",
              "      <td>...</td>\n",
              "      <td>...</td>\n",
              "      <td>...</td>\n",
              "    </tr>\n",
              "    <tr>\n",
              "      <th>56</th>\n",
              "      <td>160192.052221</td>\n",
              "      <td>60320.321810</td>\n",
              "      <td>169</td>\n",
              "      <td>351</td>\n",
              "      <td>205704</td>\n",
              "    </tr>\n",
              "    <tr>\n",
              "      <th>57</th>\n",
              "      <td>160052.609554</td>\n",
              "      <td>61184.005188</td>\n",
              "      <td>170</td>\n",
              "      <td>364</td>\n",
              "      <td>212165</td>\n",
              "    </tr>\n",
              "    <tr>\n",
              "      <th>58</th>\n",
              "      <td>161624.690860</td>\n",
              "      <td>61538.079059</td>\n",
              "      <td>157</td>\n",
              "      <td>349</td>\n",
              "      <td>219334</td>\n",
              "    </tr>\n",
              "    <tr>\n",
              "      <th>59</th>\n",
              "      <td>164341.303018</td>\n",
              "      <td>63035.903530</td>\n",
              "      <td>158</td>\n",
              "      <td>360</td>\n",
              "      <td>227138</td>\n",
              "    </tr>\n",
              "    <tr>\n",
              "      <th>60</th>\n",
              "      <td>162741.963452</td>\n",
              "      <td>61894.888487</td>\n",
              "      <td>173</td>\n",
              "      <td>378</td>\n",
              "      <td>229946</td>\n",
              "    </tr>\n",
              "  </tbody>\n",
              "</table>\n",
              "<p>61 rows × 5 columns</p>\n",
              "</div>\n",
              "      <button class=\"colab-df-convert\" onclick=\"convertToInteractive('df-659603a0-bd0b-4c85-ba0a-d8a2ae78a4fa')\"\n",
              "              title=\"Convert this dataframe to an interactive table.\"\n",
              "              style=\"display:none;\">\n",
              "        \n",
              "  <svg xmlns=\"http://www.w3.org/2000/svg\" height=\"24px\"viewBox=\"0 0 24 24\"\n",
              "       width=\"24px\">\n",
              "    <path d=\"M0 0h24v24H0V0z\" fill=\"none\"/>\n",
              "    <path d=\"M18.56 5.44l.94 2.06.94-2.06 2.06-.94-2.06-.94-.94-2.06-.94 2.06-2.06.94zm-11 1L8.5 8.5l.94-2.06 2.06-.94-2.06-.94L8.5 2.5l-.94 2.06-2.06.94zm10 10l.94 2.06.94-2.06 2.06-.94-2.06-.94-.94-2.06-.94 2.06-2.06.94z\"/><path d=\"M17.41 7.96l-1.37-1.37c-.4-.4-.92-.59-1.43-.59-.52 0-1.04.2-1.43.59L10.3 9.45l-7.72 7.72c-.78.78-.78 2.05 0 2.83L4 21.41c.39.39.9.59 1.41.59.51 0 1.02-.2 1.41-.59l7.78-7.78 2.81-2.81c.8-.78.8-2.07 0-2.86zM5.41 20L4 18.59l7.72-7.72 1.47 1.35L5.41 20z\"/>\n",
              "  </svg>\n",
              "      </button>\n",
              "      \n",
              "  <style>\n",
              "    .colab-df-container {\n",
              "      display:flex;\n",
              "      flex-wrap:wrap;\n",
              "      gap: 12px;\n",
              "    }\n",
              "\n",
              "    .colab-df-convert {\n",
              "      background-color: #E8F0FE;\n",
              "      border: none;\n",
              "      border-radius: 50%;\n",
              "      cursor: pointer;\n",
              "      display: none;\n",
              "      fill: #1967D2;\n",
              "      height: 32px;\n",
              "      padding: 0 0 0 0;\n",
              "      width: 32px;\n",
              "    }\n",
              "\n",
              "    .colab-df-convert:hover {\n",
              "      background-color: #E2EBFA;\n",
              "      box-shadow: 0px 1px 2px rgba(60, 64, 67, 0.3), 0px 1px 3px 1px rgba(60, 64, 67, 0.15);\n",
              "      fill: #174EA6;\n",
              "    }\n",
              "\n",
              "    [theme=dark] .colab-df-convert {\n",
              "      background-color: #3B4455;\n",
              "      fill: #D2E3FC;\n",
              "    }\n",
              "\n",
              "    [theme=dark] .colab-df-convert:hover {\n",
              "      background-color: #434B5C;\n",
              "      box-shadow: 0px 1px 3px 1px rgba(0, 0, 0, 0.15);\n",
              "      filter: drop-shadow(0px 1px 2px rgba(0, 0, 0, 0.3));\n",
              "      fill: #FFFFFF;\n",
              "    }\n",
              "  </style>\n",
              "\n",
              "      <script>\n",
              "        const buttonEl =\n",
              "          document.querySelector('#df-659603a0-bd0b-4c85-ba0a-d8a2ae78a4fa button.colab-df-convert');\n",
              "        buttonEl.style.display =\n",
              "          google.colab.kernel.accessAllowed ? 'block' : 'none';\n",
              "\n",
              "        async function convertToInteractive(key) {\n",
              "          const element = document.querySelector('#df-659603a0-bd0b-4c85-ba0a-d8a2ae78a4fa');\n",
              "          const dataTable =\n",
              "            await google.colab.kernel.invokeFunction('convertToInteractive',\n",
              "                                                     [key], {});\n",
              "          if (!dataTable) return;\n",
              "\n",
              "          const docLinkHtml = 'Like what you see? Visit the ' +\n",
              "            '<a target=\"_blank\" href=https://colab.research.google.com/notebooks/data_table.ipynb>data table notebook</a>'\n",
              "            + ' to learn more about interactive tables.';\n",
              "          element.innerHTML = '';\n",
              "          dataTable['output_type'] = 'display_data';\n",
              "          await google.colab.output.renderOutput(dataTable, element);\n",
              "          const docLink = document.createElement('div');\n",
              "          docLink.innerHTML = docLinkHtml;\n",
              "          element.appendChild(docLink);\n",
              "        }\n",
              "      </script>\n",
              "    </div>\n",
              "  </div>\n",
              "  "
            ]
          },
          "metadata": {},
          "execution_count": 18
        }
      ]
    },
    {
      "cell_type": "markdown",
      "source": [],
      "metadata": {
        "id": "iFWq8iisDx0b"
      }
    },
    {
      "cell_type": "markdown",
      "source": [
        "# Valor R de correlación"
      ],
      "metadata": {
        "id": "DBF6wfIjEDSt"
      }
    },
    {
      "cell_type": "code",
      "source": [
        "from sklearn.feature_selection import r_regression"
      ],
      "metadata": {
        "id": "HyJJ4xTTDxIa"
      },
      "execution_count": 19,
      "outputs": []
    },
    {
      "cell_type": "code",
      "source": [
        "r_value = r_regression(x, y)\n",
        "r_value"
      ],
      "metadata": {
        "colab": {
          "base_uri": "https://localhost:8080/"
        },
        "id": "lez8SL6aFAdW",
        "outputId": "16a265fb-53b3-4fd4-ab3d-9db76af3e0a0"
      },
      "execution_count": 20,
      "outputs": [
        {
          "output_type": "execute_result",
          "data": {
            "text/plain": [
              "array([ 0.93512271,  0.45581104, -0.33325562,  0.92651915,  0.92496841,\n",
              "        0.90945204])"
            ]
          },
          "metadata": {},
          "execution_count": 20
        }
      ]
    },
    {
      "cell_type": "code",
      "source": [
        "df_f['r_value'] = r_value\n",
        "colors = []\n",
        "for v in df_f['r_value']:\n",
        "    if v > 0:\n",
        "        colors.append('b')\n",
        "    else:\n",
        "        colors.append('r')"
      ],
      "metadata": {
        "id": "3kcuBcUKFYsg"
      },
      "execution_count": 21,
      "outputs": []
    },
    {
      "cell_type": "code",
      "source": [
        "df_f['r_value_abs'] = df_f['r_value'].abs()\n",
        "df_f.sort_values('r_value_abs', inplace = True, ascending = False)\n",
        "plt.figure()\n",
        "plt.bar(df_f.index, df_f.r_value_abs, color = colors)\n",
        "plt.show()"
      ],
      "metadata": {
        "colab": {
          "base_uri": "https://localhost:8080/",
          "height": 265
        },
        "id": "9bF2awgqFbUH",
        "outputId": "09a4da5c-b063-4f70-9d10-39dfab663d03"
      },
      "execution_count": 22,
      "outputs": [
        {
          "output_type": "display_data",
          "data": {
            "text/plain": [
              "<Figure size 432x288 with 1 Axes>"
            ],
            "image/png": "[encoded data removed]"
          },
          "metadata": {
            "needs_background": "light"
          }
        }
      ]
    },
    {
      "cell_type": "markdown",
      "source": [
        "# Umbral de varianza"
      ],
      "metadata": {
        "id": "T9-byS-dELGN"
      }
    },
    {
      "cell_type": "code",
      "source": [
        "# Normalización de variables\n",
        "from sklearn.preprocessing import MinMaxScaler\n",
        "scaler = MinMaxScaler()\n",
        "scaled = scaler.fit_transform(x)\n",
        "x_scaled = pd.DataFrame(scaled, columns = x.columns)\n",
        "x_scaled"
      ],
      "metadata": {
        "colab": {
          "base_uri": "https://localhost:8080/",
          "height": 423
        },
        "id": "DTdH_kVbERDz",
        "outputId": "a05f7cc2-e884-4a3c-9377-100ff1bc876b"
      },
      "execution_count": 23,
      "outputs": [
        {
          "output_type": "execute_result",
          "data": {
            "text/plain": [
              "       vista     plazo  prestamos interbancarios  sucursales   cajeros  \\\n",
              "0   0.025517  0.000000                  0.609207    0.000000  0.028037   \n",
              "1   0.022805  0.047071                  0.571442    0.076923  0.112150   \n",
              "2   0.000000  0.090690                  0.506562    0.076923  0.102804   \n",
              "3   0.006285  0.107712                  0.477988    0.076923  0.121495   \n",
              "4   0.032538  0.129257                  0.512806    0.076923  0.112150   \n",
              "..       ...       ...                       ...         ...       ...   \n",
              "56  0.921731  0.433450                  0.025353    0.846154  0.747664   \n",
              "57  0.946624  0.396887                  0.000000    0.884615  0.869159   \n",
              "58  0.956830  0.365216                  0.029274    0.384615  0.728972   \n",
              "59  1.000000  0.350876                  0.082417    0.423077  0.831776   \n",
              "60  0.967114  0.379384                  0.116246    1.000000  1.000000   \n",
              "\n",
              "    tarjetas  \n",
              "0   0.000000  \n",
              "1   0.003169  \n",
              "2   0.009267  \n",
              "3   0.017833  \n",
              "4   0.024488  \n",
              "..       ...  \n",
              "56  0.842910  \n",
              "57  0.884778  \n",
              "58  0.931233  \n",
              "59  0.981804  \n",
              "60  1.000000  \n",
              "\n",
              "[61 rows x 6 columns]"
            ],
            "text/html": [
              "\n",
              "  <div id=\"df-418c79c6-b5b8-4335-8fbd-9cb2c11b876a\">\n",
              "    <div class=\"colab-df-container\">\n",
              "      <div>\n",
              "<style scoped>\n",
              "    .dataframe tbody tr th:only-of-type {\n",
              "        vertical-align: middle;\n",
              "    }\n",
              "\n",
              "    .dataframe tbody tr th {\n",
              "        vertical-align: top;\n",
              "    }\n",
              "\n",
              "    .dataframe thead th {\n",
              "        text-align: right;\n",
              "    }\n",
              "</style>\n",
              "<table border=\"1\" class=\"dataframe\">\n",
              "  <thead>\n",
              "    <tr style=\"text-align: right;\">\n",
              "      <th></th>\n",
              "      <th>vista</th>\n",
              "      <th>plazo</th>\n",
              "      <th>prestamos interbancarios</th>\n",
              "      <th>sucursales</th>\n",
              "      <th>cajeros</th>\n",
              "      <th>tarjetas</th>\n",
              "    </tr>\n",
              "  </thead>\n",
              "  <tbody>\n",
              "    <tr>\n",
              "      <th>0</th>\n",
              "      <td>0.025517</td>\n",
              "      <td>0.000000</td>\n",
              "      <td>0.609207</td>\n",
              "      <td>0.000000</td>\n",
              "      <td>0.028037</td>\n",
              "      <td>0.000000</td>\n",
              "    </tr>\n",
              "    <tr>\n",
              "      <th>1</th>\n",
              "      <td>0.022805</td>\n",
              "      <td>0.047071</td>\n",
              "      <td>0.571442</td>\n",
              "      <td>0.076923</td>\n",
              "      <td>0.112150</td>\n",
              "      <td>0.003169</td>\n",
              "    </tr>\n",
              "    <tr>\n",
              "      <th>2</th>\n",
              "      <td>0.000000</td>\n",
              "      <td>0.090690</td>\n",
              "      <td>0.506562</td>\n",
              "      <td>0.076923</td>\n",
              "      <td>0.102804</td>\n",
              "      <td>0.009267</td>\n",
              "    </tr>\n",
              "    <tr>\n",
              "      <th>3</th>\n",
              "      <td>0.006285</td>\n",
              "      <td>0.107712</td>\n",
              "      <td>0.477988</td>\n",
              "      <td>0.076923</td>\n",
              "      <td>0.121495</td>\n",
              "      <td>0.017833</td>\n",
              "    </tr>\n",
              "    <tr>\n",
              "      <th>4</th>\n",
              "      <td>0.032538</td>\n",
              "      <td>0.129257</td>\n",
              "      <td>0.512806</td>\n",
              "      <td>0.076923</td>\n",
              "      <td>0.112150</td>\n",
              "      <td>0.024488</td>\n",
              "    </tr>\n",
              "    <tr>\n",
              "      <th>...</th>\n",
              "      <td>...</td>\n",
              "      <td>...</td>\n",
              "      <td>...</td>\n",
              "      <td>...</td>\n",
              "      <td>...</td>\n",
              "      <td>...</td>\n",
              "    </tr>\n",
              "    <tr>\n",
              "      <th>56</th>\n",
              "      <td>0.921731</td>\n",
              "      <td>0.433450</td>\n",
              "      <td>0.025353</td>\n",
              "      <td>0.846154</td>\n",
              "      <td>0.747664</td>\n",
              "      <td>0.842910</td>\n",
              "    </tr>\n",
              "    <tr>\n",
              "      <th>57</th>\n",
              "      <td>0.946624</td>\n",
              "      <td>0.396887</td>\n",
              "      <td>0.000000</td>\n",
              "      <td>0.884615</td>\n",
              "      <td>0.869159</td>\n",
              "      <td>0.884778</td>\n",
              "    </tr>\n",
              "    <tr>\n",
              "      <th>58</th>\n",
              "      <td>0.956830</td>\n",
              "      <td>0.365216</td>\n",
              "      <td>0.029274</td>\n",
              "      <td>0.384615</td>\n",
              "      <td>0.728972</td>\n",
              "      <td>0.931233</td>\n",
              "    </tr>\n",
              "    <tr>\n",
              "      <th>59</th>\n",
              "      <td>1.000000</td>\n",
              "      <td>0.350876</td>\n",
              "      <td>0.082417</td>\n",
              "      <td>0.423077</td>\n",
              "      <td>0.831776</td>\n",
              "      <td>0.981804</td>\n",
              "    </tr>\n",
              "    <tr>\n",
              "      <th>60</th>\n",
              "      <td>0.967114</td>\n",
              "      <td>0.379384</td>\n",
              "      <td>0.116246</td>\n",
              "      <td>1.000000</td>\n",
              "      <td>1.000000</td>\n",
              "      <td>1.000000</td>\n",
              "    </tr>\n",
              "  </tbody>\n",
              "</table>\n",
              "<p>61 rows × 6 columns</p>\n",
              "</div>\n",
              "      <button class=\"colab-df-convert\" onclick=\"convertToInteractive('df-418c79c6-b5b8-4335-8fbd-9cb2c11b876a')\"\n",
              "              title=\"Convert this dataframe to an interactive table.\"\n",
              "              style=\"display:none;\">\n",
              "        \n",
              "  <svg xmlns=\"http://www.w3.org/2000/svg\" height=\"24px\"viewBox=\"0 0 24 24\"\n",
              "       width=\"24px\">\n",
              "    <path d=\"M0 0h24v24H0V0z\" fill=\"none\"/>\n",
              "    <path d=\"M18.56 5.44l.94 2.06.94-2.06 2.06-.94-2.06-.94-.94-2.06-.94 2.06-2.06.94zm-11 1L8.5 8.5l.94-2.06 2.06-.94-2.06-.94L8.5 2.5l-.94 2.06-2.06.94zm10 10l.94 2.06.94-2.06 2.06-.94-2.06-.94-.94-2.06-.94 2.06-2.06.94z\"/><path d=\"M17.41 7.96l-1.37-1.37c-.4-.4-.92-.59-1.43-.59-.52 0-1.04.2-1.43.59L10.3 9.45l-7.72 7.72c-.78.78-.78 2.05 0 2.83L4 21.41c.39.39.9.59 1.41.59.51 0 1.02-.2 1.41-.59l7.78-7.78 2.81-2.81c.8-.78.8-2.07 0-2.86zM5.41 20L4 18.59l7.72-7.72 1.47 1.35L5.41 20z\"/>\n",
              "  </svg>\n",
              "      </button>\n",
              "      \n",
              "  <style>\n",
              "    .colab-df-container {\n",
              "      display:flex;\n",
              "      flex-wrap:wrap;\n",
              "      gap: 12px;\n",
              "    }\n",
              "\n",
              "    .colab-df-convert {\n",
              "      background-color: #E8F0FE;\n",
              "      border: none;\n",
              "      border-radius: 50%;\n",
              "      cursor: pointer;\n",
              "      display: none;\n",
              "      fill: #1967D2;\n",
              "      height: 32px;\n",
              "      padding: 0 0 0 0;\n",
              "      width: 32px;\n",
              "    }\n",
              "\n",
              "    .colab-df-convert:hover {\n",
              "      background-color: #E2EBFA;\n",
              "      box-shadow: 0px 1px 2px rgba(60, 64, 67, 0.3), 0px 1px 3px 1px rgba(60, 64, 67, 0.15);\n",
              "      fill: #174EA6;\n",
              "    }\n",
              "\n",
              "    [theme=dark] .colab-df-convert {\n",
              "      background-color: #3B4455;\n",
              "      fill: #D2E3FC;\n",
              "    }\n",
              "\n",
              "    [theme=dark] .colab-df-convert:hover {\n",
              "      background-color: #434B5C;\n",
              "      box-shadow: 0px 1px 3px 1px rgba(0, 0, 0, 0.15);\n",
              "      filter: drop-shadow(0px 1px 2px rgba(0, 0, 0, 0.3));\n",
              "      fill: #FFFFFF;\n",
              "    }\n",
              "  </style>\n",
              "\n",
              "      <script>\n",
              "        const buttonEl =\n",
              "          document.querySelector('#df-418c79c6-b5b8-4335-8fbd-9cb2c11b876a button.colab-df-convert');\n",
              "        buttonEl.style.display =\n",
              "          google.colab.kernel.accessAllowed ? 'block' : 'none';\n",
              "\n",
              "        async function convertToInteractive(key) {\n",
              "          const element = document.querySelector('#df-418c79c6-b5b8-4335-8fbd-9cb2c11b876a');\n",
              "          const dataTable =\n",
              "            await google.colab.kernel.invokeFunction('convertToInteractive',\n",
              "                                                     [key], {});\n",
              "          if (!dataTable) return;\n",
              "\n",
              "          const docLinkHtml = 'Like what you see? Visit the ' +\n",
              "            '<a target=\"_blank\" href=https://colab.research.google.com/notebooks/data_table.ipynb>data table notebook</a>'\n",
              "            + ' to learn more about interactive tables.';\n",
              "          element.innerHTML = '';\n",
              "          dataTable['output_type'] = 'display_data';\n",
              "          await google.colab.output.renderOutput(dataTable, element);\n",
              "          const docLink = document.createElement('div');\n",
              "          docLink.innerHTML = docLinkHtml;\n",
              "          element.appendChild(docLink);\n",
              "        }\n",
              "      </script>\n",
              "    </div>\n",
              "  </div>\n",
              "  "
            ]
          },
          "metadata": {},
          "execution_count": 23
        }
      ]
    },
    {
      "cell_type": "code",
      "source": [
        "from sklearn.feature_selection import VarianceThreshold\n"
      ],
      "metadata": {
        "id": "CDYFGrIAGiag"
      },
      "execution_count": 14,
      "outputs": []
    },
    {
      "cell_type": "code",
      "source": [
        "selector = VarianceThreshold()\n",
        "selector.fit_transform(x_scaled)\n",
        "selector.variances_"
      ],
      "metadata": {
        "colab": {
          "base_uri": "https://localhost:8080/"
        },
        "id": "ivMDi2pbGi1q",
        "outputId": "8868cedb-6947-4b42-d6fa-bda6d1bd613b"
      },
      "execution_count": 15,
      "outputs": [
        {
          "output_type": "execute_result",
          "data": {
            "text/plain": [
              "array([0.08607618, 0.07807438, 0.0584518 , 0.07305728, 0.06255216,\n",
              "       0.07479054])"
            ]
          },
          "metadata": {},
          "execution_count": 15
        }
      ]
    },
    {
      "cell_type": "code",
      "source": [
        "# Se agregan las varianzas a los resultados\n",
        "df_f['variance'] = selector.variances_\n",
        "df_f.sort_values('variance', ascending = False, inplace = True)\n",
        "df_f"
      ],
      "metadata": {
        "colab": {
          "base_uri": "https://localhost:8080/",
          "height": 237
        },
        "id": "26_5fpVvGoYZ",
        "outputId": "e4a3a896-c1f5-4036-f07e-4006a0f29388"
      },
      "execution_count": 24,
      "outputs": [
        {
          "output_type": "execute_result",
          "data": {
            "text/plain": [
              "                                   f   r_value  r_value_abs  variance\n",
              "vista                     410.949060  0.935123     0.935123  0.086076\n",
              "tarjetas                  282.243652  0.926519     0.926519  0.078074\n",
              "cajeros                   349.492659 -0.333256     0.333256  0.074791\n",
              "prestamos interbancarios    7.371132  0.909452     0.909452  0.073057\n",
              "sucursales                357.777742  0.455811     0.455811  0.062552\n",
              "plazo                      15.472730  0.924968     0.924968  0.058452"
            ],
            "text/html": [
              "\n",
              "  <div id=\"df-8dc55c20-6cf3-4d26-ad33-3ebc6df80397\">\n",
              "    <div class=\"colab-df-container\">\n",
              "      <div>\n",
              "<style scoped>\n",
              "    .dataframe tbody tr th:only-of-type {\n",
              "        vertical-align: middle;\n",
              "    }\n",
              "\n",
              "    .dataframe tbody tr th {\n",
              "        vertical-align: top;\n",
              "    }\n",
              "\n",
              "    .dataframe thead th {\n",
              "        text-align: right;\n",
              "    }\n",
              "</style>\n",
              "<table border=\"1\" class=\"dataframe\">\n",
              "  <thead>\n",
              "    <tr style=\"text-align: right;\">\n",
              "      <th></th>\n",
              "      <th>f</th>\n",
              "      <th>r_value</th>\n",
              "      <th>r_value_abs</th>\n",
              "      <th>variance</th>\n",
              "    </tr>\n",
              "  </thead>\n",
              "  <tbody>\n",
              "    <tr>\n",
              "      <th>vista</th>\n",
              "      <td>410.949060</td>\n",
              "      <td>0.935123</td>\n",
              "      <td>0.935123</td>\n",
              "      <td>0.086076</td>\n",
              "    </tr>\n",
              "    <tr>\n",
              "      <th>tarjetas</th>\n",
              "      <td>282.243652</td>\n",
              "      <td>0.926519</td>\n",
              "      <td>0.926519</td>\n",
              "      <td>0.078074</td>\n",
              "    </tr>\n",
              "    <tr>\n",
              "      <th>cajeros</th>\n",
              "      <td>349.492659</td>\n",
              "      <td>-0.333256</td>\n",
              "      <td>0.333256</td>\n",
              "      <td>0.074791</td>\n",
              "    </tr>\n",
              "    <tr>\n",
              "      <th>prestamos interbancarios</th>\n",
              "      <td>7.371132</td>\n",
              "      <td>0.909452</td>\n",
              "      <td>0.909452</td>\n",
              "      <td>0.073057</td>\n",
              "    </tr>\n",
              "    <tr>\n",
              "      <th>sucursales</th>\n",
              "      <td>357.777742</td>\n",
              "      <td>0.455811</td>\n",
              "      <td>0.455811</td>\n",
              "      <td>0.062552</td>\n",
              "    </tr>\n",
              "    <tr>\n",
              "      <th>plazo</th>\n",
              "      <td>15.472730</td>\n",
              "      <td>0.924968</td>\n",
              "      <td>0.924968</td>\n",
              "      <td>0.058452</td>\n",
              "    </tr>\n",
              "  </tbody>\n",
              "</table>\n",
              "</div>\n",
              "      <button class=\"colab-df-convert\" onclick=\"convertToInteractive('df-8dc55c20-6cf3-4d26-ad33-3ebc6df80397')\"\n",
              "              title=\"Convert this dataframe to an interactive table.\"\n",
              "              style=\"display:none;\">\n",
              "        \n",
              "  <svg xmlns=\"http://www.w3.org/2000/svg\" height=\"24px\"viewBox=\"0 0 24 24\"\n",
              "       width=\"24px\">\n",
              "    <path d=\"M0 0h24v24H0V0z\" fill=\"none\"/>\n",
              "    <path d=\"M18.56 5.44l.94 2.06.94-2.06 2.06-.94-2.06-.94-.94-2.06-.94 2.06-2.06.94zm-11 1L8.5 8.5l.94-2.06 2.06-.94-2.06-.94L8.5 2.5l-.94 2.06-2.06.94zm10 10l.94 2.06.94-2.06 2.06-.94-2.06-.94-.94-2.06-.94 2.06-2.06.94z\"/><path d=\"M17.41 7.96l-1.37-1.37c-.4-.4-.92-.59-1.43-.59-.52 0-1.04.2-1.43.59L10.3 9.45l-7.72 7.72c-.78.78-.78 2.05 0 2.83L4 21.41c.39.39.9.59 1.41.59.51 0 1.02-.2 1.41-.59l7.78-7.78 2.81-2.81c.8-.78.8-2.07 0-2.86zM5.41 20L4 18.59l7.72-7.72 1.47 1.35L5.41 20z\"/>\n",
              "  </svg>\n",
              "      </button>\n",
              "      \n",
              "  <style>\n",
              "    .colab-df-container {\n",
              "      display:flex;\n",
              "      flex-wrap:wrap;\n",
              "      gap: 12px;\n",
              "    }\n",
              "\n",
              "    .colab-df-convert {\n",
              "      background-color: #E8F0FE;\n",
              "      border: none;\n",
              "      border-radius: 50%;\n",
              "      cursor: pointer;\n",
              "      display: none;\n",
              "      fill: #1967D2;\n",
              "      height: 32px;\n",
              "      padding: 0 0 0 0;\n",
              "      width: 32px;\n",
              "    }\n",
              "\n",
              "    .colab-df-convert:hover {\n",
              "      background-color: #E2EBFA;\n",
              "      box-shadow: 0px 1px 2px rgba(60, 64, 67, 0.3), 0px 1px 3px 1px rgba(60, 64, 67, 0.15);\n",
              "      fill: #174EA6;\n",
              "    }\n",
              "\n",
              "    [theme=dark] .colab-df-convert {\n",
              "      background-color: #3B4455;\n",
              "      fill: #D2E3FC;\n",
              "    }\n",
              "\n",
              "    [theme=dark] .colab-df-convert:hover {\n",
              "      background-color: #434B5C;\n",
              "      box-shadow: 0px 1px 3px 1px rgba(0, 0, 0, 0.15);\n",
              "      filter: drop-shadow(0px 1px 2px rgba(0, 0, 0, 0.3));\n",
              "      fill: #FFFFFF;\n",
              "    }\n",
              "  </style>\n",
              "\n",
              "      <script>\n",
              "        const buttonEl =\n",
              "          document.querySelector('#df-8dc55c20-6cf3-4d26-ad33-3ebc6df80397 button.colab-df-convert');\n",
              "        buttonEl.style.display =\n",
              "          google.colab.kernel.accessAllowed ? 'block' : 'none';\n",
              "\n",
              "        async function convertToInteractive(key) {\n",
              "          const element = document.querySelector('#df-8dc55c20-6cf3-4d26-ad33-3ebc6df80397');\n",
              "          const dataTable =\n",
              "            await google.colab.kernel.invokeFunction('convertToInteractive',\n",
              "                                                     [key], {});\n",
              "          if (!dataTable) return;\n",
              "\n",
              "          const docLinkHtml = 'Like what you see? Visit the ' +\n",
              "            '<a target=\"_blank\" href=https://colab.research.google.com/notebooks/data_table.ipynb>data table notebook</a>'\n",
              "            + ' to learn more about interactive tables.';\n",
              "          element.innerHTML = '';\n",
              "          dataTable['output_type'] = 'display_data';\n",
              "          await google.colab.output.renderOutput(dataTable, element);\n",
              "          const docLink = document.createElement('div');\n",
              "          docLink.innerHTML = docLinkHtml;\n",
              "          element.appendChild(docLink);\n",
              "        }\n",
              "      </script>\n",
              "    </div>\n",
              "  </div>\n",
              "  "
            ]
          },
          "metadata": {},
          "execution_count": 24
        }
      ]
    },
    {
      "cell_type": "code",
      "source": [
        "plt.figure()\n",
        "plt.bar(df_f.index, df_f.variance)\n",
        "plt.show()"
      ],
      "metadata": {
        "colab": {
          "base_uri": "https://localhost:8080/",
          "height": 265
        },
        "id": "w7ESDXHpGpYK",
        "outputId": "34b4a9f8-8717-4cc3-ea83-c6ba53744648"
      },
      "execution_count": 25,
      "outputs": [
        {
          "output_type": "display_data",
          "data": {
            "text/plain": [
              "<Figure size 432x288 with 1 Axes>"
            ],
            "image/png": "[encoded data removed]"
          },
          "metadata": {
            "needs_background": "light"
          }
        }
      ]
    },
    {
      "cell_type": "markdown",
      "source": [
        "# Información mutua\n"
      ],
      "metadata": {
        "id": "WFpDQg33ERhn"
      }
    },
    {
      "cell_type": "code",
      "source": [
        "from sklearn.feature_selection import mutual_info_regression\n"
      ],
      "metadata": {
        "id": "VKog9GsaEW1S"
      },
      "execution_count": 26,
      "outputs": []
    },
    {
      "cell_type": "code",
      "source": [
        "mi = mutual_info_regression(x, y, random_state=0)\n",
        "mi"
      ],
      "metadata": {
        "colab": {
          "base_uri": "https://localhost:8080/"
        },
        "id": "wc8Zxj0CHAjk",
        "outputId": "36ad74a1-ffdd-4feb-dbf6-99efb3f419db"
      },
      "execution_count": 27,
      "outputs": [
        {
          "output_type": "execute_result",
          "data": {
            "text/plain": [
              "array([1.74512955, 1.10826084, 0.82538939, 1.51058507, 1.41625738,\n",
              "       1.36517093])"
            ]
          },
          "metadata": {},
          "execution_count": 27
        }
      ]
    },
    {
      "cell_type": "code",
      "source": [
        "# Agregarlo a los resultados\n",
        "df_f['mi'] = mi\n",
        "df_f.sort_values('mi', ascending = False, inplace = True)\n",
        "\n",
        "plt.figure()\n",
        "plt.bar(df_f.index, df_f.mi)\n",
        "plt.show()"
      ],
      "metadata": {
        "colab": {
          "base_uri": "https://localhost:8080/",
          "height": 265
        },
        "id": "SX8UzY7iHA-7",
        "outputId": "fec485ea-cfa7-46a2-eee2-23403f381960"
      },
      "execution_count": 28,
      "outputs": [
        {
          "output_type": "display_data",
          "data": {
            "text/plain": [
              "<Figure size 432x288 with 1 Axes>"
            ],
            "image/png": "[encoded data removed]"
          },
          "metadata": {
            "needs_background": "light"
          }
        }
      ]
    },
    {
      "cell_type": "code",
      "source": [
        "scaled = scaler.fit_transform(df_f)\n",
        "df_f_scaled = pd.DataFrame(scaled, columns = df_f.columns)\n",
        "df_f_scaled.set_index(df_f.index, inplace = True)\n",
        "df_f_scaled['norm_mean'] = df_f_scaled.mean(axis = 1)\n",
        "df_f_scaled.sort_values('norm_mean', ascending = False, inplace = True)\n",
        "\n",
        "plt.figure()\n",
        "plt.bar(df_f_scaled.index, df_f_scaled.mean(axis = 1))\n",
        "plt.show()"
      ],
      "metadata": {
        "colab": {
          "base_uri": "https://localhost:8080/",
          "height": 265
        },
        "id": "wnnRXGa5HBth",
        "outputId": "ad3a2122-f1b7-4314-8d4c-69af7c8d3e24"
      },
      "execution_count": 29,
      "outputs": [
        {
          "output_type": "display_data",
          "data": {
            "text/plain": [
              "<Figure size 432x288 with 1 Axes>"
            ],
            "image/png": "[encoded data removed]"
          },
          "metadata": {
            "needs_background": "light"
          }
        }
      ]
    },
    {
      "cell_type": "markdown",
      "source": [
        "# Métodos de envoltura (?) o wrapper\n"
      ],
      "metadata": {
        "id": "92TWFSqGEXeg"
      }
    },
    {
      "cell_type": "markdown",
      "source": [
        "# Selección de características exhaustiva\n"
      ],
      "metadata": {
        "id": "EMqOQ76iEgC3"
      }
    },
    {
      "cell_type": "code",
      "source": [
        "from sklearn.linear_model import LinearRegression\n"
      ],
      "metadata": {
        "id": "ywsqEcb3EoE8"
      },
      "execution_count": 30,
      "outputs": []
    },
    {
      "cell_type": "code",
      "source": [
        "from mlxtend.feature_selection import ExhaustiveFeatureSelector as EFS\n"
      ],
      "metadata": {
        "colab": {
          "base_uri": "https://localhost:8080/",
          "height": 449
        },
        "id": "V0krWBF8Hxe5",
        "outputId": "9b1bb98d-9db8-4799-d4e8-a283a902f808"
      },
      "execution_count": 31,
      "outputs": [
        {
          "output_type": "error",
          "ename": "ModuleNotFoundError",
          "evalue": "ignored",
          "traceback": [
            "\u001b[0;31m---------------------------------------------------------------------------\u001b[0m",
            "\u001b[0;31mModuleNotFoundError\u001b[0m                       Traceback (most recent call last)",
            "\u001b[0;32m<ipython-input-31-24004e2ff114>\u001b[0m in \u001b[0;36m<module>\u001b[0;34m\u001b[0m\n\u001b[0;32m----> 1\u001b[0;31m \u001b[0;32mfrom\u001b[0m \u001b[0mmlxtend\u001b[0m\u001b[0;34m.\u001b[0m\u001b[0mfeature_selection\u001b[0m \u001b[0;32mimport\u001b[0m \u001b[0mExhaustiveFeatureSelector\u001b[0m \u001b[0;32mas\u001b[0m \u001b[0mEFS\u001b[0m\u001b[0;34m\u001b[0m\u001b[0;34m\u001b[0m\u001b[0m\n\u001b[0m",
            "\u001b[0;32m/usr/local/lib/python3.8/dist-packages/mlxtend/feature_selection/__init__.py\u001b[0m in \u001b[0;36m<module>\u001b[0;34m\u001b[0m\n\u001b[1;32m      6\u001b[0m \u001b[0;34m\u001b[0m\u001b[0m\n\u001b[1;32m      7\u001b[0m \u001b[0;32mfrom\u001b[0m \u001b[0;34m.\u001b[0m\u001b[0mcolumn_selector\u001b[0m \u001b[0;32mimport\u001b[0m \u001b[0mColumnSelector\u001b[0m\u001b[0;34m\u001b[0m\u001b[0;34m\u001b[0m\u001b[0m\n\u001b[0;32m----> 8\u001b[0;31m \u001b[0;32mfrom\u001b[0m \u001b[0;34m.\u001b[0m\u001b[0msequential_feature_selector\u001b[0m \u001b[0;32mimport\u001b[0m \u001b[0mSequentialFeatureSelector\u001b[0m\u001b[0;34m\u001b[0m\u001b[0;34m\u001b[0m\u001b[0m\n\u001b[0m\u001b[1;32m      9\u001b[0m \u001b[0;32mfrom\u001b[0m \u001b[0;34m.\u001b[0m\u001b[0mexhaustive_feature_selector\u001b[0m \u001b[0;32mimport\u001b[0m \u001b[0mExhaustiveFeatureSelector\u001b[0m\u001b[0;34m\u001b[0m\u001b[0;34m\u001b[0m\u001b[0m\n\u001b[1;32m     10\u001b[0m \u001b[0;34m\u001b[0m\u001b[0m\n",
            "\u001b[0;32m/usr/local/lib/python3.8/dist-packages/mlxtend/feature_selection/sequential_feature_selector.py\u001b[0m in \u001b[0;36m<module>\u001b[0;34m\u001b[0m\n\u001b[1;32m     21\u001b[0m \u001b[0;32mfrom\u001b[0m \u001b[0;34m.\u001b[0m\u001b[0;34m.\u001b[0m\u001b[0mexternals\u001b[0m\u001b[0;34m.\u001b[0m\u001b[0mname_estimators\u001b[0m \u001b[0;32mimport\u001b[0m \u001b[0m_name_estimators\u001b[0m\u001b[0;34m\u001b[0m\u001b[0;34m\u001b[0m\u001b[0m\n\u001b[1;32m     22\u001b[0m \u001b[0;32mfrom\u001b[0m \u001b[0msklearn\u001b[0m\u001b[0;34m.\u001b[0m\u001b[0mmodel_selection\u001b[0m \u001b[0;32mimport\u001b[0m \u001b[0mcross_val_score\u001b[0m\u001b[0;34m\u001b[0m\u001b[0;34m\u001b[0m\u001b[0m\n\u001b[0;32m---> 23\u001b[0;31m \u001b[0;32mfrom\u001b[0m \u001b[0msklearn\u001b[0m\u001b[0;34m.\u001b[0m\u001b[0mexternals\u001b[0m\u001b[0;34m.\u001b[0m\u001b[0mjoblib\u001b[0m \u001b[0;32mimport\u001b[0m \u001b[0mParallel\u001b[0m\u001b[0;34m,\u001b[0m \u001b[0mdelayed\u001b[0m\u001b[0;34m\u001b[0m\u001b[0;34m\u001b[0m\u001b[0m\n\u001b[0m\u001b[1;32m     24\u001b[0m \u001b[0;34m\u001b[0m\u001b[0m\n\u001b[1;32m     25\u001b[0m \u001b[0;34m\u001b[0m\u001b[0m\n",
            "\u001b[0;31mModuleNotFoundError\u001b[0m: No module named 'sklearn.externals.joblib'",
            "",
            "\u001b[0;31m---------------------------------------------------------------------------\u001b[0;32m\nNOTE: If your import is failing due to a missing package, you can\nmanually install dependencies using either !pip or !apt.\n\nTo view examples of installing some common dependencies, click the\n\"Open Examples\" button below.\n\u001b[0;31m---------------------------------------------------------------------------\u001b[0m\n"
          ],
          "errorDetails": {
            "actions": [
              {
                "action": "open_url",
                "actionText": "Open Examples",
                "url": "/notebooks/snippets/importing_libraries.ipynb"
              }
            ]
          }
        }
      ]
    },
    {
      "cell_type": "code",
      "source": [
        "lr = LinearRegression()\n",
        "\n",
        "efs = EFS(estimator = lr,        # Use logistic regression as the classifier/estimator\n",
        "          min_features = 1,      # The minimum number of features to consider is 1\n",
        "          max_features = 4,      # The maximum number of features to consider is 4\n",
        "          scoring = 'neg_mean_absolute_error',  # The metric to use to evaluate the classifier is accuracy \n",
        "          cv = 5)"
      ],
      "metadata": {
        "colab": {
          "base_uri": "https://localhost:8080/",
          "height": 235
        },
        "id": "EmvFA4AWHyLe",
        "outputId": "2cc97009-6711-4fc8-afeb-72ac536759e5"
      },
      "execution_count": 3,
      "outputs": [
        {
          "output_type": "error",
          "ename": "NameError",
          "evalue": "ignored",
          "traceback": [
            "\u001b[0;31m---------------------------------------------------------------------------\u001b[0m",
            "\u001b[0;31mNameError\u001b[0m                                 Traceback (most recent call last)",
            "\u001b[0;32m<ipython-input-3-2f5fc1f74ad9>\u001b[0m in \u001b[0;36m<module>\u001b[0;34m\u001b[0m\n\u001b[1;32m      1\u001b[0m \u001b[0mlr\u001b[0m \u001b[0;34m=\u001b[0m \u001b[0mLinearRegression\u001b[0m\u001b[0;34m(\u001b[0m\u001b[0;34m)\u001b[0m\u001b[0;34m\u001b[0m\u001b[0;34m\u001b[0m\u001b[0m\n\u001b[1;32m      2\u001b[0m \u001b[0;34m\u001b[0m\u001b[0m\n\u001b[0;32m----> 3\u001b[0;31m efs = EFS(estimator = lr,        # Use logistic regression as the classifier/estimator\n\u001b[0m\u001b[1;32m      4\u001b[0m           \u001b[0mmin_features\u001b[0m \u001b[0;34m=\u001b[0m \u001b[0;36m1\u001b[0m\u001b[0;34m,\u001b[0m      \u001b[0;31m# The minimum number of features to consider is 1\u001b[0m\u001b[0;34m\u001b[0m\u001b[0;34m\u001b[0m\u001b[0m\n\u001b[1;32m      5\u001b[0m           \u001b[0mmax_features\u001b[0m \u001b[0;34m=\u001b[0m \u001b[0;36m4\u001b[0m\u001b[0;34m,\u001b[0m      \u001b[0;31m# The maximum number of features to consider is 4\u001b[0m\u001b[0;34m\u001b[0m\u001b[0;34m\u001b[0m\u001b[0m\n",
            "\u001b[0;31mNameError\u001b[0m: name 'EFS' is not defined"
          ]
        }
      ]
    },
    {
      "cell_type": "code",
      "source": [
        "efs = efs.fit(x, y)\n"
      ],
      "metadata": {
        "colab": {
          "base_uri": "https://localhost:8080/",
          "height": 165
        },
        "id": "YE2rKaTiH09e",
        "outputId": "669634e3-afe6-4a51-a87d-d90f6e7e3cac"
      },
      "execution_count": 4,
      "outputs": [
        {
          "output_type": "error",
          "ename": "NameError",
          "evalue": "ignored",
          "traceback": [
            "\u001b[0;31m---------------------------------------------------------------------------\u001b[0m",
            "\u001b[0;31mNameError\u001b[0m                                 Traceback (most recent call last)",
            "\u001b[0;32m<ipython-input-4-a0910d30d7af>\u001b[0m in \u001b[0;36m<module>\u001b[0;34m\u001b[0m\n\u001b[0;32m----> 1\u001b[0;31m \u001b[0mefs\u001b[0m \u001b[0;34m=\u001b[0m \u001b[0mefs\u001b[0m\u001b[0;34m.\u001b[0m\u001b[0mfit\u001b[0m\u001b[0;34m(\u001b[0m\u001b[0mx\u001b[0m\u001b[0;34m,\u001b[0m \u001b[0my\u001b[0m\u001b[0;34m)\u001b[0m\u001b[0;34m\u001b[0m\u001b[0;34m\u001b[0m\u001b[0m\n\u001b[0m",
            "\u001b[0;31mNameError\u001b[0m: name 'efs' is not defined"
          ]
        }
      ]
    },
    {
      "cell_type": "code",
      "source": [
        "print('Best accuracy score: %.2f' % efs.best_score_)\n",
        "# print('Best subset (indices):', efs.best_idx_)\n",
        "print('Best subset (corresponding names):', efs.best_feature_names_)"
      ],
      "metadata": {
        "id": "wK72L0cIH3SL"
      },
      "execution_count": null,
      "outputs": []
    },
    {
      "cell_type": "code",
      "source": [
        "metric_dict = efs.get_metric_dict()\n",
        "df_efs = pd.DataFrame(metric_dict).T\n",
        "df_efs.sort_values('avg_score', ascending=False,  inplace = True)\n",
        "df_efs_best_10 = df_efs.iloc[:10]\n",
        "df_efs_best_10"
      ],
      "metadata": {
        "id": "9IL6GKJIH53x"
      },
      "execution_count": null,
      "outputs": []
    },
    {
      "cell_type": "code",
      "source": [
        "fig = plt.figure(figsize=(20, 4))\n",
        "\n",
        "plt.plot(\n",
        "    df_efs_best_10.feature_names.astype(str), \n",
        "    df_efs_best_10.avg_score, \n",
        "    color='blue', marker='o'\n",
        ")\n",
        "plt.ylabel('MAE')\n",
        "plt.xlabel('Características')\n",
        "\n",
        "plt.xticks(rotation = 90)\n",
        "\n",
        "plt.show()"
      ],
      "metadata": {
        "id": "u2EWTqrUH-xB"
      },
      "execution_count": null,
      "outputs": []
    },
    {
      "cell_type": "markdown",
      "source": [
        "# Sequential Forward Selection (SFS)\n"
      ],
      "metadata": {
        "id": "m2TgKevqEjra"
      }
    },
    {
      "cell_type": "code",
      "source": [
        "import joblib\n",
        "\n",
        "#sys.modules['sklearn.externals.joblib'] = joblib\n",
        "\n",
        "#from mlxtend.feature_selection import SequentialFeatureSelector as SFS\n"
      ],
      "metadata": {
        "id": "AzCB5IusEo_9"
      },
      "execution_count": 35,
      "outputs": []
    },
    {
      "cell_type": "code",
      "source": [
        "sfs = SFS(estimator = lr,        # Use logistic regression as the classifier/estimator\n",
        "          k_features = (1, 7),  # Consider any feature combination between 1 and 8\n",
        "          forward = True,       # Set forward to True when we want to perform SFS\n",
        "          scoring = 'neg_mean_absolute_error',  # The metric to use to evaluate the classifier is accuracy \n",
        "          cv=5)"
      ],
      "metadata": {
        "colab": {
          "base_uri": "https://localhost:8080/",
          "height": 235
        },
        "id": "UavYzspqI6Vp",
        "outputId": "b5e70e7a-09fe-47b8-ad91-e71d7e41f6bf"
      },
      "execution_count": 36,
      "outputs": [
        {
          "output_type": "error",
          "ename": "NameError",
          "evalue": "ignored",
          "traceback": [
            "\u001b[0;31m---------------------------------------------------------------------------\u001b[0m",
            "\u001b[0;31mNameError\u001b[0m                                 Traceback (most recent call last)",
            "\u001b[0;32m<ipython-input-36-1600b51a6a6a>\u001b[0m in \u001b[0;36m<module>\u001b[0;34m\u001b[0m\n\u001b[0;32m----> 1\u001b[0;31m sfs = SFS(estimator = lr,        # Use logistic regression as the classifier/estimator\n\u001b[0m\u001b[1;32m      2\u001b[0m           \u001b[0mk_features\u001b[0m \u001b[0;34m=\u001b[0m \u001b[0;34m(\u001b[0m\u001b[0;36m1\u001b[0m\u001b[0;34m,\u001b[0m \u001b[0;36m7\u001b[0m\u001b[0;34m)\u001b[0m\u001b[0;34m,\u001b[0m  \u001b[0;31m# Consider any feature combination between 1 and 8\u001b[0m\u001b[0;34m\u001b[0m\u001b[0;34m\u001b[0m\u001b[0m\n\u001b[1;32m      3\u001b[0m           \u001b[0mforward\u001b[0m \u001b[0;34m=\u001b[0m \u001b[0;32mTrue\u001b[0m\u001b[0;34m,\u001b[0m       \u001b[0;31m# Set forward to True when we want to perform SFS\u001b[0m\u001b[0;34m\u001b[0m\u001b[0;34m\u001b[0m\u001b[0m\n\u001b[1;32m      4\u001b[0m           \u001b[0mscoring\u001b[0m \u001b[0;34m=\u001b[0m \u001b[0;34m'neg_mean_absolute_error'\u001b[0m\u001b[0;34m,\u001b[0m  \u001b[0;31m# The metric to use to evaluate the classifier is accuracy\u001b[0m\u001b[0;34m\u001b[0m\u001b[0;34m\u001b[0m\u001b[0m\n\u001b[1;32m      5\u001b[0m           cv=5)\n",
            "\u001b[0;31mNameError\u001b[0m: name 'SFS' is not defined"
          ]
        }
      ]
    },
    {
      "cell_type": "code",
      "source": [
        "sfs = sfs.fit(x, y)\n"
      ],
      "metadata": {
        "id": "Iag0lmYYI8Ly"
      },
      "execution_count": null,
      "outputs": []
    },
    {
      "cell_type": "code",
      "source": [
        "print('Best accuracy score: %.2f' % sfs.k_score_)   # k_score_ shows the best score \n",
        "print('Best subset (corresponding names):', sfs.k_feature_names_) # k_feature_names_ shows the feature names \n",
        "                                                                  # that yield the best score"
      ],
      "metadata": {
        "id": "6CUZcVktI--5"
      },
      "execution_count": null,
      "outputs": []
    },
    {
      "cell_type": "code",
      "source": [
        "subsets_ = sfs.subsets_\n",
        "df_sfs = pd.DataFrame(subsets_).T\n",
        "df_sfs.sort_values('avg_score', ascending=False,  inplace = True)\n",
        "df_sfs"
      ],
      "metadata": {
        "id": "OLaALpYUJBL3"
      },
      "execution_count": null,
      "outputs": []
    },
    {
      "cell_type": "code",
      "source": [
        "fig = plt.figure(figsize=(20, 4))\n",
        "\n",
        "plt.plot(\n",
        "    df_sfs.feature_names.astype(str), \n",
        "    df_sfs.avg_score, \n",
        "    color='blue', marker='o'\n",
        ")\n",
        "plt.ylabel('MAE')\n",
        "plt.xlabel('Características')\n",
        "\n",
        "plt.xticks(rotation = 90)\n",
        "\n",
        "plt.show()"
      ],
      "metadata": {
        "id": "ZLEBKv6_JEEZ"
      },
      "execution_count": null,
      "outputs": []
    },
    {
      "cell_type": "markdown",
      "source": [
        "# Sequential Backward Selection (SBS)\n"
      ],
      "metadata": {
        "id": "_i5-GpagEpa1"
      }
    },
    {
      "cell_type": "code",
      "source": [
        "sbs = SFS(estimator = lr,\n",
        "          k_features=(1, 7),\n",
        "          forward=True,\n",
        "          scoring='neg_mean_absolute_error',\n",
        "          cv=5)\n",
        "\n",
        "sbs = sbs.fit(x, y)\n",
        "subsets_ = sbs.subsets_\n",
        "df_sbs = pd.DataFrame(subsets_).T\n",
        "df_sbs.sort_values('avg_score', ascending=False,  inplace = True)\n",
        "\n",
        "fig = plt.figure(figsize=(20, 4))\n",
        "plt.plot(\n",
        "    df_sbs.feature_names.astype(str), \n",
        "    df_sbs.avg_score, \n",
        "    color='blue', marker='o'\n",
        ")\n",
        "plt.ylabel('MAE')\n",
        "plt.xlabel('Características')\n",
        "\n",
        "plt.xticks(rotation = 90)\n",
        "\n",
        "plt.show()"
      ],
      "metadata": {
        "colab": {
          "base_uri": "https://localhost:8080/",
          "height": 235
        },
        "id": "6U4qPKc8Es6t",
        "outputId": "6120cd11-ce95-4361-dc61-c3a45b8300b4"
      },
      "execution_count": 5,
      "outputs": [
        {
          "output_type": "error",
          "ename": "NameError",
          "evalue": "ignored",
          "traceback": [
            "\u001b[0;31m---------------------------------------------------------------------------\u001b[0m",
            "\u001b[0;31mNameError\u001b[0m                                 Traceback (most recent call last)",
            "\u001b[0;32m<ipython-input-5-013377038a85>\u001b[0m in \u001b[0;36m<module>\u001b[0;34m\u001b[0m\n\u001b[0;32m----> 1\u001b[0;31m sbs = SFS(estimator = lr,\n\u001b[0m\u001b[1;32m      2\u001b[0m           \u001b[0mk_features\u001b[0m\u001b[0;34m=\u001b[0m\u001b[0;34m(\u001b[0m\u001b[0;36m1\u001b[0m\u001b[0;34m,\u001b[0m \u001b[0;36m7\u001b[0m\u001b[0;34m)\u001b[0m\u001b[0;34m,\u001b[0m\u001b[0;34m\u001b[0m\u001b[0;34m\u001b[0m\u001b[0m\n\u001b[1;32m      3\u001b[0m           \u001b[0mforward\u001b[0m\u001b[0;34m=\u001b[0m\u001b[0;32mTrue\u001b[0m\u001b[0;34m,\u001b[0m\u001b[0;34m\u001b[0m\u001b[0;34m\u001b[0m\u001b[0m\n\u001b[1;32m      4\u001b[0m           \u001b[0mscoring\u001b[0m\u001b[0;34m=\u001b[0m\u001b[0;34m'neg_mean_absolute_error'\u001b[0m\u001b[0;34m,\u001b[0m\u001b[0;34m\u001b[0m\u001b[0;34m\u001b[0m\u001b[0m\n\u001b[1;32m      5\u001b[0m           cv=5)\n",
            "\u001b[0;31mNameError\u001b[0m: name 'SFS' is not defined"
          ]
        }
      ]
    },
    {
      "cell_type": "markdown",
      "source": [
        "# PCA"
      ],
      "metadata": {
        "id": "kPsWYquaEtXI"
      }
    },
    {
      "cell_type": "code",
      "source": [
        "from sklearn.decomposition import PCA\n",
        "import numpy as np"
      ],
      "metadata": {
        "id": "0gQuJNHUExPP"
      },
      "execution_count": 32,
      "outputs": []
    },
    {
      "cell_type": "code",
      "source": [
        "pca = PCA(n_components = 3)\n",
        "pca_model = pca.fit(x_scaled)"
      ],
      "metadata": {
        "id": "30izCObfY-9V"
      },
      "execution_count": 33,
      "outputs": []
    },
    {
      "cell_type": "code",
      "source": [
        "plt.figure()\n",
        "plt.bar(np.arange(pca_model.n_components_) + 1, pca_model.explained_variance_ratio_)\n",
        "prop_varianza_acum = pca_model.explained_variance_ratio_.cumsum()\n",
        "plt.plot(range(1, 4),prop_varianza_acum, marker = 'o', c='orange', label='Var. acumulada')\n",
        "plt.xticks(np.arange(pca_model.n_components_) + 1)\n",
        "plt.ylim(0, 1.1)\n",
        "plt.xlabel('Componente principal', fontsize=12)\n",
        "plt.ylabel('Varianza explicada', fontsize=16)\n",
        "plt.legend()\n",
        "plt.show()"
      ],
      "metadata": {
        "colab": {
          "base_uri": "https://localhost:8080/",
          "height": 282
        },
        "id": "XiiAFF-rZCBM",
        "outputId": "083bf080-13ef-4821-d039-9cdfb203fcc3"
      },
      "execution_count": 34,
      "outputs": [
        {
          "output_type": "display_data",
          "data": {
            "text/plain": [
              "<Figure size 432x288 with 1 Axes>"
            ],
            "image/png": "[encoded data removed]"
          },
          "metadata": {
            "needs_background": "light"
          }
        }
      ]
    },
    {
      "cell_type": "code",
      "source": [
        "# Coeficientes del PCA\n",
        "pca_coef = pd.DataFrame(\n",
        "  data    = pca_model.components_,\n",
        "  columns = x_scaled.columns,\n",
        "  index = ['pca1', 'pca2', 'pca3']\n",
        ").T.sort_values('pca1', ascending=False)\n",
        "pca_coef"
      ],
      "metadata": {
        "colab": {
          "base_uri": "https://localhost:8080/",
          "height": 237
        },
        "id": "2s58m5_HZGCc",
        "outputId": "d37902a3-b2f8-4f28-8aab-2b6d85969c3e"
      },
      "execution_count": 35,
      "outputs": [
        {
          "output_type": "execute_result",
          "data": {
            "text/plain": [
              "                              pca1      pca2      pca3\n",
              "vista                     0.531881 -0.164042  0.133327\n",
              "tarjetas                  0.479585 -0.020957  0.303277\n",
              "sucursales                0.471698  0.207620  0.036034\n",
              "cajeros                   0.451954 -0.116018 -0.019009\n",
              "plazo                     0.162951  0.838502 -0.437472\n",
              "prestamos interbancarios -0.183812  0.461517  0.834988"
            ],
            "text/html": [
              "\n",
              "  <div id=\"df-19c599d9-a767-4950-ae5f-d1339e88cf9a\">\n",
              "    <div class=\"colab-df-container\">\n",
              "      <div>\n",
              "<style scoped>\n",
              "    .dataframe tbody tr th:only-of-type {\n",
              "        vertical-align: middle;\n",
              "    }\n",
              "\n",
              "    .dataframe tbody tr th {\n",
              "        vertical-align: top;\n",
              "    }\n",
              "\n",
              "    .dataframe thead th {\n",
              "        text-align: right;\n",
              "    }\n",
              "</style>\n",
              "<table border=\"1\" class=\"dataframe\">\n",
              "  <thead>\n",
              "    <tr style=\"text-align: right;\">\n",
              "      <th></th>\n",
              "      <th>pca1</th>\n",
              "      <th>pca2</th>\n",
              "      <th>pca3</th>\n",
              "    </tr>\n",
              "  </thead>\n",
              "  <tbody>\n",
              "    <tr>\n",
              "      <th>vista</th>\n",
              "      <td>0.531881</td>\n",
              "      <td>-0.164042</td>\n",
              "      <td>0.133327</td>\n",
              "    </tr>\n",
              "    <tr>\n",
              "      <th>tarjetas</th>\n",
              "      <td>0.479585</td>\n",
              "      <td>-0.020957</td>\n",
              "      <td>0.303277</td>\n",
              "    </tr>\n",
              "    <tr>\n",
              "      <th>sucursales</th>\n",
              "      <td>0.471698</td>\n",
              "      <td>0.207620</td>\n",
              "      <td>0.036034</td>\n",
              "    </tr>\n",
              "    <tr>\n",
              "      <th>cajeros</th>\n",
              "      <td>0.451954</td>\n",
              "      <td>-0.116018</td>\n",
              "      <td>-0.019009</td>\n",
              "    </tr>\n",
              "    <tr>\n",
              "      <th>plazo</th>\n",
              "      <td>0.162951</td>\n",
              "      <td>0.838502</td>\n",
              "      <td>-0.437472</td>\n",
              "    </tr>\n",
              "    <tr>\n",
              "      <th>prestamos interbancarios</th>\n",
              "      <td>-0.183812</td>\n",
              "      <td>0.461517</td>\n",
              "      <td>0.834988</td>\n",
              "    </tr>\n",
              "  </tbody>\n",
              "</table>\n",
              "</div>\n",
              "      <button class=\"colab-df-convert\" onclick=\"convertToInteractive('df-19c599d9-a767-4950-ae5f-d1339e88cf9a')\"\n",
              "              title=\"Convert this dataframe to an interactive table.\"\n",
              "              style=\"display:none;\">\n",
              "        \n",
              "  <svg xmlns=\"http://www.w3.org/2000/svg\" height=\"24px\"viewBox=\"0 0 24 24\"\n",
              "       width=\"24px\">\n",
              "    <path d=\"M0 0h24v24H0V0z\" fill=\"none\"/>\n",
              "    <path d=\"M18.56 5.44l.94 2.06.94-2.06 2.06-.94-2.06-.94-.94-2.06-.94 2.06-2.06.94zm-11 1L8.5 8.5l.94-2.06 2.06-.94-2.06-.94L8.5 2.5l-.94 2.06-2.06.94zm10 10l.94 2.06.94-2.06 2.06-.94-2.06-.94-.94-2.06-.94 2.06-2.06.94z\"/><path d=\"M17.41 7.96l-1.37-1.37c-.4-.4-.92-.59-1.43-.59-.52 0-1.04.2-1.43.59L10.3 9.45l-7.72 7.72c-.78.78-.78 2.05 0 2.83L4 21.41c.39.39.9.59 1.41.59.51 0 1.02-.2 1.41-.59l7.78-7.78 2.81-2.81c.8-.78.8-2.07 0-2.86zM5.41 20L4 18.59l7.72-7.72 1.47 1.35L5.41 20z\"/>\n",
              "  </svg>\n",
              "      </button>\n",
              "      \n",
              "  <style>\n",
              "    .colab-df-container {\n",
              "      display:flex;\n",
              "      flex-wrap:wrap;\n",
              "      gap: 12px;\n",
              "    }\n",
              "\n",
              "    .colab-df-convert {\n",
              "      background-color: #E8F0FE;\n",
              "      border: none;\n",
              "      border-radius: 50%;\n",
              "      cursor: pointer;\n",
              "      display: none;\n",
              "      fill: #1967D2;\n",
              "      height: 32px;\n",
              "      padding: 0 0 0 0;\n",
              "      width: 32px;\n",
              "    }\n",
              "\n",
              "    .colab-df-convert:hover {\n",
              "      background-color: #E2EBFA;\n",
              "      box-shadow: 0px 1px 2px rgba(60, 64, 67, 0.3), 0px 1px 3px 1px rgba(60, 64, 67, 0.15);\n",
              "      fill: #174EA6;\n",
              "    }\n",
              "\n",
              "    [theme=dark] .colab-df-convert {\n",
              "      background-color: #3B4455;\n",
              "      fill: #D2E3FC;\n",
              "    }\n",
              "\n",
              "    [theme=dark] .colab-df-convert:hover {\n",
              "      background-color: #434B5C;\n",
              "      box-shadow: 0px 1px 3px 1px rgba(0, 0, 0, 0.15);\n",
              "      filter: drop-shadow(0px 1px 2px rgba(0, 0, 0, 0.3));\n",
              "      fill: #FFFFFF;\n",
              "    }\n",
              "  </style>\n",
              "\n",
              "      <script>\n",
              "        const buttonEl =\n",
              "          document.querySelector('#df-19c599d9-a767-4950-ae5f-d1339e88cf9a button.colab-df-convert');\n",
              "        buttonEl.style.display =\n",
              "          google.colab.kernel.accessAllowed ? 'block' : 'none';\n",
              "\n",
              "        async function convertToInteractive(key) {\n",
              "          const element = document.querySelector('#df-19c599d9-a767-4950-ae5f-d1339e88cf9a');\n",
              "          const dataTable =\n",
              "            await google.colab.kernel.invokeFunction('convertToInteractive',\n",
              "                                                     [key], {});\n",
              "          if (!dataTable) return;\n",
              "\n",
              "          const docLinkHtml = 'Like what you see? Visit the ' +\n",
              "            '<a target=\"_blank\" href=https://colab.research.google.com/notebooks/data_table.ipynb>data table notebook</a>'\n",
              "            + ' to learn more about interactive tables.';\n",
              "          element.innerHTML = '';\n",
              "          dataTable['output_type'] = 'display_data';\n",
              "          await google.colab.output.renderOutput(dataTable, element);\n",
              "          const docLink = document.createElement('div');\n",
              "          docLink.innerHTML = docLinkHtml;\n",
              "          element.appendChild(docLink);\n",
              "        }\n",
              "      </script>\n",
              "    </div>\n",
              "  </div>\n",
              "  "
            ]
          },
          "metadata": {},
          "execution_count": 35
        }
      ]
    },
    {
      "cell_type": "markdown",
      "source": [
        "pca1 = 0.5319vista + 0.4796tarjetas + 0.4717sucursales + 0.452cajeros + 0.163plazo -0.1838prestamos\n",
        "\n",
        "pca2 = -0.1640vista - 0.0210tarjetas + 0.2076sucursales - 0.1160cajeros + 0.8390plazo + 0.4615prestamos\n",
        "\n",
        "pca3 = 0.1333vista + 0.3033tarjetas + 0.0360sucursales - 0.0190cajeros - 0.4374plazo +0.8350prestamos"
      ],
      "metadata": {
        "id": "0jyLfcKcumQC"
      }
    },
    {
      "cell_type": "markdown",
      "source": [
        "# Busca una o varias métricas para seleccionar características en literatura relacionada con tu problema (cita tus fuentes)"
      ],
      "metadata": {
        "id": "G8dxhufgun-M"
      }
    },
    {
      "cell_type": "markdown",
      "source": [
        "\"Tomando  como  modelo  de  trabajo  a  una  institución  bancaria,  y  con  el  objetivo  de  lograr  la aplicación  de  las  medidas  antes  mencionadas,  se  inicia  por  armar  una  cartera  típica  de  dicha organización. Si bien disminuida a términos de hacer más sencillo el análisis, se trabajó sobre la combinación de depósitos y préstamos en dicha cartera.\" (Bacchini, Arias y Speranza, 2016).\n",
        "\n",
        "\" La entidad deberá identificar qué activos y pasivos les resultan sensibles y así, poder analizar cada situación individualmente\" (Bacchini, Arias y Speranza, 2016).\n",
        "\n",
        "\"Las entradas y salidas contractuales de efectivo y de valores procedentes de todas las rúbricas de dentro y fuera de balance, asignadas a intervalos temporales definidos sobre la base de sus respectivos vencimientos.\" (Comité de Supervisión Bancaria de Basilea, 2013).\n",
        "\n",
        "\"Para la aplicación del presente estudio, se recabó de la entidad financiera, la información de fuentes de fondeo, que lo consituye las captaciones de depósitos con el público. La información se refiere  a los registros de los saldos diarios de las cuentas de depósitos a la vista, depósitos a plazo y depósitos restringidos.\" (Torres, 2019)."
      ],
      "metadata": {
        "id": "eLcDamuTuv8B"
      }
    },
    {
      "cell_type": "markdown",
      "source": [
        "# Con base en tu investigación, determina las características más relevantes de tu conjunto de datos\n"
      ],
      "metadata": {
        "id": "uW3Dpp3uzo8o"
      }
    },
    {
      "cell_type": "markdown",
      "source": [
        "Las características más relevantes de acuerdo a la información consultada son las variables siguientes:\n",
        "\n",
        "-Activos\n",
        "-Vista\n",
        "-Plazo\n",
        "-Prestamos interbancarios"
      ],
      "metadata": {
        "id": "3o_CHFVhzy0j"
      }
    },
    {
      "cell_type": "markdown",
      "source": [
        "# Discute por qué crees que las características seleccionadas son las más relevantes y por qué el resto quedaron excluidas en la selección\n"
      ],
      "metadata": {
        "id": "tsbmj_WizzmS"
      }
    },
    {
      "cell_type": "markdown",
      "source": [
        "Las variables mencionadas en el punto anterior son relevantes ya que \"interactúan\" de forma directa, es decir, la institución capta dinero (depósitos) del público y este dinero a su vez se utiliza para fondear activos como la cartera de crédito, derivados, entre otros productos además de ser los principales rubros que aportan información en el balance de la institución Banregio.\n",
        "\n",
        "Las variables que quedaron excluidas probablemente sea porque no hay un impacto significativo en el balance financiero ya que al tener más/menos tarjetas, sucursales y/o cajeros, ya que, en caso de que se cierren sucursales o cancelen tarjetas o se quiten cajeros, los productos que había en esos insumos se trasladan a otro punto estrategico que la institución seleccione.\n",
        "\n",
        "Adicional a lo anterior, esa selección de variables se debe a que la información consultada, muestra un enfoque de brechas de liquidez."
      ],
      "metadata": {
        "id": "4sRxkCKIHS0r"
      }
    },
    {
      "cell_type": "code",
      "source": [],
      "metadata": {
        "id": "wTXBtiJ2um3y"
      },
      "execution_count": null,
      "outputs": []
    }
  ]
}