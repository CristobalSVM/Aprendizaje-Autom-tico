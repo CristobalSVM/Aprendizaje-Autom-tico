{
  "nbformat": 4,
  "nbformat_minor": 0,
  "metadata": {
    "colab": {
      "provenance": [],
      "authorship_tag": "ABX9TyNVDkJDc1CwWBfBx+rdDogh",
      "include_colab_link": true
    },
    "kernelspec": {
      "name": "python3",
      "display_name": "Python 3"
    },
    "language_info": {
      "name": "python"
    }
  },
  "cells": [
    {
      "cell_type": "markdown",
      "metadata": {
        "id": "view-in-github",
        "colab_type": "text"
      },
      "source": [
        "<a href=\"https://colab.research.google.com/github/CristobalSVM/Aprendizaje-Automatico/blob/main/Tarea_5_ANS.ipynb\" target=\"_parent\"><img src=\"https://colab.research.google.com/assets/colab-badge.svg\" alt=\"Open In Colab\"/></a>"
      ]
    },
    {
      "cell_type": "markdown",
      "source": [
        "# Tarea en clase (2 puntos)\n",
        "\n",
        "### Investigar sobre algún otro algoritmo no supervisado que pueda usarse en tu código."
      ],
      "metadata": {
        "id": "7SCBRYlvPIUF"
      }
    },
    {
      "cell_type": "markdown",
      "source": [
        "### Da un panorama sobre el modelo matemático que emplea y explica por qué conviene aplicarlo a tus datos. Algunos modelos que no se vieron en clase son Affinity Propagation, BIRCH, DBSCAN, Mean Shift, Nearest Neighbors, OPTICS, Spectral Clustering, TSNE, entre otros"
      ],
      "metadata": {
        "id": "6BVFtxhNPnKO"
      }
    },
    {
      "cell_type": "markdown",
      "source": [
        "### **Método DBSCAN**\n",
        "\n",
        "DBSCAN significa agrupamiento espacial basado en densidad de aplicaciones con ruido. \n",
        "\n",
        "Este es un buen algoritmo para encontrar esquemas en un conjunto de datos. Encuentra grupos de forma arbitraria en función de la densidad de puntos de datos en diferentes regiones. Separa las regiones por áreas de baja densidad para poder detectar valores atípicos entre los grupos de alta densidad.\n",
        "\n",
        "**Este algoritmo es mejor que el k-means cuando se trata de trabajar con datos que tienen formas extrañas.**\n",
        "\n",
        "DBSCAN utiliza dos parámetros para determinar cómo se definen los grupos: **min_samples** (el número mínimo de puntos de datos que deben agruparse para que un área se considere de alta densidad) y **eps** (epsilon: la distancia utilizada para determinar si un punto de datos está en la misma área que otros puntos de datos).\n",
        "\n",
        "La elección de los parámetros iniciales adecuados es fundamental para que este algoritmo funcione.\n",
        "\n",
        "Podría convenir aplicarlo a mis datos porque el algoritmo trabaja con datos con formas extrañas, además, por ser no supervisado, da un poco más de flexibilidad de elegir los parámetros iniciales, los cuales podrían definirse por ejemplo, min_sample = 3 por ser datos financieros, Banxico y la CNBV piden información trimestral y eps dependerá de la estrategia de negocio. En este caso, Banregio se concentra en personas físicas, personas físicas con actividad empresarial y MyPYMES, por lo que se podría decir que un eps de 0.275 MDP es una buena aproximación de acuerdo a los estados financieros.\n",
        "\n"
      ],
      "metadata": {
        "id": "zJhiIM_qweqf"
      }
    },
    {
      "cell_type": "code",
      "source": [
        "# EJEMPLO\n",
        "\n",
        "# librerías\n",
        "\n",
        "from numpy import unique\n",
        "from numpy import where\n",
        "from matplotlib import pyplot\n",
        "from sklearn.datasets import make_classification\n",
        "from sklearn.cluster import DBSCAN\n",
        "\n",
        "# inicializar el conjunto de datos con el que trabajaremos\n",
        "training_data, _ = make_classification(\n",
        "    n_samples=1000,\n",
        "    n_features=2,\n",
        "    n_informative=2,\n",
        "    n_redundant=0,\n",
        "    n_clusters_per_class=1,\n",
        "    random_state=4\n",
        ")\n",
        "\n",
        "# definir el modelo\n",
        "dbscan_model = DBSCAN(eps=0.25, min_samples=9)\n",
        "\n",
        "# entrenar el modelo\n",
        "dbscan_model.fit(training_data)\n",
        "\n",
        "# asignar cada punto de datos a un grupo\n",
        "dbscan_result = dbscan_model.fit_predict(training_data)\n",
        "\n",
        "# obtener todos los grupos únicos\n",
        "dbscan_clusters = unique(dbscan_result)\n",
        "\n",
        "# graficar el DBSCAN de grupos\n",
        "for dbscan_cluster in dbscan_clusters:\n",
        "    # obtener todos los puntos de datos que caen en este grupo\n",
        "    index = where(dbscan_result == dbscan_cluster)\n",
        "    # hacer el gráfico\n",
        "    pyplot.scatter(training_data[index, 0], training_data[index, 1])\n",
        "\n",
        "# mostrar el gráfico DBSCAN\n",
        "pyplot.show()"
      ],
      "metadata": {
        "id": "-zwqBp2hP412",
        "colab": {
          "base_uri": "https://localhost:8080/",
          "height": 265
        },
        "outputId": "ceec0f32-4b25-4ab4-aa19-8090c4ec5fe8"
      },
      "execution_count": null,
      "outputs": [
        {
          "output_type": "display_data",
          "data": {
            "text/plain": [
              "<Figure size 432x288 with 1 Axes>"
            ],
            "image/png": "[encoded data removed]"
          },
          "metadata": {
            "needs_background": "light"
          }
        }
      ]
    },
    {
      "cell_type": "code",
      "source": [
        "training_data"
      ],
      "metadata": {
        "colab": {
          "base_uri": "https://localhost:8080/"
        },
        "id": "jhAqUJVJP-aq",
        "outputId": "028f106c-1d01-4c1f-8324-d373c50beabd"
      },
      "execution_count": null,
      "outputs": [
        {
          "output_type": "execute_result",
          "data": {
            "text/plain": [
              "array([[ 1.22515974, -0.95173116],\n",
              "       [ 1.01630365, -1.72517506],\n",
              "       [ 0.33534004, -1.7248955 ],\n",
              "       ...,\n",
              "       [ 1.54270795, -0.05566478],\n",
              "       [ 0.81664566, -1.2509187 ],\n",
              "       [ 1.13782254, -1.26151957]])"
            ]
          },
          "metadata": {},
          "execution_count": 167
        }
      ]
    },
    {
      "cell_type": "markdown",
      "source": [],
      "metadata": {
        "id": "lSz0jxu4UeQW"
      }
    },
    {
      "cell_type": "markdown",
      "source": [
        "### Investigar otras estrategias para determinar número de grupos en estos algoritmos (como los índices de Calinski-Harabasz o de Davies-Bouldin), elegir la más adecuada al método que elegiste y discutirla"
      ],
      "metadata": {
        "id": "Q0fbk8dtPwv_"
      }
    },
    {
      "cell_type": "markdown",
      "source": [
        "### **Davies-Bouldin**  \n",
        "\\\n",
        "El índice (Davies y Bouldin, 1979) evalúa los algoritmos de agrupamiento y garantiza que el mínimo del valor del índice se determina como el número óptimo de clústers (Qinpei Zhao,2009).\n",
        "\n",
        "**Definición**\\\n",
        "$$\n",
        "DB = \\frac{1}k ∑^{k}_{i=1,i!=j} max(\\frac{σᵢ+σⱼ}{d(cᵢ,cⱼ)})\n",
        "$$ \n",
        "\n",
        "Donde k es el número de clústeres, σᵢ es la distancia promedio entre cada punto en el clúster i y el centroide del clúster, σⱼ es la distancia promedio entre cada punto del clúster j y el centroide del clúster, y d(cᵢ,cⱼ) es la distancia entre los centroides de los 2 clústeres.  \n",
        "\\\n",
        "Valores pequeños para el índice DB indica clústeres compactos, y cuyos centros estas bien separados los unos de los otros.  \n",
        "\\\n",
        "***\n",
        "\\\n",
        "### **Calinski-Harabasz**  \n",
        "\\\n",
        "(Ethen, 2015) La evaluación de Calinski Harabasz es un objeto que consiste en datos de muestra, datos de agrupación y valores de criterio de Calinski-Harabasz utilizados para evaluar el número óptimo de agrupaciones. \n",
        "   \n",
        "\n",
        "\\\n",
        "**Definición** \n",
        "\n",
        " $$CH = \\frac{SS_B}{SS_W} \\ \\ X \\ \\ \\frac{N-k}{k-1} $$\n",
        " \\\n",
        "Sea k el número de grupos, y N es el número total de observaciones (puntos de datos), SS$_w$ es la varianza general dentro del grupo (equivalente al total dentro de la suma de cuadrados calculada anteriormente), SS$_B$ es la varianza global entre grupos.  \n",
        " \\\n",
        "\n",
        " Una cosa importante para usar esta medida es que a veces alcanza el nivel óptimo\n",
        "en el grupo 2, sin embargo , agrupar el punto de datos en 2 grupos puede no ser ideal.  \n",
        "  \\\n",
        "***\n",
        "\\\n",
        "Considero que el Índice Davies-Boundin es más adecuado ya que que el índice de Calinski-Harabasz, como menciona en su último punto, alcanza el nivel óptimo de grupos de 2, por lo tanto, dependerá del investigador decidir la forma adecuada para calcular el tamaño del clúster que sea más razonable\n"
      ],
      "metadata": {
        "id": "QrRgfRJrUmS5"
      }
    },
    {
      "cell_type": "markdown",
      "source": [
        "# Tarea (8 puntos)\n",
        "### Aplicar al menos un algoritmo no supervisado a tus datos para encontrar estructuras subyacentes\n"
      ],
      "metadata": {
        "id": "rL4UixdNUcpH"
      }
    },
    {
      "cell_type": "code",
      "source": [
        "#### IMPORTAR LAS LIBRERÍAS ####\n",
        "import pandas as pd\n",
        "import matplotlib.pyplot as plt"
      ],
      "metadata": {
        "id": "RvPPjZiXXnqv"
      },
      "execution_count": 4,
      "outputs": []
    },
    {
      "cell_type": "code",
      "source": [
        "#Importar libreria para abrir xlsx o csv.\n",
        "import pandas as pd\n",
        "\n",
        "#Acceso a google drive\n",
        "from google.colab import files\n",
        "from google.colab import drive\n",
        "drive.mount('/content/drive')\n",
        "\n",
        "#Carga de base\n",
        "bd_BR = \"/content/drive/MyDrive/Tarea 2 BD_BR.xlsx\"\n",
        "data = pd.read_excel(bd_BR)\n",
        "data\n"
      ],
      "metadata": {
        "colab": {
          "base_uri": "https://localhost:8080/",
          "height": 441
        },
        "id": "e93PWuq2Xuwm",
        "outputId": "63362c19-1f2f-49d0-ccb4-78fefb7ecc09"
      },
      "execution_count": 18,
      "outputs": [
        {
          "output_type": "stream",
          "name": "stdout",
          "text": [
            "Drive already mounted at /content/drive; to attempt to forcibly remount, call drive.mount(\"/content/drive\", force_remount=True).\n"
          ]
        },
        {
          "output_type": "execute_result",
          "data": {
            "text/plain": [
              "    id   fecha        activo         vista        plazo  \\\n",
              "0    1  201612  9.748517e+10  2.922565e+10  35428115940   \n",
              "1    2  201701  9.912669e+10  2.913157e+10  36612242954   \n",
              "2    3  201702  9.860860e+10  2.834034e+10  37709507528   \n",
              "3    4  201703  9.858651e+10  2.855841e+10  38137700755   \n",
              "4    5  201704  9.731282e+10  2.946925e+10  38679704639   \n",
              "..  ..     ...           ...           ...          ...   \n",
              "56  57  202108  1.601921e+11  6.032032e+10  46331947444   \n",
              "57  58  202109  1.600526e+11  6.118401e+10  45412168111   \n",
              "58  59  202110  1.616247e+11  6.153808e+10  44615468429   \n",
              "59  60  202111  1.643413e+11  6.303590e+10  44254716609   \n",
              "60  61  202112  1.627420e+11  6.189489e+10  44971875448   \n",
              "\n",
              "    prestamos interbancarios  sucursales  cajeros  tarjetas  \n",
              "0               6.761324e+09         147      274     75627  \n",
              "1               6.610840e+09         149      283     76116  \n",
              "2               6.352306e+09         149      282     77057  \n",
              "3               6.238445e+09         149      284     78379  \n",
              "4               6.377189e+09         149      283     79406  \n",
              "..                       ...         ...      ...       ...  \n",
              "56              4.434798e+09         169      351    205704  \n",
              "57              4.333770e+09         170      364    212165  \n",
              "58              4.450421e+09         157      349    219334  \n",
              "59              4.662185e+09         158      360    227138  \n",
              "60              4.796986e+09         173      378    229946  \n",
              "\n",
              "[61 rows x 9 columns]"
            ],
            "text/html": [
              "\n",
              "  <div id=\"df-4bf19a08-f4f1-4eb0-9a80-8482d8563cec\">\n",
              "    <div class=\"colab-df-container\">\n",
              "      <div>\n",
              "<style scoped>\n",
              "    .dataframe tbody tr th:only-of-type {\n",
              "        vertical-align: middle;\n",
              "    }\n",
              "\n",
              "    .dataframe tbody tr th {\n",
              "        vertical-align: top;\n",
              "    }\n",
              "\n",
              "    .dataframe thead th {\n",
              "        text-align: right;\n",
              "    }\n",
              "</style>\n",
              "<table border=\"1\" class=\"dataframe\">\n",
              "  <thead>\n",
              "    <tr style=\"text-align: right;\">\n",
              "      <th></th>\n",
              "      <th>id</th>\n",
              "      <th>fecha</th>\n",
              "      <th>activo</th>\n",
              "      <th>vista</th>\n",
              "      <th>plazo</th>\n",
              "      <th>prestamos interbancarios</th>\n",
              "      <th>sucursales</th>\n",
              "      <th>cajeros</th>\n",
              "      <th>tarjetas</th>\n",
              "    </tr>\n",
              "  </thead>\n",
              "  <tbody>\n",
              "    <tr>\n",
              "      <th>0</th>\n",
              "      <td>1</td>\n",
              "      <td>201612</td>\n",
              "      <td>9.748517e+10</td>\n",
              "      <td>2.922565e+10</td>\n",
              "      <td>35428115940</td>\n",
              "      <td>6.761324e+09</td>\n",
              "      <td>147</td>\n",
              "      <td>274</td>\n",
              "      <td>75627</td>\n",
              "    </tr>\n",
              "    <tr>\n",
              "      <th>1</th>\n",
              "      <td>2</td>\n",
              "      <td>201701</td>\n",
              "      <td>9.912669e+10</td>\n",
              "      <td>2.913157e+10</td>\n",
              "      <td>36612242954</td>\n",
              "      <td>6.610840e+09</td>\n",
              "      <td>149</td>\n",
              "      <td>283</td>\n",
              "      <td>76116</td>\n",
              "    </tr>\n",
              "    <tr>\n",
              "      <th>2</th>\n",
              "      <td>3</td>\n",
              "      <td>201702</td>\n",
              "      <td>9.860860e+10</td>\n",
              "      <td>2.834034e+10</td>\n",
              "      <td>37709507528</td>\n",
              "      <td>6.352306e+09</td>\n",
              "      <td>149</td>\n",
              "      <td>282</td>\n",
              "      <td>77057</td>\n",
              "    </tr>\n",
              "    <tr>\n",
              "      <th>3</th>\n",
              "      <td>4</td>\n",
              "      <td>201703</td>\n",
              "      <td>9.858651e+10</td>\n",
              "      <td>2.855841e+10</td>\n",
              "      <td>38137700755</td>\n",
              "      <td>6.238445e+09</td>\n",
              "      <td>149</td>\n",
              "      <td>284</td>\n",
              "      <td>78379</td>\n",
              "    </tr>\n",
              "    <tr>\n",
              "      <th>4</th>\n",
              "      <td>5</td>\n",
              "      <td>201704</td>\n",
              "      <td>9.731282e+10</td>\n",
              "      <td>2.946925e+10</td>\n",
              "      <td>38679704639</td>\n",
              "      <td>6.377189e+09</td>\n",
              "      <td>149</td>\n",
              "      <td>283</td>\n",
              "      <td>79406</td>\n",
              "    </tr>\n",
              "    <tr>\n",
              "      <th>...</th>\n",
              "      <td>...</td>\n",
              "      <td>...</td>\n",
              "      <td>...</td>\n",
              "      <td>...</td>\n",
              "      <td>...</td>\n",
              "      <td>...</td>\n",
              "      <td>...</td>\n",
              "      <td>...</td>\n",
              "      <td>...</td>\n",
              "    </tr>\n",
              "    <tr>\n",
              "      <th>56</th>\n",
              "      <td>57</td>\n",
              "      <td>202108</td>\n",
              "      <td>1.601921e+11</td>\n",
              "      <td>6.032032e+10</td>\n",
              "      <td>46331947444</td>\n",
              "      <td>4.434798e+09</td>\n",
              "      <td>169</td>\n",
              "      <td>351</td>\n",
              "      <td>205704</td>\n",
              "    </tr>\n",
              "    <tr>\n",
              "      <th>57</th>\n",
              "      <td>58</td>\n",
              "      <td>202109</td>\n",
              "      <td>1.600526e+11</td>\n",
              "      <td>6.118401e+10</td>\n",
              "      <td>45412168111</td>\n",
              "      <td>4.333770e+09</td>\n",
              "      <td>170</td>\n",
              "      <td>364</td>\n",
              "      <td>212165</td>\n",
              "    </tr>\n",
              "    <tr>\n",
              "      <th>58</th>\n",
              "      <td>59</td>\n",
              "      <td>202110</td>\n",
              "      <td>1.616247e+11</td>\n",
              "      <td>6.153808e+10</td>\n",
              "      <td>44615468429</td>\n",
              "      <td>4.450421e+09</td>\n",
              "      <td>157</td>\n",
              "      <td>349</td>\n",
              "      <td>219334</td>\n",
              "    </tr>\n",
              "    <tr>\n",
              "      <th>59</th>\n",
              "      <td>60</td>\n",
              "      <td>202111</td>\n",
              "      <td>1.643413e+11</td>\n",
              "      <td>6.303590e+10</td>\n",
              "      <td>44254716609</td>\n",
              "      <td>4.662185e+09</td>\n",
              "      <td>158</td>\n",
              "      <td>360</td>\n",
              "      <td>227138</td>\n",
              "    </tr>\n",
              "    <tr>\n",
              "      <th>60</th>\n",
              "      <td>61</td>\n",
              "      <td>202112</td>\n",
              "      <td>1.627420e+11</td>\n",
              "      <td>6.189489e+10</td>\n",
              "      <td>44971875448</td>\n",
              "      <td>4.796986e+09</td>\n",
              "      <td>173</td>\n",
              "      <td>378</td>\n",
              "      <td>229946</td>\n",
              "    </tr>\n",
              "  </tbody>\n",
              "</table>\n",
              "<p>61 rows × 9 columns</p>\n",
              "</div>\n",
              "      <button class=\"colab-df-convert\" onclick=\"convertToInteractive('df-4bf19a08-f4f1-4eb0-9a80-8482d8563cec')\"\n",
              "              title=\"Convert this dataframe to an interactive table.\"\n",
              "              style=\"display:none;\">\n",
              "        \n",
              "  <svg xmlns=\"http://www.w3.org/2000/svg\" height=\"24px\"viewBox=\"0 0 24 24\"\n",
              "       width=\"24px\">\n",
              "    <path d=\"M0 0h24v24H0V0z\" fill=\"none\"/>\n",
              "    <path d=\"M18.56 5.44l.94 2.06.94-2.06 2.06-.94-2.06-.94-.94-2.06-.94 2.06-2.06.94zm-11 1L8.5 8.5l.94-2.06 2.06-.94-2.06-.94L8.5 2.5l-.94 2.06-2.06.94zm10 10l.94 2.06.94-2.06 2.06-.94-2.06-.94-.94-2.06-.94 2.06-2.06.94z\"/><path d=\"M17.41 7.96l-1.37-1.37c-.4-.4-.92-.59-1.43-.59-.52 0-1.04.2-1.43.59L10.3 9.45l-7.72 7.72c-.78.78-.78 2.05 0 2.83L4 21.41c.39.39.9.59 1.41.59.51 0 1.02-.2 1.41-.59l7.78-7.78 2.81-2.81c.8-.78.8-2.07 0-2.86zM5.41 20L4 18.59l7.72-7.72 1.47 1.35L5.41 20z\"/>\n",
              "  </svg>\n",
              "      </button>\n",
              "      \n",
              "  <style>\n",
              "    .colab-df-container {\n",
              "      display:flex;\n",
              "      flex-wrap:wrap;\n",
              "      gap: 12px;\n",
              "    }\n",
              "\n",
              "    .colab-df-convert {\n",
              "      background-color: #E8F0FE;\n",
              "      border: none;\n",
              "      border-radius: 50%;\n",
              "      cursor: pointer;\n",
              "      display: none;\n",
              "      fill: #1967D2;\n",
              "      height: 32px;\n",
              "      padding: 0 0 0 0;\n",
              "      width: 32px;\n",
              "    }\n",
              "\n",
              "    .colab-df-convert:hover {\n",
              "      background-color: #E2EBFA;\n",
              "      box-shadow: 0px 1px 2px rgba(60, 64, 67, 0.3), 0px 1px 3px 1px rgba(60, 64, 67, 0.15);\n",
              "      fill: #174EA6;\n",
              "    }\n",
              "\n",
              "    [theme=dark] .colab-df-convert {\n",
              "      background-color: #3B4455;\n",
              "      fill: #D2E3FC;\n",
              "    }\n",
              "\n",
              "    [theme=dark] .colab-df-convert:hover {\n",
              "      background-color: #434B5C;\n",
              "      box-shadow: 0px 1px 3px 1px rgba(0, 0, 0, 0.15);\n",
              "      filter: drop-shadow(0px 1px 2px rgba(0, 0, 0, 0.3));\n",
              "      fill: #FFFFFF;\n",
              "    }\n",
              "  </style>\n",
              "\n",
              "      <script>\n",
              "        const buttonEl =\n",
              "          document.querySelector('#df-4bf19a08-f4f1-4eb0-9a80-8482d8563cec button.colab-df-convert');\n",
              "        buttonEl.style.display =\n",
              "          google.colab.kernel.accessAllowed ? 'block' : 'none';\n",
              "\n",
              "        async function convertToInteractive(key) {\n",
              "          const element = document.querySelector('#df-4bf19a08-f4f1-4eb0-9a80-8482d8563cec');\n",
              "          const dataTable =\n",
              "            await google.colab.kernel.invokeFunction('convertToInteractive',\n",
              "                                                     [key], {});\n",
              "          if (!dataTable) return;\n",
              "\n",
              "          const docLinkHtml = 'Like what you see? Visit the ' +\n",
              "            '<a target=\"_blank\" href=https://colab.research.google.com/notebooks/data_table.ipynb>data table notebook</a>'\n",
              "            + ' to learn more about interactive tables.';\n",
              "          element.innerHTML = '';\n",
              "          dataTable['output_type'] = 'display_data';\n",
              "          await google.colab.output.renderOutput(dataTable, element);\n",
              "          const docLink = document.createElement('div');\n",
              "          docLink.innerHTML = docLinkHtml;\n",
              "          element.appendChild(docLink);\n",
              "        }\n",
              "      </script>\n",
              "    </div>\n",
              "  </div>\n",
              "  "
            ]
          },
          "metadata": {},
          "execution_count": 18
        }
      ]
    },
    {
      "cell_type": "code",
      "source": [
        "\n",
        " #Cambiar tipo de variable \n",
        " convertir = {'id': int,\n",
        "                'fecha': int,\n",
        "                'sucursales': int,\n",
        "                'cajeros': int,\n",
        "                'tarjetas': int}  \n",
        "  \n",
        "data = data.astype(convertir)  \n",
        "\n",
        "#Modificar columnas fecha, activo, vista, plazo, prestamos interbancarios para tener unidades de millones de pesos\n",
        "data['activo'] = data['activo']/1000000 \n",
        "data['vista'] = data['vista']/1000000\n",
        "data['plazo'] = data['plazo']/1000000\n",
        "data['prestamos interbancarios'] = data['prestamos interbancarios']/1000000\n"
      ],
      "metadata": {
        "id": "hMEqlaMEXxN4"
      },
      "execution_count": 19,
      "outputs": []
    },
    {
      "cell_type": "code",
      "source": [
        "#Conocer la forma de los datos\n",
        "data.shape"
      ],
      "metadata": {
        "colab": {
          "base_uri": "https://localhost:8080/"
        },
        "id": "TxKDcHJkX8a-",
        "outputId": "535e2c5f-9fc8-4590-d8d2-f15d83a89e04"
      },
      "execution_count": 20,
      "outputs": [
        {
          "output_type": "execute_result",
          "data": {
            "text/plain": [
              "(61, 9)"
            ]
          },
          "metadata": {},
          "execution_count": 20
        }
      ]
    },
    {
      "cell_type": "code",
      "source": [
        "#Nulos\n",
        "data.isnull().sum()\n"
      ],
      "metadata": {
        "colab": {
          "base_uri": "https://localhost:8080/"
        },
        "id": "DBCbCVv5ZbPJ",
        "outputId": "a2a1aecf-0dd3-49a6-bb77-be3354c045a7"
      },
      "execution_count": 21,
      "outputs": [
        {
          "output_type": "execute_result",
          "data": {
            "text/plain": [
              "id                          0\n",
              "fecha                       0\n",
              "activo                      0\n",
              "vista                       0\n",
              "plazo                       0\n",
              "prestamos interbancarios    0\n",
              "sucursales                  0\n",
              "cajeros                     0\n",
              "tarjetas                    0\n",
              "dtype: int64"
            ]
          },
          "metadata": {},
          "execution_count": 21
        }
      ]
    },
    {
      "cell_type": "code",
      "source": [
        "#Conocer el formato de los datos\n",
        "data.dtypes"
      ],
      "metadata": {
        "colab": {
          "base_uri": "https://localhost:8080/"
        },
        "id": "6Z9h5EudZj38",
        "outputId": "0e197372-6e85-4d80-a5c6-d5b582093cad"
      },
      "execution_count": 22,
      "outputs": [
        {
          "output_type": "execute_result",
          "data": {
            "text/plain": [
              "id                            int64\n",
              "fecha                         int64\n",
              "activo                      float64\n",
              "vista                       float64\n",
              "plazo                       float64\n",
              "prestamos interbancarios    float64\n",
              "sucursales                    int64\n",
              "cajeros                       int64\n",
              "tarjetas                      int64\n",
              "dtype: object"
            ]
          },
          "metadata": {},
          "execution_count": 22
        }
      ]
    },
    {
      "cell_type": "code",
      "source": [
        "### DATOS DE MUESTRA ###\n",
        "#Se selecionan unos datos al azar para posteriormente verificar el clúster al que pertenecen\n",
        "indices = [23, 41, 55]\n",
        "muestras = pd.DataFrame(data.loc[indices], \n",
        "                       columns = data.keys()).reset_index(drop = True)\n",
        "\n",
        "data = data.drop(indices, axis = 0)"
      ],
      "metadata": {
        "id": "Z-YRhD96ZeTw"
      },
      "execution_count": 23,
      "outputs": []
    },
    {
      "cell_type": "code",
      "source": [
        "### PROCESAMIENTO DE LOS DATOS ###\n",
        "#Eliminamos las columnas de id y fecha \n",
        "data = data.drop(['id', 'fecha'], axis = 1)\n",
        "muestras = muestras.drop(['id', 'fecha'], axis = 1)"
      ],
      "metadata": {
        "id": "LMZqYjiXaWZb"
      },
      "execution_count": 24,
      "outputs": []
    },
    {
      "cell_type": "code",
      "source": [
        "from numpy import unique\n",
        "from numpy import where\n",
        "from matplotlib import pyplot\n",
        "from sklearn.datasets import make_classification\n",
        "from sklearn.cluster import DBSCAN\n",
        "from numpy import array\n",
        "\n",
        "\n",
        "data = array(data)\n",
        "# definir el modelo\n",
        "dbscan_model = DBSCAN(eps=2750, min_samples=3)\n",
        "\n",
        "# entrenar el modelo\n",
        "dbscan_model.fit(data)\n",
        "\n",
        "# asignar cada punto de datos a un grupo\n",
        "dbscan_result = dbscan_model.fit_predict(data)\n",
        "\n",
        "# obtener todos los grupos únicos\n",
        "dbscan_clusters = unique(dbscan_result)\n",
        "\n",
        "# graficar el DBSCAN de grupos\n",
        "for dbscan_cluster in dbscan_clusters:\n",
        "    # obtener todos los puntos de datos que caen en este grupo\n",
        "    index = where(dbscan_result == dbscan_cluster)\n",
        "    # hacer el gráfico\n",
        "    pyplot.scatter(data[index, 1]+data[index, 2]+data[index, 3],data[index, 0])\n",
        "\n",
        "# mostrar el gráfico DBSCAN\n",
        "pyplot.savefig('dbscan.pdf')\n",
        "pyplot.show()"
      ],
      "metadata": {
        "colab": {
          "base_uri": "https://localhost:8080/",
          "height": 265
        },
        "id": "e0h3Rup9N0hc",
        "outputId": "f369fc08-f215-4a5e-c50a-628ea6e36692"
      },
      "execution_count": 93,
      "outputs": [
        {
          "output_type": "display_data",
          "data": {
            "text/plain": [
              "<Figure size 432x288 with 1 Axes>"
            ],
            "image/png": "[encoded data removed]"
          },
          "metadata": {
            "needs_background": "light"
          }
        }
      ]
    },
    {
      "cell_type": "code",
      "source": [
        "#Se realiza el escalamiento de los datos\n",
        "from sklearn import preprocessing\n",
        "\n",
        "data_escalada = preprocessing.Normalizer().fit_transform(data)\n",
        "muestras_escalada = preprocessing.Normalizer().fit_transform(muestras)\n"
      ],
      "metadata": {
        "id": "vzSbXeIybbF6"
      },
      "execution_count": 26,
      "outputs": []
    },
    {
      "cell_type": "code",
      "source": [
        "#Se determina las variables a evaluar\n",
        "X = data_escalada"
      ],
      "metadata": {
        "id": "9Tmy6vS1bfKH"
      },
      "execution_count": 94,
      "outputs": []
    },
    {
      "cell_type": "code",
      "source": [
        "from sklearn.cluster import DBSCAN\n",
        "#Se define el algoritmo\n",
        "algoritmo = DBSCAN(eps = 0.0275, min_samples = 3)\n",
        "#Se entrena el algoritmo\n",
        "algoritmo.fit(X)\n",
        "pred1 = algoritmo.fit_predict(X)\n",
        "pred1"
      ],
      "metadata": {
        "colab": {
          "base_uri": "https://localhost:8080/"
        },
        "id": "f_4ZAlK-bi6e",
        "outputId": "741c826b-f9c3-4887-8545-d8682cb8facf"
      },
      "execution_count": 89,
      "outputs": [
        {
          "output_type": "execute_result",
          "data": {
            "text/plain": [
              "array([ 0,  0,  0,  0,  0,  0,  0, -1, -1, -1,  1,  1,  1,  1,  1,  1,  1,\n",
              "        1,  0,  0,  0,  0,  0,  0,  0,  0,  0,  0,  0,  0,  0,  0,  0,  0,\n",
              "        0,  0,  0,  1,  1,  1,  1,  1,  1,  1,  1,  1,  1,  1,  1,  1,  1,\n",
              "        1,  1,  1,  2,  2,  2,  2])"
            ]
          },
          "metadata": {},
          "execution_count": 89
        }
      ]
    },
    {
      "cell_type": "code",
      "source": [
        "#Utilicemos los datos de muestras y verifiquemos en que cluster se encuentran\n",
        "muestra_prediccion = algoritmo.fit_predict(muestras_escalada)\n",
        "for i, pred in enumerate(muestra_prediccion):\n",
        "    print( \"Muestra\", i, \"se encuentra en el clúster:\", pred)"
      ],
      "metadata": {
        "colab": {
          "base_uri": "https://localhost:8080/"
        },
        "id": "gaeTAXh9btxZ",
        "outputId": "f3fa47e5-1806-40f3-c96d-4a56dc86a726"
      },
      "execution_count": 62,
      "outputs": [
        {
          "output_type": "stream",
          "name": "stdout",
          "text": [
            "Muestra 0 se encuentra en el clúster: -1\n",
            "Muestra 1 se encuentra en el clúster: -1\n",
            "Muestra 2 se encuentra en el clúster: -1\n"
          ]
        }
      ]
    },
    {
      "cell_type": "markdown",
      "source": [
        "### Elegir alguna métrica para determinar número de grupos, usarla y discutirla\n",
        "\n",
        "Método del Codo"
      ],
      "metadata": {
        "id": "wJGf01POU_eg"
      }
    },
    {
      "cell_type": "code",
      "source": [
        "\n",
        "from sklearn.cluster import KMeans\n",
        "bd_BR = \"/content/drive/MyDrive/Tarea 2 BD_BR.xlsx\"\n",
        "df = pd.read_excel(bd_BR)\n",
        "\n"
      ],
      "metadata": {
        "id": "tA8bb8KSsaYS"
      },
      "execution_count": 63,
      "outputs": []
    },
    {
      "cell_type": "code",
      "source": [
        "# Importamos dos módulos para escalado, existen más\n",
        "# scale: Center to the mean and component wise scale to unit variance\n",
        "# MinMaxScaler: \n",
        "from sklearn.preprocessing import scale, MinMaxScaler\n",
        "\n",
        "# scale\n",
        "scaled_1 = scale(data)\n",
        "\n",
        "# MinMaxScaler\n",
        "scaler = MinMaxScaler()\n",
        "scaled_2 = scaler.fit_transform(data)\n",
        "\n",
        "# Muestro las primeras 5 filas escaladas con scale\n",
        "print(\"Escalado con scale:\")\n",
        "print(scaled_1[1:6,])\n",
        "\n",
        "# Muestro las primeras 5 filas escaladas con Min-Max\n",
        "print(\"\\nEscalado con Min-Max:\")\n",
        "print(scaled_2[1:6,])"
      ],
      "metadata": {
        "id": "6eYbDhbR-wum",
        "colab": {
          "base_uri": "https://localhost:8080/"
        },
        "outputId": "b68955aa-bc46-4c0e-ef16-b50722ecb04e"
      },
      "execution_count": 64,
      "outputs": [
        {
          "output_type": "stream",
          "name": "stdout",
          "text": [
            "Escalado con scale:\n",
            "[[-1.44431183 -1.12508076 -1.74940878  0.77685299 -1.24333707 -0.83856423\n",
            "  -1.49392245]\n",
            " [-1.47032522 -1.20362021 -1.59563273  0.49392184 -1.24333707 -0.87574827\n",
            "  -1.4716152 ]\n",
            " [-1.47143446 -1.18197339 -1.53562363  0.36931648 -1.24333707 -0.80138019\n",
            "  -1.440276  ]\n",
            " [-1.53538687 -1.09156224 -1.45966454  0.5211537  -1.24333707 -0.83856423\n",
            "  -1.41593004]\n",
            " [-1.4973831  -1.1054175  -1.20006907  0.29551931 -1.24333707 -0.83856423\n",
            "  -1.31250121]]\n",
            "\n",
            "Escalado con Min-Max:\n",
            "[[0.02706111 0.02280499 0.0470715  0.577942   0.07692308 0.11214953\n",
            "  0.00316876]\n",
            " [0.01933176 0.         0.09069003 0.51232352 0.07692308 0.10280374\n",
            "  0.00926652]\n",
            " [0.01900217 0.00628545 0.1077116  0.48342456 0.07692308 0.12149533\n",
            "  0.01783319]\n",
            " [0.         0.03253755 0.12925738 0.51863923 0.07692308 0.11214953\n",
            "  0.02448824]\n",
            " [0.01129206 0.02851449 0.20289157 0.46630924 0.07692308 0.11214953\n",
            "  0.05276084]]\n"
          ]
        }
      ]
    },
    {
      "cell_type": "code",
      "source": [
        "from sklearn.cluster import KMeans\n",
        "\n",
        "# Corro el algoritmo con K entre 2 y 7 porque son 7 variables y voy guardando el error para luego graficarlo.\n",
        "sse = []\n",
        "list_k = list(range(1, 7))\n",
        "\n",
        "for k in list_k:\n",
        "    km = KMeans(n_clusters=k)\n",
        "    km.fit(scaled_1)\n",
        "    sse.append(km.inertia_)\n",
        "\n",
        "# Grafico el SSE por K\n",
        "plt.figure(figsize=(6, 6))\n",
        "plt.plot(list_k, sse, '-o')\n",
        "plt.xlabel(r'Cantidad de clusters *k*')\n",
        "plt.ylabel('SSE')\n",
        "\n"
      ],
      "metadata": {
        "id": "UZAvjl7RvIXv",
        "colab": {
          "base_uri": "https://localhost:8080/",
          "height": 634
        },
        "outputId": "c89f4125-c0aa-4f77-eea4-951bb99b8dc7"
      },
      "execution_count": 65,
      "outputs": [
        {
          "output_type": "stream",
          "name": "stderr",
          "text": [
            "/usr/local/lib/python3.9/dist-packages/sklearn/cluster/_kmeans.py:870: FutureWarning: The default value of `n_init` will change from 10 to 'auto' in 1.4. Set the value of `n_init` explicitly to suppress the warning\n",
            "  warnings.warn(\n",
            "/usr/local/lib/python3.9/dist-packages/sklearn/cluster/_kmeans.py:870: FutureWarning: The default value of `n_init` will change from 10 to 'auto' in 1.4. Set the value of `n_init` explicitly to suppress the warning\n",
            "  warnings.warn(\n",
            "/usr/local/lib/python3.9/dist-packages/sklearn/cluster/_kmeans.py:870: FutureWarning: The default value of `n_init` will change from 10 to 'auto' in 1.4. Set the value of `n_init` explicitly to suppress the warning\n",
            "  warnings.warn(\n",
            "/usr/local/lib/python3.9/dist-packages/sklearn/cluster/_kmeans.py:870: FutureWarning: The default value of `n_init` will change from 10 to 'auto' in 1.4. Set the value of `n_init` explicitly to suppress the warning\n",
            "  warnings.warn(\n",
            "/usr/local/lib/python3.9/dist-packages/sklearn/cluster/_kmeans.py:870: FutureWarning: The default value of `n_init` will change from 10 to 'auto' in 1.4. Set the value of `n_init` explicitly to suppress the warning\n",
            "  warnings.warn(\n",
            "/usr/local/lib/python3.9/dist-packages/sklearn/cluster/_kmeans.py:870: FutureWarning: The default value of `n_init` will change from 10 to 'auto' in 1.4. Set the value of `n_init` explicitly to suppress the warning\n",
            "  warnings.warn(\n"
          ]
        },
        {
          "output_type": "execute_result",
          "data": {
            "text/plain": [
              "Text(0, 0.5, 'SSE')"
            ]
          },
          "metadata": {},
          "execution_count": 65
        },
        {
          "output_type": "display_data",
          "data": {
            "text/plain": [
              "<Figure size 432x432 with 1 Axes>"
            ],
            "image/png": "[encoded data removed]"
          },
          "metadata": {
            "needs_background": "light"
          }
        }
      ]
    },
    {
      "cell_type": "code",
      "source": [
        "df_inertias = pd.DataFrame({'n_clusters': range(1, 7), 'inertia': sse})\n",
        "df_inertias"
      ],
      "metadata": {
        "colab": {
          "base_uri": "https://localhost:8080/",
          "height": 237
        },
        "id": "dirDCSVWl2_u",
        "outputId": "c6261531-ac60-4457-8561-79f3a173d071"
      },
      "execution_count": 66,
      "outputs": [
        {
          "output_type": "execute_result",
          "data": {
            "text/plain": [
              "   n_clusters     inertia\n",
              "0           1  406.000000\n",
              "1           2  193.016547\n",
              "2           3   88.997740\n",
              "3           4   54.797705\n",
              "4           5   38.856703\n",
              "5           6   27.713431"
            ],
            "text/html": [
              "\n",
              "  <div id=\"df-2755db8f-0b9c-4d33-9491-372321637dde\">\n",
              "    <div class=\"colab-df-container\">\n",
              "      <div>\n",
              "<style scoped>\n",
              "    .dataframe tbody tr th:only-of-type {\n",
              "        vertical-align: middle;\n",
              "    }\n",
              "\n",
              "    .dataframe tbody tr th {\n",
              "        vertical-align: top;\n",
              "    }\n",
              "\n",
              "    .dataframe thead th {\n",
              "        text-align: right;\n",
              "    }\n",
              "</style>\n",
              "<table border=\"1\" class=\"dataframe\">\n",
              "  <thead>\n",
              "    <tr style=\"text-align: right;\">\n",
              "      <th></th>\n",
              "      <th>n_clusters</th>\n",
              "      <th>inertia</th>\n",
              "    </tr>\n",
              "  </thead>\n",
              "  <tbody>\n",
              "    <tr>\n",
              "      <th>0</th>\n",
              "      <td>1</td>\n",
              "      <td>406.000000</td>\n",
              "    </tr>\n",
              "    <tr>\n",
              "      <th>1</th>\n",
              "      <td>2</td>\n",
              "      <td>193.016547</td>\n",
              "    </tr>\n",
              "    <tr>\n",
              "      <th>2</th>\n",
              "      <td>3</td>\n",
              "      <td>88.997740</td>\n",
              "    </tr>\n",
              "    <tr>\n",
              "      <th>3</th>\n",
              "      <td>4</td>\n",
              "      <td>54.797705</td>\n",
              "    </tr>\n",
              "    <tr>\n",
              "      <th>4</th>\n",
              "      <td>5</td>\n",
              "      <td>38.856703</td>\n",
              "    </tr>\n",
              "    <tr>\n",
              "      <th>5</th>\n",
              "      <td>6</td>\n",
              "      <td>27.713431</td>\n",
              "    </tr>\n",
              "  </tbody>\n",
              "</table>\n",
              "</div>\n",
              "      <button class=\"colab-df-convert\" onclick=\"convertToInteractive('df-2755db8f-0b9c-4d33-9491-372321637dde')\"\n",
              "              title=\"Convert this dataframe to an interactive table.\"\n",
              "              style=\"display:none;\">\n",
              "        \n",
              "  <svg xmlns=\"http://www.w3.org/2000/svg\" height=\"24px\"viewBox=\"0 0 24 24\"\n",
              "       width=\"24px\">\n",
              "    <path d=\"M0 0h24v24H0V0z\" fill=\"none\"/>\n",
              "    <path d=\"M18.56 5.44l.94 2.06.94-2.06 2.06-.94-2.06-.94-.94-2.06-.94 2.06-2.06.94zm-11 1L8.5 8.5l.94-2.06 2.06-.94-2.06-.94L8.5 2.5l-.94 2.06-2.06.94zm10 10l.94 2.06.94-2.06 2.06-.94-2.06-.94-.94-2.06-.94 2.06-2.06.94z\"/><path d=\"M17.41 7.96l-1.37-1.37c-.4-.4-.92-.59-1.43-.59-.52 0-1.04.2-1.43.59L10.3 9.45l-7.72 7.72c-.78.78-.78 2.05 0 2.83L4 21.41c.39.39.9.59 1.41.59.51 0 1.02-.2 1.41-.59l7.78-7.78 2.81-2.81c.8-.78.8-2.07 0-2.86zM5.41 20L4 18.59l7.72-7.72 1.47 1.35L5.41 20z\"/>\n",
              "  </svg>\n",
              "      </button>\n",
              "      \n",
              "  <style>\n",
              "    .colab-df-container {\n",
              "      display:flex;\n",
              "      flex-wrap:wrap;\n",
              "      gap: 12px;\n",
              "    }\n",
              "\n",
              "    .colab-df-convert {\n",
              "      background-color: #E8F0FE;\n",
              "      border: none;\n",
              "      border-radius: 50%;\n",
              "      cursor: pointer;\n",
              "      display: none;\n",
              "      fill: #1967D2;\n",
              "      height: 32px;\n",
              "      padding: 0 0 0 0;\n",
              "      width: 32px;\n",
              "    }\n",
              "\n",
              "    .colab-df-convert:hover {\n",
              "      background-color: #E2EBFA;\n",
              "      box-shadow: 0px 1px 2px rgba(60, 64, 67, 0.3), 0px 1px 3px 1px rgba(60, 64, 67, 0.15);\n",
              "      fill: #174EA6;\n",
              "    }\n",
              "\n",
              "    [theme=dark] .colab-df-convert {\n",
              "      background-color: #3B4455;\n",
              "      fill: #D2E3FC;\n",
              "    }\n",
              "\n",
              "    [theme=dark] .colab-df-convert:hover {\n",
              "      background-color: #434B5C;\n",
              "      box-shadow: 0px 1px 3px 1px rgba(0, 0, 0, 0.15);\n",
              "      filter: drop-shadow(0px 1px 2px rgba(0, 0, 0, 0.3));\n",
              "      fill: #FFFFFF;\n",
              "    }\n",
              "  </style>\n",
              "\n",
              "      <script>\n",
              "        const buttonEl =\n",
              "          document.querySelector('#df-2755db8f-0b9c-4d33-9491-372321637dde button.colab-df-convert');\n",
              "        buttonEl.style.display =\n",
              "          google.colab.kernel.accessAllowed ? 'block' : 'none';\n",
              "\n",
              "        async function convertToInteractive(key) {\n",
              "          const element = document.querySelector('#df-2755db8f-0b9c-4d33-9491-372321637dde');\n",
              "          const dataTable =\n",
              "            await google.colab.kernel.invokeFunction('convertToInteractive',\n",
              "                                                     [key], {});\n",
              "          if (!dataTable) return;\n",
              "\n",
              "          const docLinkHtml = 'Like what you see? Visit the ' +\n",
              "            '<a target=\"_blank\" href=https://colab.research.google.com/notebooks/data_table.ipynb>data table notebook</a>'\n",
              "            + ' to learn more about interactive tables.';\n",
              "          element.innerHTML = '';\n",
              "          dataTable['output_type'] = 'display_data';\n",
              "          await google.colab.output.renderOutput(dataTable, element);\n",
              "          const docLink = document.createElement('div');\n",
              "          docLink.innerHTML = docLinkHtml;\n",
              "          element.appendChild(docLink);\n",
              "        }\n",
              "      </script>\n",
              "    </div>\n",
              "  </div>\n",
              "  "
            ]
          },
          "metadata": {},
          "execution_count": 66
        }
      ]
    },
    {
      "cell_type": "code",
      "source": [
        "from numpy import ones,vstack\n",
        "from numpy.linalg import lstsq\n",
        "points = [\n",
        "    (df_inertias.iloc[0, :].n_clusters, df_inertias.iloc[0, :].inertia),\n",
        "    (df_inertias.iloc[-1, :].n_clusters, df_inertias.iloc[-1, :].inertia)\n",
        "]\n",
        "x_coords, y_coords = zip(*points)\n",
        "A = vstack([x_coords, ones(len(x_coords))]).T\n",
        "m, b = lstsq(A, y_coords, rcond=None)[0]"
      ],
      "metadata": {
        "id": "K8guRQS0mzw0"
      },
      "execution_count": 67,
      "outputs": []
    },
    {
      "cell_type": "code",
      "source": [
        "plt.figure()\n",
        "plt.plot(df_inertias.n_clusters, df_inertias.inertia)\n",
        "plt.plot(df_inertias.iloc[[0, -1], :].n_clusters, df_inertias.iloc[[0, -1], :].inertia, c='r')\n",
        "for i, r in df_inertias.iterrows():\n",
        "    d = '$d_{' + str(i) + '}' + f' = {abs(round(r.inertia - (m * r.n_clusters + b), 2)):,}$'\n",
        "    plt.annotate(d, xytext=(r.n_clusters, m * r.n_clusters + b), xy=(r.n_clusters, m * r.n_clusters + b), rotation = 45)\n",
        "    plt.plot([r.n_clusters, r.n_clusters], [r.inertia, m * r.n_clusters + b], '--k')\n",
        "plt.xlabel('Número de grupos')\n",
        "plt.ylabel('Media de las distancias cuadradas entre grupos')\n",
        "plt.xlim((1, 7))\n",
        "plt.ylim((0, 1.15 * df_inertias.inertia.max()))\n",
        "plt.xticks(range(1, 7))\n",
        "plt.savefig('codo.pdf')\n",
        "plt.show()"
      ],
      "metadata": {
        "colab": {
          "base_uri": "https://localhost:8080/",
          "height": 286
        },
        "id": "PzfZNBlNm1IS",
        "outputId": "b4bb0a9b-5a3c-47a1-daf3-3fd77aa00a69"
      },
      "execution_count": 71,
      "outputs": [
        {
          "output_type": "display_data",
          "data": {
            "text/plain": [
              "<Figure size 432x288 with 1 Axes>"
            ],
            "image/png": "[encoded data removed]"
          },
          "metadata": {
            "needs_background": "light"
          }
        }
      ]
    },
    {
      "cell_type": "markdown",
      "source": [
        "Por lo tanto, el grupo de cluster sugerido por el método del codo es de 3."
      ],
      "metadata": {
        "id": "y6dWHzHfnG_A"
      }
    },
    {
      "cell_type": "markdown",
      "source": [
        "### Busca alguna revista científica que publique trabajos relacionados con el tuyo\n",
        "\n",
        "Es una página web llamada Redalyc (Red de Revistas Científicas de América Latina y el Caribe, España y Portugal) la cuál cuenta con 1,575 revistas en línea entre las que se encuentran Análisis Económico, Ciencia y Sociedad, Entramado y Estudios del Desarrollo Social entre otras.\n",
        "\n",
        "https://www.redalyc.org/home.oa\n",
        "\n",
        "La revista seleccionada es Entramado, ya que uno de sus articulos publicados (Medición del riesgo de liquidez. Una\n",
        "aplicación en el sector cooperativo) se relaciona con los datos al hacer uso de activos y pasivos para generar la brecha de liquidez."
      ],
      "metadata": {
        "id": "d4vDZijsAhI3"
      }
    },
    {
      "cell_type": "markdown",
      "source": [
        "### Crea artículo mediante Latex con base en los lineamientos de la revista elegida y redacta ahí tus resultados, discusiones y bibliografía\n"
      ],
      "metadata": {
        "id": "7zGf0cK1Aknk"
      }
    },
    {
      "cell_type": "markdown",
      "source": [
        "### Sube el código de tu tarea, los archivos de Latex y el PDF del artículo en tu repositorio, claramente diferenciados\n"
      ],
      "metadata": {
        "id": "4mqwe4lrArfH"
      }
    }
  ]
}