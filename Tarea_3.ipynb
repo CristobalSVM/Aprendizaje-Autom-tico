{
  "nbformat": 4,
  "nbformat_minor": 0,
  "metadata": {
    "colab": {
      "provenance": [],
      "authorship_tag": "ABX9TyOlqTGe+yBjvyVSksrXp5Ss",
      "include_colab_link": true
    },
    "kernelspec": {
      "name": "python3",
      "display_name": "Python 3"
    },
    "language_info": {
      "name": "python"
    }
  },
  "cells": [
    {
      "cell_type": "markdown",
      "metadata": {
        "id": "view-in-github",
        "colab_type": "text"
      },
      "source": [
        "<a href=\"https://colab.research.google.com/github/CristobalSVM/Aprendizaje-Automatico/blob/main/Tarea_3.ipynb\" target=\"_parent\"><img src=\"https://colab.research.google.com/assets/colab-badge.svg\" alt=\"Open In Colab\"/></a>"
      ]
    },
    {
      "cell_type": "code",
      "execution_count": 138,
      "metadata": {
        "colab": {
          "base_uri": "https://localhost:8080/",
          "height": 441
        },
        "id": "m7XcyCtvrh7h",
        "outputId": "62c9a2a2-f74f-43d9-fb6a-0eddb5e47717"
      },
      "outputs": [
        {
          "output_type": "stream",
          "name": "stdout",
          "text": [
            "Drive already mounted at /content/drive; to attempt to forcibly remount, call drive.mount(\"/content/drive\", force_remount=True).\n"
          ]
        },
        {
          "output_type": "execute_result",
          "data": {
            "text/plain": [
              "      id     fecha        activo         vista         plazo  \\\n",
              "0    1.0  201612.0  9.748517e+10  2.922565e+10  3.542812e+10   \n",
              "1    2.0  201701.0  9.912669e+10  2.913157e+10  3.661224e+10   \n",
              "2    3.0  201702.0  9.860860e+10  2.834034e+10  3.770951e+10   \n",
              "3    4.0  201703.0  9.858651e+10  2.855841e+10  3.813770e+10   \n",
              "4    5.0  201704.0  9.731282e+10  2.946925e+10  3.867970e+10   \n",
              "..   ...       ...           ...           ...           ...   \n",
              "56  57.0  202108.0  1.601921e+11  6.032032e+10  4.633195e+10   \n",
              "57  58.0  202109.0  1.600526e+11  6.118401e+10  4.541217e+10   \n",
              "58  59.0  202110.0  1.616247e+11  6.153808e+10  4.461547e+10   \n",
              "59  60.0  202111.0  1.643413e+11  6.303590e+10  4.425472e+10   \n",
              "60  61.0  202112.0  1.627420e+11  6.189489e+10  4.497188e+10   \n",
              "\n",
              "    prestamos interbancarios  sucursales  cajeros  tarjetas  \n",
              "0               6.761324e+09       147.0    274.0   75627.0  \n",
              "1               6.610840e+09       149.0    283.0   76116.0  \n",
              "2               6.352306e+09       149.0    282.0   77057.0  \n",
              "3               6.238445e+09       149.0    284.0   78379.0  \n",
              "4               6.377189e+09       149.0    283.0   79406.0  \n",
              "..                       ...         ...      ...       ...  \n",
              "56              4.434798e+09       169.0    351.0  205704.0  \n",
              "57              4.333770e+09       170.0    364.0  212165.0  \n",
              "58              4.450421e+09       157.0    349.0  219334.0  \n",
              "59              4.662185e+09       158.0    360.0  227138.0  \n",
              "60              4.796986e+09       173.0    378.0  229946.0  \n",
              "\n",
              "[61 rows x 9 columns]"
            ],
            "text/html": [
              "\n",
              "  <div id=\"df-8c41f512-0efc-4f0a-93b9-852fd8e3a5b4\">\n",
              "    <div class=\"colab-df-container\">\n",
              "      <div>\n",
              "<style scoped>\n",
              "    .dataframe tbody tr th:only-of-type {\n",
              "        vertical-align: middle;\n",
              "    }\n",
              "\n",
              "    .dataframe tbody tr th {\n",
              "        vertical-align: top;\n",
              "    }\n",
              "\n",
              "    .dataframe thead th {\n",
              "        text-align: right;\n",
              "    }\n",
              "</style>\n",
              "<table border=\"1\" class=\"dataframe\">\n",
              "  <thead>\n",
              "    <tr style=\"text-align: right;\">\n",
              "      <th></th>\n",
              "      <th>id</th>\n",
              "      <th>fecha</th>\n",
              "      <th>activo</th>\n",
              "      <th>vista</th>\n",
              "      <th>plazo</th>\n",
              "      <th>prestamos interbancarios</th>\n",
              "      <th>sucursales</th>\n",
              "      <th>cajeros</th>\n",
              "      <th>tarjetas</th>\n",
              "    </tr>\n",
              "  </thead>\n",
              "  <tbody>\n",
              "    <tr>\n",
              "      <th>0</th>\n",
              "      <td>1.0</td>\n",
              "      <td>201612.0</td>\n",
              "      <td>9.748517e+10</td>\n",
              "      <td>2.922565e+10</td>\n",
              "      <td>3.542812e+10</td>\n",
              "      <td>6.761324e+09</td>\n",
              "      <td>147.0</td>\n",
              "      <td>274.0</td>\n",
              "      <td>75627.0</td>\n",
              "    </tr>\n",
              "    <tr>\n",
              "      <th>1</th>\n",
              "      <td>2.0</td>\n",
              "      <td>201701.0</td>\n",
              "      <td>9.912669e+10</td>\n",
              "      <td>2.913157e+10</td>\n",
              "      <td>3.661224e+10</td>\n",
              "      <td>6.610840e+09</td>\n",
              "      <td>149.0</td>\n",
              "      <td>283.0</td>\n",
              "      <td>76116.0</td>\n",
              "    </tr>\n",
              "    <tr>\n",
              "      <th>2</th>\n",
              "      <td>3.0</td>\n",
              "      <td>201702.0</td>\n",
              "      <td>9.860860e+10</td>\n",
              "      <td>2.834034e+10</td>\n",
              "      <td>3.770951e+10</td>\n",
              "      <td>6.352306e+09</td>\n",
              "      <td>149.0</td>\n",
              "      <td>282.0</td>\n",
              "      <td>77057.0</td>\n",
              "    </tr>\n",
              "    <tr>\n",
              "      <th>3</th>\n",
              "      <td>4.0</td>\n",
              "      <td>201703.0</td>\n",
              "      <td>9.858651e+10</td>\n",
              "      <td>2.855841e+10</td>\n",
              "      <td>3.813770e+10</td>\n",
              "      <td>6.238445e+09</td>\n",
              "      <td>149.0</td>\n",
              "      <td>284.0</td>\n",
              "      <td>78379.0</td>\n",
              "    </tr>\n",
              "    <tr>\n",
              "      <th>4</th>\n",
              "      <td>5.0</td>\n",
              "      <td>201704.0</td>\n",
              "      <td>9.731282e+10</td>\n",
              "      <td>2.946925e+10</td>\n",
              "      <td>3.867970e+10</td>\n",
              "      <td>6.377189e+09</td>\n",
              "      <td>149.0</td>\n",
              "      <td>283.0</td>\n",
              "      <td>79406.0</td>\n",
              "    </tr>\n",
              "    <tr>\n",
              "      <th>...</th>\n",
              "      <td>...</td>\n",
              "      <td>...</td>\n",
              "      <td>...</td>\n",
              "      <td>...</td>\n",
              "      <td>...</td>\n",
              "      <td>...</td>\n",
              "      <td>...</td>\n",
              "      <td>...</td>\n",
              "      <td>...</td>\n",
              "    </tr>\n",
              "    <tr>\n",
              "      <th>56</th>\n",
              "      <td>57.0</td>\n",
              "      <td>202108.0</td>\n",
              "      <td>1.601921e+11</td>\n",
              "      <td>6.032032e+10</td>\n",
              "      <td>4.633195e+10</td>\n",
              "      <td>4.434798e+09</td>\n",
              "      <td>169.0</td>\n",
              "      <td>351.0</td>\n",
              "      <td>205704.0</td>\n",
              "    </tr>\n",
              "    <tr>\n",
              "      <th>57</th>\n",
              "      <td>58.0</td>\n",
              "      <td>202109.0</td>\n",
              "      <td>1.600526e+11</td>\n",
              "      <td>6.118401e+10</td>\n",
              "      <td>4.541217e+10</td>\n",
              "      <td>4.333770e+09</td>\n",
              "      <td>170.0</td>\n",
              "      <td>364.0</td>\n",
              "      <td>212165.0</td>\n",
              "    </tr>\n",
              "    <tr>\n",
              "      <th>58</th>\n",
              "      <td>59.0</td>\n",
              "      <td>202110.0</td>\n",
              "      <td>1.616247e+11</td>\n",
              "      <td>6.153808e+10</td>\n",
              "      <td>4.461547e+10</td>\n",
              "      <td>4.450421e+09</td>\n",
              "      <td>157.0</td>\n",
              "      <td>349.0</td>\n",
              "      <td>219334.0</td>\n",
              "    </tr>\n",
              "    <tr>\n",
              "      <th>59</th>\n",
              "      <td>60.0</td>\n",
              "      <td>202111.0</td>\n",
              "      <td>1.643413e+11</td>\n",
              "      <td>6.303590e+10</td>\n",
              "      <td>4.425472e+10</td>\n",
              "      <td>4.662185e+09</td>\n",
              "      <td>158.0</td>\n",
              "      <td>360.0</td>\n",
              "      <td>227138.0</td>\n",
              "    </tr>\n",
              "    <tr>\n",
              "      <th>60</th>\n",
              "      <td>61.0</td>\n",
              "      <td>202112.0</td>\n",
              "      <td>1.627420e+11</td>\n",
              "      <td>6.189489e+10</td>\n",
              "      <td>4.497188e+10</td>\n",
              "      <td>4.796986e+09</td>\n",
              "      <td>173.0</td>\n",
              "      <td>378.0</td>\n",
              "      <td>229946.0</td>\n",
              "    </tr>\n",
              "  </tbody>\n",
              "</table>\n",
              "<p>61 rows × 9 columns</p>\n",
              "</div>\n",
              "      <button class=\"colab-df-convert\" onclick=\"convertToInteractive('df-8c41f512-0efc-4f0a-93b9-852fd8e3a5b4')\"\n",
              "              title=\"Convert this dataframe to an interactive table.\"\n",
              "              style=\"display:none;\">\n",
              "        \n",
              "  <svg xmlns=\"http://www.w3.org/2000/svg\" height=\"24px\"viewBox=\"0 0 24 24\"\n",
              "       width=\"24px\">\n",
              "    <path d=\"M0 0h24v24H0V0z\" fill=\"none\"/>\n",
              "    <path d=\"M18.56 5.44l.94 2.06.94-2.06 2.06-.94-2.06-.94-.94-2.06-.94 2.06-2.06.94zm-11 1L8.5 8.5l.94-2.06 2.06-.94-2.06-.94L8.5 2.5l-.94 2.06-2.06.94zm10 10l.94 2.06.94-2.06 2.06-.94-2.06-.94-.94-2.06-.94 2.06-2.06.94z\"/><path d=\"M17.41 7.96l-1.37-1.37c-.4-.4-.92-.59-1.43-.59-.52 0-1.04.2-1.43.59L10.3 9.45l-7.72 7.72c-.78.78-.78 2.05 0 2.83L4 21.41c.39.39.9.59 1.41.59.51 0 1.02-.2 1.41-.59l7.78-7.78 2.81-2.81c.8-.78.8-2.07 0-2.86zM5.41 20L4 18.59l7.72-7.72 1.47 1.35L5.41 20z\"/>\n",
              "  </svg>\n",
              "      </button>\n",
              "      \n",
              "  <style>\n",
              "    .colab-df-container {\n",
              "      display:flex;\n",
              "      flex-wrap:wrap;\n",
              "      gap: 12px;\n",
              "    }\n",
              "\n",
              "    .colab-df-convert {\n",
              "      background-color: #E8F0FE;\n",
              "      border: none;\n",
              "      border-radius: 50%;\n",
              "      cursor: pointer;\n",
              "      display: none;\n",
              "      fill: #1967D2;\n",
              "      height: 32px;\n",
              "      padding: 0 0 0 0;\n",
              "      width: 32px;\n",
              "    }\n",
              "\n",
              "    .colab-df-convert:hover {\n",
              "      background-color: #E2EBFA;\n",
              "      box-shadow: 0px 1px 2px rgba(60, 64, 67, 0.3), 0px 1px 3px 1px rgba(60, 64, 67, 0.15);\n",
              "      fill: #174EA6;\n",
              "    }\n",
              "\n",
              "    [theme=dark] .colab-df-convert {\n",
              "      background-color: #3B4455;\n",
              "      fill: #D2E3FC;\n",
              "    }\n",
              "\n",
              "    [theme=dark] .colab-df-convert:hover {\n",
              "      background-color: #434B5C;\n",
              "      box-shadow: 0px 1px 3px 1px rgba(0, 0, 0, 0.15);\n",
              "      filter: drop-shadow(0px 1px 2px rgba(0, 0, 0, 0.3));\n",
              "      fill: #FFFFFF;\n",
              "    }\n",
              "  </style>\n",
              "\n",
              "      <script>\n",
              "        const buttonEl =\n",
              "          document.querySelector('#df-8c41f512-0efc-4f0a-93b9-852fd8e3a5b4 button.colab-df-convert');\n",
              "        buttonEl.style.display =\n",
              "          google.colab.kernel.accessAllowed ? 'block' : 'none';\n",
              "\n",
              "        async function convertToInteractive(key) {\n",
              "          const element = document.querySelector('#df-8c41f512-0efc-4f0a-93b9-852fd8e3a5b4');\n",
              "          const dataTable =\n",
              "            await google.colab.kernel.invokeFunction('convertToInteractive',\n",
              "                                                     [key], {});\n",
              "          if (!dataTable) return;\n",
              "\n",
              "          const docLinkHtml = 'Like what you see? Visit the ' +\n",
              "            '<a target=\"_blank\" href=https://colab.research.google.com/notebooks/data_table.ipynb>data table notebook</a>'\n",
              "            + ' to learn more about interactive tables.';\n",
              "          element.innerHTML = '';\n",
              "          dataTable['output_type'] = 'display_data';\n",
              "          await google.colab.output.renderOutput(dataTable, element);\n",
              "          const docLink = document.createElement('div');\n",
              "          docLink.innerHTML = docLinkHtml;\n",
              "          element.appendChild(docLink);\n",
              "        }\n",
              "      </script>\n",
              "    </div>\n",
              "  </div>\n",
              "  "
            ]
          },
          "metadata": {},
          "execution_count": 138
        }
      ],
      "source": [
        "#Importar libreria para abrir xlsx o csv.\n",
        "import pandas as pd\n",
        "\n",
        "#Acceso a google drive\n",
        "from google.colab import files\n",
        "from google.colab import drive\n",
        "drive.mount('/content/drive')\n",
        "\n",
        "#Carga de base\n",
        "bd_BR = \"/content/drive/MyDrive/Tarea 2 BD_BR.xlsx\"\n",
        "df = pd.read_excel(bd_BR)\n",
        "df"
      ]
    },
    {
      "cell_type": "code",
      "source": [
        " # Cambiar tipo de variable \n",
        " convertir = {'id': int,\n",
        "                'fecha': int,\n",
        "                'sucursales': int,\n",
        "                'cajeros': int,\n",
        "                'tarjetas': int}  \n",
        "  \n",
        "df = df.astype(convertir)  \n",
        "print(df.dtypes)"
      ],
      "metadata": {
        "colab": {
          "base_uri": "https://localhost:8080/"
        },
        "id": "HQJLUL0LsEZ6",
        "outputId": "6c02a3ba-8260-45c2-fed9-52dc6ece5588"
      },
      "execution_count": 139,
      "outputs": [
        {
          "output_type": "stream",
          "name": "stdout",
          "text": [
            "id                            int64\n",
            "fecha                         int64\n",
            "activo                      float64\n",
            "vista                       float64\n",
            "plazo                       float64\n",
            "prestamos interbancarios    float64\n",
            "sucursales                    int64\n",
            "cajeros                       int64\n",
            "tarjetas                      int64\n",
            "dtype: object\n"
          ]
        }
      ]
    },
    {
      "cell_type": "code",
      "source": [
        "# modificar columnas fecha, activo, vista, plazo, prestamos interbancarios para tener unidades de millones de pesos\n",
        "df['activo'] = df['activo']/1000000 \n",
        "df['vista'] = df['vista']/1000000\n",
        "df['plazo'] = df['plazo']/1000000\n",
        "df['prestamos interbancarios'] = df['prestamos interbancarios']/1000000\n",
        "df"
      ],
      "metadata": {
        "colab": {
          "base_uri": "https://localhost:8080/",
          "height": 423
        },
        "id": "KNjQRR9-sGz1",
        "outputId": "e3ad2f0c-5c70-4dd8-b306-0b08e72af332"
      },
      "execution_count": 140,
      "outputs": [
        {
          "output_type": "execute_result",
          "data": {
            "text/plain": [
              "    id   fecha         activo         vista         plazo  \\\n",
              "0    1  201612   97485.166229  29225.647457  35428.115940   \n",
              "1    2  201701   99126.687818  29131.569781  36612.242954   \n",
              "2    3  201702   98608.600975  28340.337574  37709.507528   \n",
              "3    4  201703   98586.509106  28558.414751  38137.700755   \n",
              "4    5  201704   97312.822576  29469.246336  38679.704639   \n",
              "..  ..     ...            ...           ...           ...   \n",
              "56  57  202108  160192.052221  60320.321810  46331.947444   \n",
              "57  58  202109  160052.609554  61184.005188  45412.168111   \n",
              "58  59  202110  161624.690860  61538.079059  44615.468429   \n",
              "59  60  202111  164341.303018  63035.903530  44254.716609   \n",
              "60  61  202112  162741.963452  61894.888487  44971.875448   \n",
              "\n",
              "    prestamos interbancarios  sucursales  cajeros  tarjetas  \n",
              "0                6761.324060         147      274     75627  \n",
              "1                6610.839888         149      283     76116  \n",
              "2                6352.305520         149      282     77057  \n",
              "3                6238.444715         149      284     78379  \n",
              "4                6377.189215         149      283     79406  \n",
              "..                       ...         ...      ...       ...  \n",
              "56               4434.797863         169      351    205704  \n",
              "57               4333.770086         170      364    212165  \n",
              "58               4450.421055         157      349    219334  \n",
              "59               4662.184942         158      360    227138  \n",
              "60               4796.986439         173      378    229946  \n",
              "\n",
              "[61 rows x 9 columns]"
            ],
            "text/html": [
              "\n",
              "  <div id=\"df-27c385cd-80bd-4aef-8a9d-be5c2f026a92\">\n",
              "    <div class=\"colab-df-container\">\n",
              "      <div>\n",
              "<style scoped>\n",
              "    .dataframe tbody tr th:only-of-type {\n",
              "        vertical-align: middle;\n",
              "    }\n",
              "\n",
              "    .dataframe tbody tr th {\n",
              "        vertical-align: top;\n",
              "    }\n",
              "\n",
              "    .dataframe thead th {\n",
              "        text-align: right;\n",
              "    }\n",
              "</style>\n",
              "<table border=\"1\" class=\"dataframe\">\n",
              "  <thead>\n",
              "    <tr style=\"text-align: right;\">\n",
              "      <th></th>\n",
              "      <th>id</th>\n",
              "      <th>fecha</th>\n",
              "      <th>activo</th>\n",
              "      <th>vista</th>\n",
              "      <th>plazo</th>\n",
              "      <th>prestamos interbancarios</th>\n",
              "      <th>sucursales</th>\n",
              "      <th>cajeros</th>\n",
              "      <th>tarjetas</th>\n",
              "    </tr>\n",
              "  </thead>\n",
              "  <tbody>\n",
              "    <tr>\n",
              "      <th>0</th>\n",
              "      <td>1</td>\n",
              "      <td>201612</td>\n",
              "      <td>97485.166229</td>\n",
              "      <td>29225.647457</td>\n",
              "      <td>35428.115940</td>\n",
              "      <td>6761.324060</td>\n",
              "      <td>147</td>\n",
              "      <td>274</td>\n",
              "      <td>75627</td>\n",
              "    </tr>\n",
              "    <tr>\n",
              "      <th>1</th>\n",
              "      <td>2</td>\n",
              "      <td>201701</td>\n",
              "      <td>99126.687818</td>\n",
              "      <td>29131.569781</td>\n",
              "      <td>36612.242954</td>\n",
              "      <td>6610.839888</td>\n",
              "      <td>149</td>\n",
              "      <td>283</td>\n",
              "      <td>76116</td>\n",
              "    </tr>\n",
              "    <tr>\n",
              "      <th>2</th>\n",
              "      <td>3</td>\n",
              "      <td>201702</td>\n",
              "      <td>98608.600975</td>\n",
              "      <td>28340.337574</td>\n",
              "      <td>37709.507528</td>\n",
              "      <td>6352.305520</td>\n",
              "      <td>149</td>\n",
              "      <td>282</td>\n",
              "      <td>77057</td>\n",
              "    </tr>\n",
              "    <tr>\n",
              "      <th>3</th>\n",
              "      <td>4</td>\n",
              "      <td>201703</td>\n",
              "      <td>98586.509106</td>\n",
              "      <td>28558.414751</td>\n",
              "      <td>38137.700755</td>\n",
              "      <td>6238.444715</td>\n",
              "      <td>149</td>\n",
              "      <td>284</td>\n",
              "      <td>78379</td>\n",
              "    </tr>\n",
              "    <tr>\n",
              "      <th>4</th>\n",
              "      <td>5</td>\n",
              "      <td>201704</td>\n",
              "      <td>97312.822576</td>\n",
              "      <td>29469.246336</td>\n",
              "      <td>38679.704639</td>\n",
              "      <td>6377.189215</td>\n",
              "      <td>149</td>\n",
              "      <td>283</td>\n",
              "      <td>79406</td>\n",
              "    </tr>\n",
              "    <tr>\n",
              "      <th>...</th>\n",
              "      <td>...</td>\n",
              "      <td>...</td>\n",
              "      <td>...</td>\n",
              "      <td>...</td>\n",
              "      <td>...</td>\n",
              "      <td>...</td>\n",
              "      <td>...</td>\n",
              "      <td>...</td>\n",
              "      <td>...</td>\n",
              "    </tr>\n",
              "    <tr>\n",
              "      <th>56</th>\n",
              "      <td>57</td>\n",
              "      <td>202108</td>\n",
              "      <td>160192.052221</td>\n",
              "      <td>60320.321810</td>\n",
              "      <td>46331.947444</td>\n",
              "      <td>4434.797863</td>\n",
              "      <td>169</td>\n",
              "      <td>351</td>\n",
              "      <td>205704</td>\n",
              "    </tr>\n",
              "    <tr>\n",
              "      <th>57</th>\n",
              "      <td>58</td>\n",
              "      <td>202109</td>\n",
              "      <td>160052.609554</td>\n",
              "      <td>61184.005188</td>\n",
              "      <td>45412.168111</td>\n",
              "      <td>4333.770086</td>\n",
              "      <td>170</td>\n",
              "      <td>364</td>\n",
              "      <td>212165</td>\n",
              "    </tr>\n",
              "    <tr>\n",
              "      <th>58</th>\n",
              "      <td>59</td>\n",
              "      <td>202110</td>\n",
              "      <td>161624.690860</td>\n",
              "      <td>61538.079059</td>\n",
              "      <td>44615.468429</td>\n",
              "      <td>4450.421055</td>\n",
              "      <td>157</td>\n",
              "      <td>349</td>\n",
              "      <td>219334</td>\n",
              "    </tr>\n",
              "    <tr>\n",
              "      <th>59</th>\n",
              "      <td>60</td>\n",
              "      <td>202111</td>\n",
              "      <td>164341.303018</td>\n",
              "      <td>63035.903530</td>\n",
              "      <td>44254.716609</td>\n",
              "      <td>4662.184942</td>\n",
              "      <td>158</td>\n",
              "      <td>360</td>\n",
              "      <td>227138</td>\n",
              "    </tr>\n",
              "    <tr>\n",
              "      <th>60</th>\n",
              "      <td>61</td>\n",
              "      <td>202112</td>\n",
              "      <td>162741.963452</td>\n",
              "      <td>61894.888487</td>\n",
              "      <td>44971.875448</td>\n",
              "      <td>4796.986439</td>\n",
              "      <td>173</td>\n",
              "      <td>378</td>\n",
              "      <td>229946</td>\n",
              "    </tr>\n",
              "  </tbody>\n",
              "</table>\n",
              "<p>61 rows × 9 columns</p>\n",
              "</div>\n",
              "      <button class=\"colab-df-convert\" onclick=\"convertToInteractive('df-27c385cd-80bd-4aef-8a9d-be5c2f026a92')\"\n",
              "              title=\"Convert this dataframe to an interactive table.\"\n",
              "              style=\"display:none;\">\n",
              "        \n",
              "  <svg xmlns=\"http://www.w3.org/2000/svg\" height=\"24px\"viewBox=\"0 0 24 24\"\n",
              "       width=\"24px\">\n",
              "    <path d=\"M0 0h24v24H0V0z\" fill=\"none\"/>\n",
              "    <path d=\"M18.56 5.44l.94 2.06.94-2.06 2.06-.94-2.06-.94-.94-2.06-.94 2.06-2.06.94zm-11 1L8.5 8.5l.94-2.06 2.06-.94-2.06-.94L8.5 2.5l-.94 2.06-2.06.94zm10 10l.94 2.06.94-2.06 2.06-.94-2.06-.94-.94-2.06-.94 2.06-2.06.94z\"/><path d=\"M17.41 7.96l-1.37-1.37c-.4-.4-.92-.59-1.43-.59-.52 0-1.04.2-1.43.59L10.3 9.45l-7.72 7.72c-.78.78-.78 2.05 0 2.83L4 21.41c.39.39.9.59 1.41.59.51 0 1.02-.2 1.41-.59l7.78-7.78 2.81-2.81c.8-.78.8-2.07 0-2.86zM5.41 20L4 18.59l7.72-7.72 1.47 1.35L5.41 20z\"/>\n",
              "  </svg>\n",
              "      </button>\n",
              "      \n",
              "  <style>\n",
              "    .colab-df-container {\n",
              "      display:flex;\n",
              "      flex-wrap:wrap;\n",
              "      gap: 12px;\n",
              "    }\n",
              "\n",
              "    .colab-df-convert {\n",
              "      background-color: #E8F0FE;\n",
              "      border: none;\n",
              "      border-radius: 50%;\n",
              "      cursor: pointer;\n",
              "      display: none;\n",
              "      fill: #1967D2;\n",
              "      height: 32px;\n",
              "      padding: 0 0 0 0;\n",
              "      width: 32px;\n",
              "    }\n",
              "\n",
              "    .colab-df-convert:hover {\n",
              "      background-color: #E2EBFA;\n",
              "      box-shadow: 0px 1px 2px rgba(60, 64, 67, 0.3), 0px 1px 3px 1px rgba(60, 64, 67, 0.15);\n",
              "      fill: #174EA6;\n",
              "    }\n",
              "\n",
              "    [theme=dark] .colab-df-convert {\n",
              "      background-color: #3B4455;\n",
              "      fill: #D2E3FC;\n",
              "    }\n",
              "\n",
              "    [theme=dark] .colab-df-convert:hover {\n",
              "      background-color: #434B5C;\n",
              "      box-shadow: 0px 1px 3px 1px rgba(0, 0, 0, 0.15);\n",
              "      filter: drop-shadow(0px 1px 2px rgba(0, 0, 0, 0.3));\n",
              "      fill: #FFFFFF;\n",
              "    }\n",
              "  </style>\n",
              "\n",
              "      <script>\n",
              "        const buttonEl =\n",
              "          document.querySelector('#df-27c385cd-80bd-4aef-8a9d-be5c2f026a92 button.colab-df-convert');\n",
              "        buttonEl.style.display =\n",
              "          google.colab.kernel.accessAllowed ? 'block' : 'none';\n",
              "\n",
              "        async function convertToInteractive(key) {\n",
              "          const element = document.querySelector('#df-27c385cd-80bd-4aef-8a9d-be5c2f026a92');\n",
              "          const dataTable =\n",
              "            await google.colab.kernel.invokeFunction('convertToInteractive',\n",
              "                                                     [key], {});\n",
              "          if (!dataTable) return;\n",
              "\n",
              "          const docLinkHtml = 'Like what you see? Visit the ' +\n",
              "            '<a target=\"_blank\" href=https://colab.research.google.com/notebooks/data_table.ipynb>data table notebook</a>'\n",
              "            + ' to learn more about interactive tables.';\n",
              "          element.innerHTML = '';\n",
              "          dataTable['output_type'] = 'display_data';\n",
              "          await google.colab.output.renderOutput(dataTable, element);\n",
              "          const docLink = document.createElement('div');\n",
              "          docLink.innerHTML = docLinkHtml;\n",
              "          element.appendChild(docLink);\n",
              "        }\n",
              "      </script>\n",
              "    </div>\n",
              "  </div>\n",
              "  "
            ]
          },
          "metadata": {},
          "execution_count": 140
        }
      ]
    },
    {
      "cell_type": "markdown",
      "source": [
        "#Crear funciones para calcular las medidas de tendencia central y de dispersión con Python puro (sin librerías)\n"
      ],
      "metadata": {
        "id": "QbLvFWPErsBU"
      }
    },
    {
      "cell_type": "markdown",
      "source": [
        "## Medidas de tendencia central\n",
        "\n",
        "---\n",
        "\n"
      ],
      "metadata": {
        "id": "wrwQ4bmzr5KX"
      }
    },
    {
      "cell_type": "code",
      "source": [
        " # Media numero de sucursales\n",
        "cantidad = list(range(0,61,1))\n",
        "n = 61\n",
        "suma = 0\n",
        "for i in cantidad:\n",
        "  suma = suma + df['sucursales'][i]\n",
        "\n",
        " media = suma/n\n",
        " media"
      ],
      "metadata": {
        "colab": {
          "base_uri": "https://localhost:8080/"
        },
        "id": "KxCSbkrYsHDj",
        "outputId": "b5bdbf6a-6e8e-415c-9bf2-dc8966c3eeb9"
      },
      "execution_count": 141,
      "outputs": [
        {
          "output_type": "execute_result",
          "data": {
            "text/plain": [
              "157.91803278688525"
            ]
          },
          "metadata": {},
          "execution_count": 141
        }
      ]
    },
    {
      "cell_type": "code",
      "source": [
        "# Mediana de sucursales: son 61 registros por lo tanto, la mediana es la posición 31 por ser python, el indice es 30\n",
        "n = 61\n",
        "\n",
        "if n%2 == 1:\n",
        "  pos_mediana = 0.5*(n+1)\n",
        "else:\n",
        "  pos_mediana = 0.5*(0.5*(n)+0.5*(n+1))\n",
        "\n",
        "pos_mediana = pos_mediana - 1\n",
        "pos_mediana"
      ],
      "metadata": {
        "colab": {
          "base_uri": "https://localhost:8080/"
        },
        "id": "lwOR5mEnsHJ3",
        "outputId": "06765072-4666-4984-f09e-85b544b0c4f9"
      },
      "execution_count": 142,
      "outputs": [
        {
          "output_type": "execute_result",
          "data": {
            "text/plain": [
              "30.0"
            ]
          },
          "metadata": {},
          "execution_count": 142
        }
      ]
    },
    {
      "cell_type": "code",
      "source": [
        "# Ordenamos de menor a mayor la columna de sucursales y obtenermos la posición 31\n",
        "lista_sucursales = df['sucursales']\n",
        "type(lista_sucursales)\n",
        "sorted_series = lista_sucursales.sort_values(ascending= True)\n",
        "sorted_series[30]\n"
      ],
      "metadata": {
        "colab": {
          "base_uri": "https://localhost:8080/"
        },
        "id": "64CT1nxwsHPR",
        "outputId": "0dd7add9-b26b-4d38-c5cf-d22a5549cc58"
      },
      "execution_count": 143,
      "outputs": [
        {
          "output_type": "execute_result",
          "data": {
            "text/plain": [
              "159"
            ]
          },
          "metadata": {},
          "execution_count": 143
        }
      ]
    },
    {
      "cell_type": "code",
      "source": [
        "# Moda de columna sucursales\n",
        "lista_sucursales = df['sucursales']\n",
        "\n",
        "# Mostramos los elementos de menor a mayor que hay en variable sucursales\n",
        "sucursales_unicas = []\n",
        "for i in lista_sucursales:\n",
        "  if i not in sucursales_unicas:\n",
        "    sucursales_unicas.append(i)\n",
        "sucursales_unicas.sort()\n",
        "print(sucursales_unicas)"
      ],
      "metadata": {
        "colab": {
          "base_uri": "https://localhost:8080/"
        },
        "id": "tC0VJvwzsHVr",
        "outputId": "de043f8c-c8fb-4b7b-fcbf-5533b6a4367c"
      },
      "execution_count": 144,
      "outputs": [
        {
          "output_type": "stream",
          "name": "stdout",
          "text": [
            "[147, 149, 150, 154, 157, 158, 159, 161, 162, 163, 164, 166, 168, 169, 170, 173]\n"
          ]
        }
      ]
    },
    {
      "cell_type": "code",
      "source": [
        "# La moda será el elemento o elementos que tengan la misma frecuencia y que sea la mayor\n",
        "pos_sucursales_unicas = list(range(0,16,1))\n",
        "pos_sucursales = list(range(0,61,1))\n",
        "frecuencia = [0]*16\n",
        "for i in pos_sucursales_unicas:\n",
        "  for j in pos_sucursales:\n",
        "    if sucursales_unicas[i] == lista_sucursales[j]:\n",
        "      frecuencia[i] = frecuencia[i]+1\n",
        "\n",
        "print(sucursales_unicas)\n",
        "print(frecuencia)\n",
        "\n",
        "frecuencia_max = max(frecuencia)\n",
        "print('\\n La moda tiene frecuencia máxima es ' +str(frecuencia_max) +' y corresponde al valor de ' +str(sucursales_unicas[2]))\n",
        "\n"
      ],
      "metadata": {
        "colab": {
          "base_uri": "https://localhost:8080/"
        },
        "id": "0-R-MuvoobcX",
        "outputId": "b64eda17-97cb-41de-99d1-ee098bd8ba5a"
      },
      "execution_count": 146,
      "outputs": [
        {
          "output_type": "stream",
          "name": "stdout",
          "text": [
            "[147, 149, 150, 154, 157, 158, 159, 161, 162, 163, 164, 166, 168, 169, 170, 173]\n",
            "[1, 5, 15, 3, 1, 4, 6, 4, 5, 1, 3, 8, 1, 2, 1, 1]\n",
            "\n",
            " La moda tiene frecuencia máxima es 15 y corresponde al valor de 150\n"
          ]
        }
      ]
    },
    {
      "cell_type": "markdown",
      "source": [
        "## Medidas de dispersión"
      ],
      "metadata": {
        "id": "dyufnYORqbQl"
      }
    },
    {
      "cell_type": "code",
      "source": [
        "# Varianza de variable sucursales\n",
        "cantidad = list(range(0,61,1))\n",
        "n = 61\n",
        "suma = 0\n",
        "for i in cantidad:\n",
        "  suma = suma + df['sucursales'][i]\n",
        "\n",
        "media = suma/n\n",
        "x_media_cuadrada = 0\n",
        "for i in cantidad:\n",
        "  x_media_cuadrada = x_media_cuadrada + (df['sucursales'][i]-media)**2\n",
        "  \n",
        "\n",
        "varianza_muestral_sucursales = x_media_cuadrada/(n-1)\n",
        "ds_sucursales = varianza_muestral_sucursales**0.5\n",
        "\n",
        "print('La varianza muestral es ' +str(varianza_muestral_sucursales) +' y la desviación estandar es ' +str(ds_sucursales))"
      ],
      "metadata": {
        "colab": {
          "base_uri": "https://localhost:8080/"
        },
        "id": "rY0fT4eJervX",
        "outputId": "3c7c9e6d-ad89-41ac-83f6-accb5607e69e"
      },
      "execution_count": 147,
      "outputs": [
        {
          "output_type": "stream",
          "name": "stdout",
          "text": [
            "La varianza muestral es 50.20983606557379 y la desviación estandar es 7.0858899275654705\n"
          ]
        }
      ]
    },
    {
      "cell_type": "code",
      "source": [
        "# Sesgo de sucursales\n",
        "x_media_cubo = 0\n",
        "for i in cantidad:\n",
        "  x_media_cubo = x_media_cubo + (df['sucursales'][i]-media)**3\n",
        "\n",
        "sesgo = (x_media_cubo*n)/((n-1)*(n-2)*(ds_sucursales**3))\n",
        "\n",
        "print('El sesgo de la variable sucursales es: ' +str(sesgo))"
      ],
      "metadata": {
        "colab": {
          "base_uri": "https://localhost:8080/"
        },
        "id": "FqKMrznNr_ma",
        "outputId": "69d03cb5-3030-4013-90b9-54bb4a59c58b"
      },
      "execution_count": 148,
      "outputs": [
        {
          "output_type": "stream",
          "name": "stdout",
          "text": [
            "El sesgo de la variable sucursales es: 0.0949210985930596\n"
          ]
        }
      ]
    },
    {
      "cell_type": "code",
      "source": [
        "# Cuartiles en sucursales\n",
        "\n",
        "n=61\n",
        "q=4\n",
        "k=list(range(1,5,1))\n",
        "Q = []\n",
        "for i in k:\n",
        "  Q.append(int(round((i*n)/q,0)))  \n",
        "\n",
        "\n",
        "print('El 25% de los datos son menores o iguales que ' +str(sorted_series[Q[0]]))\n",
        "print('El 50% de los datos son menores o iguales que ' +str(sorted_series[Q[1]]))\n",
        "print('El 75% de los datos son menores o iguales que ' +str(sorted_series[Q[2]]))\n"
      ],
      "metadata": {
        "colab": {
          "base_uri": "https://localhost:8080/"
        },
        "id": "9zspOgD5-Ckw",
        "outputId": "67eb3bb5-7dce-4ffc-9933-0cd03e085744"
      },
      "execution_count": 156,
      "outputs": [
        {
          "output_type": "stream",
          "name": "stdout",
          "text": [
            "El 25% de los datos son menores o iguales que 150\n",
            "El 50% de los datos son menores o iguales que 159\n",
            "El 75% de los datos son menores o iguales que 166\n"
          ]
        }
      ]
    },
    {
      "cell_type": "code",
      "source": [
        "# Deciles en sucursales\n",
        "n=61\n",
        "q=10\n",
        "k=list(range(1,11,1))\n",
        "D = []\n",
        "for i in k:\n",
        "  D.append(int(round((i*n)/q,0))) \n",
        "\n",
        "\n",
        "print('El 20% de los datos son menores o iguales que ' +str(sorted_series[D[1]]))\n",
        "print('El 50% de los datos son menores o iguales que ' +str(sorted_series[D[4]]))\n",
        "print('El 70% de los datos son menores o iguales que ' +str(sorted_series[D[6]]))\n",
        "\n"
      ],
      "metadata": {
        "colab": {
          "base_uri": "https://localhost:8080/"
        },
        "id": "0V3dSwgEE3II",
        "outputId": "e8b3069a-11e6-4c37-a060-b6b8e48df22e"
      },
      "execution_count": 160,
      "outputs": [
        {
          "output_type": "stream",
          "name": "stdout",
          "text": [
            "El 20% de los datos son menores o iguales que 150\n",
            "El 50% de los datos son menores o iguales que 159\n",
            "El 70% de los datos son menores o iguales que 164\n"
          ]
        }
      ]
    },
    {
      "cell_type": "markdown",
      "source": [
        "## Comprueba si tus variables de interés son conjuntos de datos paramétricos o no paramétricos\n"
      ],
      "metadata": {
        "id": "GT1VeLV3k1jE"
      }
    },
    {
      "cell_type": "code",
      "source": [
        "# Librería para prueba de normalidad\n",
        "from scipy.stats import shapiro\n",
        "\n",
        "stat, p = shapiro(df['sucursales'])\n",
        "alpha = 0.01\n",
        "if p < alpha:\n",
        "    print(f'La distribución no parece normal con p = {round(p, 4)}')\n",
        "else:\n",
        "    print(f'La distribución parece normal con p = {round(p, 4)}')\n"
      ],
      "metadata": {
        "colab": {
          "base_uri": "https://localhost:8080/"
        },
        "id": "3Fmm6mECT3L7",
        "outputId": "b3fb90b2-4601-44b1-d10e-893558a5334f"
      },
      "execution_count": 161,
      "outputs": [
        {
          "output_type": "stream",
          "name": "stdout",
          "text": [
            "La distribución no parece normal con p = 0.0003\n"
          ]
        }
      ]
    },
    {
      "cell_type": "markdown",
      "source": [
        "## Calcula estadísticos descriptivos básicos para tus datos\n"
      ],
      "metadata": {
        "id": "S1PxFSxyUF_z"
      }
    },
    {
      "cell_type": "code",
      "source": [
        "### Activo ###\n",
        "\n",
        "# Librería para visualización gráfica\n",
        "import matplotlib.pyplot as plt\n",
        "import numpy as np\n",
        "import statistics\n",
        "\n",
        "### Descriptivos básicos ###\n",
        "\n",
        "print('Los descriptivos básicos para activos son: ')\n",
        "print(str(df['activo'].describe()))"
      ],
      "metadata": {
        "colab": {
          "base_uri": "https://localhost:8080/"
        },
        "id": "aVHgthTPlC9o",
        "outputId": "5d13c20d-0676-4ab3-a7e9-fe893beca1bb"
      },
      "execution_count": 164,
      "outputs": [
        {
          "output_type": "stream",
          "name": "stdout",
          "text": [
            "Los descriptivos básicos para activos son: \n",
            "count        61.000000\n",
            "mean     128491.719260\n",
            "std       20073.571800\n",
            "min       97312.822576\n",
            "25%      109091.709173\n",
            "50%      133110.792548\n",
            "75%      141653.445735\n",
            "max      164341.303018\n",
            "Name: activo, dtype: float64\n"
          ]
        }
      ]
    },
    {
      "cell_type": "code",
      "source": [
        "### Vista ###\n",
        "\n",
        "print('Los descriptivos básicos para vista son: ')\n",
        "print(str(df['vista'].describe()))"
      ],
      "metadata": {
        "colab": {
          "base_uri": "https://localhost:8080/"
        },
        "id": "Xb8eVt06UiED",
        "outputId": "0dc1e12e-2fdb-4943-a10c-c2974afb92ad"
      },
      "execution_count": 165,
      "outputs": [
        {
          "output_type": "stream",
          "name": "stdout",
          "text": [
            "Los descriptivos básicos para vista son: \n",
            "count       61.000000\n",
            "mean     40770.660622\n",
            "std      10263.719204\n",
            "min      28340.337574\n",
            "25%      32719.475762\n",
            "50%      37701.554214\n",
            "75%      46528.799020\n",
            "max      63035.903530\n",
            "Name: vista, dtype: float64\n"
          ]
        }
      ]
    },
    {
      "cell_type": "code",
      "source": [
        "### Plazo ###\n",
        "\n",
        "print('Los descriptivos básicos para plazo son: ')\n",
        "print(str(df['plazo'].describe()))"
      ],
      "metadata": {
        "colab": {
          "base_uri": "https://localhost:8080/"
        },
        "id": "xp3bFKeIUhyF",
        "outputId": "221d2f15-bb7e-4dd5-ca5d-26e185cd6626"
      },
      "execution_count": 166,
      "outputs": [
        {
          "output_type": "stream",
          "name": "stdout",
          "text": [
            "Los descriptivos básicos para plazo son: \n",
            "count       61.000000\n",
            "mean     49154.932857\n",
            "std       7087.349180\n",
            "min      35428.115940\n",
            "25%      44615.468429\n",
            "50%      48827.423521\n",
            "75%      54369.422715\n",
            "max      60584.039632\n",
            "Name: plazo, dtype: float64\n"
          ]
        }
      ]
    },
    {
      "cell_type": "code",
      "source": [
        "### Haz una matriz de correlación de tus datos y escribe algunas interpretaciones de la misma ###\n",
        "\n",
        "correlacion = df[['activo','vista','plazo']].corr()\n",
        "print(correlacion)  \n",
        "print('\\n' + 'La correlación entre la variable activo y vista se muestra fuerte y positiva de: ' +str('0.9351') +', podría deberse a que ambas variables han ido aumentando de manera significativa porque vista fondea a los activos \\n')\n",
        "print('La correlación entre la variable activo y plazo se muestra moderada y positiva de: ' +str('0.4558') +', es menor con esta variable y debiera ser por factores macroeconomicos, que han hecho aumentar las tasas en productos de vista \\n')\n",
        "print('La correlación entre la variable vista y plazo se muestra baja y positiva de: ' +str('0.1341') +', es baja entre y podría deberse por el tipo de plazo que manejan')\n",
        "\n",
        "\n"
      ],
      "metadata": {
        "colab": {
          "base_uri": "https://localhost:8080/"
        },
        "id": "7nEAWq0KVzxK",
        "outputId": "a9fd3649-0481-450b-8d22-67fe2d6d9499"
      },
      "execution_count": 167,
      "outputs": [
        {
          "output_type": "stream",
          "name": "stdout",
          "text": [
            "          activo     vista     plazo\n",
            "activo  1.000000  0.935123  0.455811\n",
            "vista   0.935123  1.000000  0.134052\n",
            "plazo   0.455811  0.134052  1.000000\n",
            "\n",
            "La correlación entre la variable activo y vista se muestra fuerte y positiva de: 0.9351, podría deberse a que ambas variables han ido aumentando de manera significativa porque vista fondea a los activos \n",
            "\n",
            "La correlación entre la variable activo y plazo se muestra moderada y positiva de: 0.4558, es menor con esta variable y debiera ser por factores macroeconomicos, que han hecho aumentar las tasas en productos de vista \n",
            "\n",
            "La correlación entre la variable vista y plazo se muestra baja y positiva de: 0.1341, es baja entre y podría deberse por el tipo de plazo que manejan\n"
          ]
        }
      ]
    },
    {
      "cell_type": "code",
      "source": [
        "from scipy.stats import ks_2samp\n",
        "\n",
        "# realizar la prueba de Kolmogorov-Smirnov\n",
        "stat, s = ks_2samp(df['activo'],df['vista'])\n",
        "alpha = 0.01\n",
        "if s < alpha:\n",
        "  print(f'Las variables activo y vista NO proceden de la misma distribución con p = {(s)}')\n",
        "\n",
        "else:\n",
        "  print(f'Las variables activo y vista proceden de la misma distribución con p = {(s)}')\n",
        "\n"
      ],
      "metadata": {
        "colab": {
          "base_uri": "https://localhost:8080/"
        },
        "id": "wqGR7D9yVzPS",
        "outputId": "a82369da-44eb-4487-8520-7b2719bdb04f"
      },
      "execution_count": 168,
      "outputs": [
        {
          "output_type": "stream",
          "name": "stdout",
          "text": [
            "Las variables activo y vista NO proceden de la misma distribución con p = 5.217954842124165e-36\n"
          ]
        }
      ]
    },
    {
      "cell_type": "code",
      "source": [
        "# realizar la prueba de Kolmogorov-Smirnov\n",
        "stat, s = ks_2samp(df['activo'],df['plazo'])\n",
        "alpha = 0.01\n",
        "if s < alpha:\n",
        "  print(f'Las variables activo y plazo NO proceden de la misma distribución con p = {(s)}')\n",
        "\n",
        "else:\n",
        "  print(f'Las variables activo y plazo proceden de la misma distribución con p = {(s)}')\n"
      ],
      "metadata": {
        "colab": {
          "base_uri": "https://localhost:8080/"
        },
        "id": "G50ccaFRhJ1a",
        "outputId": "3b8faf4b-d179-4450-81d2-a7ae93dfedfc"
      },
      "execution_count": 169,
      "outputs": [
        {
          "output_type": "stream",
          "name": "stdout",
          "text": [
            "Las variables activo y plazo NO proceden de la misma distribución con p = 5.217954842124165e-36\n"
          ]
        }
      ]
    },
    {
      "cell_type": "code",
      "source": [
        "# realizar la prueba de Kolmogorov-Smirnov\n",
        "stat, s = ks_2samp(df['vista'],df['plazo'])\n",
        "alpha = 0.01\n",
        "if s < alpha:\n",
        "  print(f'Las variables vista y plazo NO proceden de la misma distribución con p = {(s)}')\n",
        "\n",
        "else:\n",
        "  print(f'Las variables vista y plazo proceden de la misma distribución con p = {(s)}')\n"
      ],
      "metadata": {
        "colab": {
          "base_uri": "https://localhost:8080/"
        },
        "id": "jHpmJ31WhUyS",
        "outputId": "999b32e1-b0d1-4331-e31f-453e11cd94ba"
      },
      "execution_count": 170,
      "outputs": [
        {
          "output_type": "stream",
          "name": "stdout",
          "text": [
            "Las variables vista y plazo NO proceden de la misma distribución con p = 4.634900479037972e-07\n"
          ]
        }
      ]
    },
    {
      "cell_type": "code",
      "source": [
        "### Histograma ###\n",
        "\n",
        "# Nos ayudamos de la librería scipy para generar una función de distribución de probabilidad o pdf\n",
        "from scipy.stats import norm\n",
        "plt.figure()\n",
        "plt.hist(df['activo'], density=True)\n",
        "\n",
        "plt.plot(np.arange(97000, 164000, 1000), norm.pdf(np.arange(97000, 164000, 1000), 128491.719260, 20073.571800), label = 'Curva gaussiana')\n",
        "plt.legend()\n",
        "\n",
        "plt.title(\"activo\")\n",
        "plt.xlabel(\"saldo en mmp\")\n",
        "plt.ylabel(\"frecuencia\")\n",
        "plt.show()\n",
        "\n",
        "### Diagrama cuantil-cuantil ###\n",
        "\n",
        "# Librería para diagrama cuantil-cuantil\n",
        "from statsmodels.graphics.gofplots import qqplot\n",
        "plt.figure()\n",
        "qqplot(df['activo'], line='s')\n",
        "plt.show()\n",
        "\n",
        "### Prueba de normalidad para saber si son datos paramétricos o no ###\n",
        "\n",
        "# Librería para prueba de normalidad\n",
        "from scipy.stats import shapiro\n",
        "\n",
        "stat, p = shapiro(df['activo'])\n",
        "alpha = 0.01\n",
        "if p < alpha:\n",
        "    print(f'La distribución no parece normal con p = {round(p, 4)}, congruente con gráficos.')\n",
        "else:\n",
        "    print(f'La distribución parece normal con p = {round(p, 4)} ')\n",
        "\n",
        "\n"
      ],
      "metadata": {
        "colab": {
          "base_uri": "https://localhost:8080/",
          "height": 592
        },
        "id": "0tO2SQPQqYk8",
        "outputId": "c7e3347f-7ee9-4120-8ca6-bd19a806d69c"
      },
      "execution_count": 171,
      "outputs": [
        {
          "output_type": "display_data",
          "data": {
            "text/plain": [
              "<Figure size 432x288 with 1 Axes>"
            ],
            "image/png": "[encoded data removed]"
          },
          "metadata": {
            "needs_background": "light"
          }
        },
        {
          "output_type": "display_data",
          "data": {
            "text/plain": [
              "<Figure size 432x288 with 0 Axes>"
            ]
          },
          "metadata": {}
        },
        {
          "output_type": "display_data",
          "data": {
            "text/plain": [
              "<Figure size 432x288 with 1 Axes>"
            ],
            "image/png": "[encoded data removed]"
          },
          "metadata": {
            "needs_background": "light"
          }
        },
        {
          "output_type": "stream",
          "name": "stdout",
          "text": [
            "La distribución no parece normal con p = 0.0049, congruente con gráficos.\n"
          ]
        }
      ]
    },
    {
      "cell_type": "code",
      "source": [
        "### Histograma ###\n",
        "\n",
        "# Nos ayudamos de la librería scipy para generar una función de distribución de probabilidad o pdf\n",
        "from scipy.stats import norm\n",
        "plt.figure()\n",
        "plt.hist(df['vista'], density=True)\n",
        "\n",
        "plt.plot(np.arange(28000, 64000, 1000), norm.pdf(np.arange(28000, 64000, 1000), 40770.660622,10263.719204), label = 'Curva gaussiana')\n",
        "plt.legend()\n",
        "\n",
        "plt.title(\"vista\")\n",
        "plt.xlabel(\"saldo en mmp\")\n",
        "plt.ylabel(\"frecuencia\")\n",
        "plt.show()\n",
        "\n",
        "### Diagrama cuantil-cuantil ###\n",
        "\n",
        "# Librería para diagrama cuantil-cuantil\n",
        "from statsmodels.graphics.gofplots import qqplot\n",
        "plt.figure()\n",
        "qqplot(df['vista'], line='s')\n",
        "plt.show()\n",
        "\n",
        "### Prueba de normalidad para saber si son datos paramétricos o no ###\n",
        "\n",
        "# Librería para prueba de normalidad\n",
        "from scipy.stats import shapiro\n",
        "\n",
        "stat, p = shapiro(df['vista'])\n",
        "alpha = 0.01\n",
        "if p < alpha:\n",
        "    print(f'La distribución no parece normal con p = {round(p, 4)}, congruente con gráficos.')\n",
        "else:\n",
        "    print(f'La distribución parece normal con p = {round(p, 4)} ')\n",
        "\n",
        "\n",
        "\n"
      ],
      "metadata": {
        "colab": {
          "base_uri": "https://localhost:8080/",
          "height": 592
        },
        "id": "bnKXFx9mwIXo",
        "outputId": "2bc4c73a-2cea-46f5-9453-743e1c76624d"
      },
      "execution_count": 172,
      "outputs": [
        {
          "output_type": "display_data",
          "data": {
            "text/plain": [
              "<Figure size 432x288 with 1 Axes>"
            ],
            "image/png": "[encoded data removed]"
          },
          "metadata": {
            "needs_background": "light"
          }
        },
        {
          "output_type": "display_data",
          "data": {
            "text/plain": [
              "<Figure size 432x288 with 0 Axes>"
            ]
          },
          "metadata": {}
        },
        {
          "output_type": "display_data",
          "data": {
            "text/plain": [
              "<Figure size 432x288 with 1 Axes>"
            ],
            "image/png": "[encoded data removed]"
          },
          "metadata": {
            "needs_background": "light"
          }
        },
        {
          "output_type": "stream",
          "name": "stdout",
          "text": [
            "La distribución no parece normal con p = 0.0, congruente con gráficos.\n"
          ]
        }
      ]
    },
    {
      "cell_type": "code",
      "source": [
        "### Histograma ###\n",
        "\n",
        "# Nos ayudamos de la librería scipy para generar una función de distribución de probabilidad o pdf\n",
        "from scipy.stats import norm\n",
        "plt.figure()\n",
        "plt.hist(df['plazo'], density=True)\n",
        "\n",
        "plt.plot(np.arange(35000, 61000, 1000), norm.pdf(np.arange(35000, 61000, 1000), 49154.932857,7087.349180), label = 'Curva gaussiana')\n",
        "plt.legend()\n",
        "\n",
        "plt.title(\"plazo\")\n",
        "plt.xlabel(\"saldo en mmp\")\n",
        "plt.ylabel(\"frecuencia\")\n",
        "plt.show()\n",
        "\n",
        "### Diagrama cuantil-cuantil ###\n",
        "\n",
        "# Librería para diagrama cuantil-cuantil\n",
        "from statsmodels.graphics.gofplots import qqplot\n",
        "plt.figure()\n",
        "qqplot(df['plazo'], line='s')\n",
        "plt.show()\n",
        "\n",
        "### Prueba de normalidad para saber si son datos paramétricos o no ###\n",
        "\n",
        "# Librería para prueba de normalidad\n",
        "from scipy.stats import shapiro\n",
        "\n",
        "stat, p = shapiro(df['plazo'])\n",
        "alpha = 0.01\n",
        "if p < alpha:\n",
        "    print(f'La distribución no parece normal con p = {round(p, 4)}, congruente con gráficos.')\n",
        "else:\n",
        "    print(f'La distribución parece normal con p = {round(p, 4)} ')\n",
        "\n",
        "\n"
      ],
      "metadata": {
        "colab": {
          "base_uri": "https://localhost:8080/",
          "height": 592
        },
        "id": "HaWMrKxsi8GX",
        "outputId": "6db5b036-b816-4642-a8e2-245e9d722feb"
      },
      "execution_count": 173,
      "outputs": [
        {
          "output_type": "display_data",
          "data": {
            "text/plain": [
              "<Figure size 432x288 with 1 Axes>"
            ],
            "image/png": "[encoded data removed]"
          },
          "metadata": {
            "needs_background": "light"
          }
        },
        {
          "output_type": "display_data",
          "data": {
            "text/plain": [
              "<Figure size 432x288 with 0 Axes>"
            ]
          },
          "metadata": {}
        },
        {
          "output_type": "display_data",
          "data": {
            "text/plain": [
              "<Figure size 432x288 with 1 Axes>"
            ],
            "image/png": "[encoded data removed]"
          },
          "metadata": {
            "needs_background": "light"
          }
        },
        {
          "output_type": "stream",
          "name": "stdout",
          "text": [
            "La distribución parece normal con p = 0.0423 \n"
          ]
        }
      ]
    }
  ]
}